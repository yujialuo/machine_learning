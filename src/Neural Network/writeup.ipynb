{
 "cells": [
  {
   "cell_type": "code",
   "execution_count": 1,
   "metadata": {
    "collapsed": true,
    "deletable": true,
    "editable": true
   },
   "outputs": [],
   "source": [
    "import numpy as np\n",
    "import pandas as pd\n",
    "import scipy.ndimage\n",
    "import pickle\n",
    "import math\n",
    "from random import randint\n",
    "from IPython.display import Image\n",
    "import scipy.io as sio\n",
    "from sklearn import preprocessing\n",
    "import matplotlib.pyplot as plt"
   ]
  },
  {
   "cell_type": "markdown",
   "metadata": {
    "deletable": true,
    "editable": true
   },
   "source": [
    "# 2. Implementation"
   ]
  },
  {
   "cell_type": "markdown",
   "metadata": {},
   "source": [
    "## Kaggle Score: 0.86221 (yika)\n",
    "* max steps: 400K\n",
    "* initial learning rate: 0.01\n",
    "* regularization lambda: 0.0001"
   ]
  },
  {
   "cell_type": "markdown",
   "metadata": {
    "deletable": true,
    "editable": true
   },
   "source": [
    "### Data Preprocess"
   ]
  },
  {
   "cell_type": "code",
   "execution_count": 2,
   "metadata": {
    "collapsed": true,
    "deletable": true,
    "editable": true
   },
   "outputs": [],
   "source": [
    "def shift(X):\n",
    "    X_shift = np.zeros(X.shape)\n",
    "    X = np.reshape(np.matrix(X), (28, 28))\n",
    "    sign = -1\n",
    "    if (np.random.rand() > 0.5):\n",
    "        sign = 1\n",
    "    displacement = np.floor(np.random.rand() / 0.3) * sign\n",
    "    direction = 0\n",
    "    if (np.random.rand() > 0.5):\n",
    "        direction = 1\n",
    "    X = np.roll(X, int(displacement), axis=direction)\n",
    "    X_shift = np.reshape(X, (1, 784))\n",
    "    \n",
    "    return X_shift\n",
    "\n",
    "def rotate(X):\n",
    "    X_rotated = np.zeros(X.shape)\n",
    "    X = np.matrix(X).reshape((28, 28))\n",
    "    degree = np.random.rand() * 10\n",
    "    if np.random.rand() > 0.5:\n",
    "        degree = -degree\n",
    "    X = scipy.ndimage.interpolation.rotate(X, degree, reshape = False, mode = 'nearest')\n",
    "    X = np.reshape(X, (1, 784))\n",
    "    return X\n",
    "\n",
    "def one_hot(y):\n",
    "    hot = np.zeros([len(y), 26])\n",
    "    for i in range(len(y)):\n",
    "        hot[i][y[i][0] - 1] = 1\n",
    "    return hot\n",
    "\n",
    "def preprocess(train_x, train_y, test_x):\n",
    "    \n",
    "    train_x, test_x = preprocessing.scale(train_x), preprocessing.scale(test_x)\n",
    "    rand = np.random.permutation(len(train_x))\n",
    "    train_x, train_y = train_x[rand], train_y[rand]\n",
    "    split = 4800\n",
    "    val_x, val_y = train_x[:split], one_hot(train_y[:split])\n",
    "    train_x, train_y = train_x[split:], one_hot(train_y[split:])\n",
    "    val_x = np.c_[val_x, np.ones(val_x.shape[0]) ]\n",
    "    test_x = np.c_[test_x, np.ones(test_x.shape[0]) ]\n",
    "\n",
    "    return train_x, train_y, val_x, val_y, test_x"
   ]
  },
  {
   "cell_type": "code",
   "execution_count": 3,
   "metadata": {
    "collapsed": false,
    "deletable": true,
    "editable": true
   },
   "outputs": [
    {
     "name": "stderr",
     "output_type": "stream",
     "text": [
      "/Library/Frameworks/Python.framework/Versions/3.6/lib/python3.6/site-packages/sklearn/utils/validation.py:429: DataConversionWarning: Data with input dtype uint8 was converted to float64 by the scale function.\n",
      "  warnings.warn(msg, _DataConversionWarning)\n"
     ]
    }
   ],
   "source": [
    "data = sio.loadmat(\"data/letters_data.mat\")\n",
    "train_x = data['train_x']\n",
    "train_y = data['train_y']\n",
    "test_x = data['test_x']\n",
    "train_x, train_y, val_x, val_y, test_x = preprocess(train_x, train_y, test_x)"
   ]
  },
  {
   "cell_type": "markdown",
   "metadata": {
    "deletable": true,
    "editable": true
   },
   "source": [
    "### Graph Construction"
   ]
  },
  {
   "cell_type": "code",
   "execution_count": 3,
   "metadata": {
    "collapsed": false,
    "deletable": true,
    "editable": true
   },
   "outputs": [],
   "source": [
    "def draw_sample(x, y):\n",
    "    rand = randint(0,len(x)-1)\n",
    "    xx = x[rand]\n",
    "    yy = y[rand]\n",
    "    xx = shift(xx)\n",
    "    xx = rotate(xx)\n",
    "    xx = np.c_[xx, np.ones(xx.shape[0])]\n",
    "    return xx, yy\n",
    "    \n",
    "def tanh(z):\n",
    "    return np.tanh(z)\n",
    "\n",
    "def softmax(x):\n",
    "    return np.exp(x) / np.sum(np.exp(x), axis=0)\n",
    "\n",
    "def soft_loss(z, y, w, lam):\n",
    "    z = np.reshape(z, (1, 26))[0]\n",
    "    z[z < 1e-8] = 1e-8\n",
    "    regularization = lam * np.linalg.norm(w)\n",
    "    return -1.0 * np.dot(np.log(z), y) + regularization\n",
    "\n",
    "def save_weights(step, v, w):\n",
    "    obj = [step, v, w]\n",
    "    with open(\"saved/\"+str(step)+\".p\", \"wb\") as f:\n",
    "        pickle.dump(obj, f)\n",
    "    f.close()\n",
    "\n",
    "class Graph:\n",
    "    def __init__(self, n_hidden=400):\n",
    "        self.n_hidden = n_hidden\n",
    "        self.V = np.random.normal(loc=0, scale=1.0/math.sqrt(784), size=(self.n_hidden, 785))\n",
    "        self.W = np.random.normal(loc=0, scale=1.0/math.sqrt(self.n_hidden), size=(26, self.n_hidden+1))\n",
    "        self.val_accs, self.train_accs, self.losses, self.acc_steps, self.loss_steps = [], [], [], [], []\n",
    "        self.start = 0\n",
    "\n",
    "    def train(self, x, y, val_x, val_y, max_steps=100001, lr=1e-2, lam=0.1, stop_step=1000):\n",
    "        self.lam = lam\n",
    "        for i in range(self.start, self.start+max_steps):\n",
    "            xx, yy = draw_sample(x, y)\n",
    "            hh, zz = self._test(xx) # forward pass 26 x 1\n",
    "\n",
    "            # stochastic gradient descent\n",
    "            v_grad, w_grad = self.compute_gradients(xx, yy, hh, zz)\n",
    "            self.V -= (lr * v_grad)\n",
    "            self.W -= (lr * w_grad)\n",
    "\n",
    "            # validation\n",
    "            if i % stop_step == 0 or i == max_steps - 1:\n",
    "                val_acc = self.evaluate(val_x, val_y)\n",
    "                train_acc = self.evaluate(np.c_[train_x, np.ones(train_x.shape[0])], train_y)\n",
    "                loss = soft_loss(zz, yy, self.W, lam)\n",
    "                print(\"step {}: train acc = {}, validate acc = {}, loss = {}\".format(i, train_acc, val_acc, loss))\n",
    "                self.train_accs.append(train_acc)\n",
    "                self.val_accs.append(val_acc)\n",
    "                self.acc_steps.append(i)\n",
    "                self.losses.append(loss)\n",
    "                self.loss_steps.append(i)\n",
    "                save_weights(i, self.V, self.W)\n",
    "\n",
    "    def _test(self, xx):\n",
    "        xx = np.reshape(xx, (785, 1))\n",
    "        temp1 = np.matmul(self.V, xx)\n",
    "        h = tanh(temp1) # 401 x 1\n",
    "        h = np.append(h, [[1]], axis=0)\n",
    "        temp2 = np.matmul(self.W, h)\n",
    "        z = softmax(temp2) # 26 x 1\n",
    "        return h, z\n",
    "\n",
    "    def test(self, x):\n",
    "        x = x.T\n",
    "        temp1 = np.matmul(self.V, x)\n",
    "        h = tanh(temp1)\n",
    "        h = np.append(h, [[1]*len(x[0])], axis=0)\n",
    "        temp2 = np.matmul(self.W, h)\n",
    "        z = softmax(temp2).T\n",
    "        return h, z\n",
    "\n",
    "    def evaluate(self, x, y):\n",
    "        correct = 0\n",
    "        h, z = self.test(x)\n",
    "        labels = np.argmax(z, axis=1)\n",
    "        y = np.argmax(y, axis=1)\n",
    "        correct = np.sum(labels == y)\n",
    "        return 1.0 * correct / len(y)\n",
    "\n",
    "    def update_weights(self, step):\n",
    "        with open(\"saved/\" + str(step) + \".p\", \"rb\") as f:\n",
    "            obj = pickle.load(f)\n",
    "        f.close()\n",
    "        self.V, self.W = obj[1], obj[2]\n",
    "        self.start = step\n",
    "\n",
    "    def compute_gradients(self, x, y, h, z):\n",
    "        # W\n",
    "        y = np.reshape(y, (26, 1))\n",
    "        w_grad = 1.0 * np.matmul((z - y), h.T)\n",
    "        w_grad += 2 * self.lam * self.W\n",
    "        \n",
    "        # V\n",
    "        temp = list(np.reshape(np.matmul(self.W.T, (z - y))[:self.n_hidden], (1, self.n_hidden))[0])\n",
    "        temp2 = list(np.reshape(1 - h[:self.n_hidden] ** 2, (1, self.n_hidden))[0])\n",
    "        product = np.array([a*b for a, b in zip(temp, temp2)])\n",
    "        v_grad = np.outer(product, x)\n",
    "        v_grad += 2 * self.lam * self.V\n",
    "\n",
    "        return v_grad, w_grad"
   ]
  },
  {
   "cell_type": "code",
   "execution_count": 83,
   "metadata": {
    "collapsed": false,
    "deletable": true,
    "editable": true,
    "scrolled": false
   },
   "outputs": [
    {
     "name": "stdout",
     "output_type": "stream",
     "text": [
      "step 0: train acc = 0.044616666666666666, validate acc = 0.04, loss = 3.815016606337397\n",
      "step 2000: train acc = 0.4807166666666667, validate acc = 0.48375, loss = 2.903438655932182\n",
      "step 4000: train acc = 0.5563, validate acc = 0.5704166666666667, loss = 2.7297818390040316\n",
      "step 6000: train acc = 0.5337, validate acc = 0.54875, loss = 2.2779833866816315\n",
      "step 8000: train acc = 0.550025, validate acc = 0.554375, loss = 5.803197032927515\n",
      "step 9999: train acc = 0.52965, validate acc = 0.5308333333333334, loss = 1.9527718788282125\n"
     ]
    }
   ],
   "source": [
    "g = Graph()\n",
    "g.train(train_x, train_y, val_x, val_y, lr=0.001, lam=0.1, max_steps=10000, stop_step=2000)"
   ]
  },
  {
   "cell_type": "code",
   "execution_count": 84,
   "metadata": {
    "collapsed": false,
    "deletable": true,
    "editable": true,
    "scrolled": true
   },
   "outputs": [
    {
     "data": {
      "image/png": "[encoded data removed]",
      "text/plain": [
       "<matplotlib.figure.Figure at 0x13e383a20>"
      ]
     },
     "metadata": {},
     "output_type": "display_data"
    }
   ],
   "source": [
    "plt.plot(g.loss_steps, g.losses)\n",
    "plt.show()"
   ]
  },
  {
   "cell_type": "code",
   "execution_count": 86,
   "metadata": {
    "collapsed": false,
    "deletable": true,
    "editable": true
   },
   "outputs": [
    {
     "name": "stdout",
     "output_type": "stream",
     "text": [
      "step 10000: train acc = 0.5294333333333333, validate acc = 0.5308333333333334, loss = 2.374873648594905\n",
      "step 12000: train acc = 0.5491416666666666, validate acc = 0.550625, loss = 0.9032761042882205\n",
      "step 14000: train acc = 0.5847833333333333, validate acc = 0.588125, loss = 4.645945565034356\n",
      "step 16000: train acc = 0.6000833333333333, validate acc = 0.6014583333333333, loss = 3.370690299112182\n",
      "step 18000: train acc = 0.6094083333333333, validate acc = 0.6172916666666667, loss = 2.522286042430744\n",
      "step 20000: train acc = 0.616075, validate acc = 0.6254166666666666, loss = 1.4509633118147083\n",
      "step 22000: train acc = 0.62595, validate acc = 0.6277083333333333, loss = 1.240316814066879\n",
      "step 24000: train acc = 0.63425, validate acc = 0.6420833333333333, loss = 0.5060589764567509\n",
      "step 26000: train acc = 0.6381083333333334, validate acc = 0.644375, loss = 2.2465136616740544\n",
      "step 28000: train acc = 0.6437583333333333, validate acc = 0.6435416666666667, loss = 0.9115407745591132\n",
      "step 30000: train acc = 0.6471416666666666, validate acc = 0.6483333333333333, loss = 1.350296923045361\n",
      "step 32000: train acc = 0.65015, validate acc = 0.6564583333333334, loss = 1.048026421658969\n",
      "step 34000: train acc = 0.6562916666666667, validate acc = 0.6608333333333334, loss = 1.641385957244486\n",
      "step 36000: train acc = 0.6575083333333334, validate acc = 0.6602083333333333, loss = 0.35931417137791233\n",
      "step 38000: train acc = 0.6598833333333334, validate acc = 0.6625, loss = 0.2528256955815294\n",
      "step 40000: train acc = 0.6534833333333333, validate acc = 0.6570833333333334, loss = 3.057971061614193\n",
      "step 42000: train acc = 0.6612, validate acc = 0.66875, loss = 2.9585722499905396\n",
      "step 44000: train acc = 0.6606666666666666, validate acc = 0.6660416666666666, loss = 4.598121066205601\n",
      "step 46000: train acc = 0.6658833333333334, validate acc = 0.6664583333333334, loss = 2.1267402971575597\n",
      "step 48000: train acc = 0.6620583333333333, validate acc = 0.67, loss = 1.5714437171947337\n",
      "step 49999: train acc = 0.6648916666666667, validate acc = 0.66625, loss = 0.9585315016142746\n",
      "step 50000: train acc = 0.6645, validate acc = 0.66625, loss = 1.0639579258840368\n",
      "step 52000: train acc = 0.6671333333333334, validate acc = 0.6685416666666667, loss = 1.4932478406500118\n",
      "step 54000: train acc = 0.669725, validate acc = 0.67375, loss = 0.9919706164878862\n",
      "step 56000: train acc = 0.6741166666666667, validate acc = 0.67875, loss = 2.29223444085386\n",
      "step 58000: train acc = 0.6772166666666667, validate acc = 0.683125, loss = 1.3787377867126647\n"
     ]
    }
   ],
   "source": [
    "g.update_weights(9999)\n",
    "g.train(train_x, train_y, val_x, val_y, lr=0.001, lam=0.01, max_steps=50000, stop_step=2000)"
   ]
  },
  {
   "cell_type": "code",
   "execution_count": 89,
   "metadata": {
    "collapsed": false,
    "deletable": true,
    "editable": true
   },
   "outputs": [
    {
     "name": "stdout",
     "output_type": "stream",
     "text": [
      "step 58000: train acc = 0.6771666666666667, validate acc = 0.6833333333333333, loss = 1.2477980737142051\n",
      "step 60000: train acc = 0.673125, validate acc = 0.67625, loss = 3.0021691029771618\n",
      "step 62000: train acc = 0.6822333333333334, validate acc = 0.6879166666666666, loss = 1.1498734700545281\n",
      "step 64000: train acc = 0.67985, validate acc = 0.6845833333333333, loss = 0.08608588298087218\n",
      "step 66000: train acc = 0.6774583333333334, validate acc = 0.6804166666666667, loss = 1.0754094464550197\n",
      "step 68000: train acc = 0.6841166666666667, validate acc = 0.6864583333333333, loss = 2.755584462053031\n",
      "step 70000: train acc = 0.6914583333333333, validate acc = 0.6941666666666667, loss = 7.195007517748422\n",
      "step 72000: train acc = 0.69085, validate acc = 0.69375, loss = 0.3329105038364305\n",
      "step 74000: train acc = 0.689125, validate acc = 0.6985416666666666, loss = 2.275389730344289\n",
      "step 76000: train acc = 0.6938166666666666, validate acc = 0.6977083333333334, loss = 2.4664639910814605\n",
      "step 78000: train acc = 0.6895833333333333, validate acc = 0.6891666666666667, loss = 1.5280535916356341\n",
      "step 80000: train acc = 0.6987, validate acc = 0.705, loss = 1.578260950177723\n",
      "step 82000: train acc = 0.6979333333333333, validate acc = 0.6966666666666667, loss = 4.0967473536100165\n",
      "step 84000: train acc = 0.7003, validate acc = 0.705625, loss = 1.5984270215809706\n",
      "step 86000: train acc = 0.7019, validate acc = 0.700625, loss = 1.1229814872993007\n",
      "step 88000: train acc = 0.70455, validate acc = 0.7110416666666667, loss = 0.27270716863438865\n",
      "step 90000: train acc = 0.7060666666666666, validate acc = 0.7052083333333333, loss = 0.6648825812725379\n",
      "step 92000: train acc = 0.7071, validate acc = 0.708125, loss = 0.2025623707432069\n",
      "step 94000: train acc = 0.7056833333333333, validate acc = 0.70625, loss = 1.575165041729522\n",
      "step 96000: train acc = 0.7117, validate acc = 0.71125, loss = 2.6724283085899385\n",
      "step 98000: train acc = 0.7107583333333334, validate acc = 0.7179166666666666, loss = 0.6695005721580339\n",
      "step 100000: train acc = 0.708625, validate acc = 0.7116666666666667, loss = 0.6230516461024488\n",
      "step 102000: train acc = 0.71445, validate acc = 0.7097916666666667, loss = 0.5189181284108003\n",
      "step 104000: train acc = 0.7155416666666666, validate acc = 0.7160416666666667, loss = 2.164414997270675\n",
      "step 106000: train acc = 0.72175, validate acc = 0.72, loss = 0.1698921333804399\n"
     ]
    }
   ],
   "source": [
    "g.update_weights(58000)\n",
    "g.train(train_x, train_y, val_x, val_y, lr=0.001, lam=0.005, max_steps=50000, stop_step=2000)"
   ]
  },
  {
   "cell_type": "code",
   "execution_count": 90,
   "metadata": {
    "collapsed": false,
    "deletable": true,
    "editable": true
   },
   "outputs": [
    {
     "data": {
      "image/png": "[encoded data removed]",
      "text/plain": [
       "<matplotlib.figure.Figure at 0x142c5e978>"
      ]
     },
     "metadata": {},
     "output_type": "display_data"
    }
   ],
   "source": [
    "plt.plot(g.loss_steps, g.losses)\n",
    "plt.show()"
   ]
  },
  {
   "cell_type": "code",
   "execution_count": 91,
   "metadata": {
    "collapsed": false,
    "deletable": true,
    "editable": true
   },
   "outputs": [
    {
     "name": "stdout",
     "output_type": "stream",
     "text": [
      "step 106000: train acc = 0.7218333333333333, validate acc = 0.7208333333333333, loss = 0.7390005879986374\n",
      "step 108000: train acc = 0.7182916666666667, validate acc = 0.7197916666666667, loss = 0.06620859966617908\n",
      "step 110000: train acc = 0.7240416666666667, validate acc = 0.729375, loss = 0.3444422937133155\n",
      "step 112000: train acc = 0.7272416666666667, validate acc = 0.7320833333333333, loss = 0.207465987444473\n",
      "step 114000: train acc = 0.7282166666666666, validate acc = 0.7245833333333334, loss = 0.8483030042178319\n",
      "step 116000: train acc = 0.733075, validate acc = 0.7372916666666667, loss = 0.8740848528713372\n",
      "step 118000: train acc = 0.7312416666666667, validate acc = 0.7335416666666666, loss = 1.8633922417352156\n",
      "step 120000: train acc = 0.7330916666666667, validate acc = 0.7416666666666667, loss = 0.23891038921680305\n",
      "step 122000: train acc = 0.7379333333333333, validate acc = 0.74, loss = 0.1093527872271058\n",
      "step 124000: train acc = 0.736, validate acc = 0.74, loss = 0.21999283461931796\n",
      "step 126000: train acc = 0.7395916666666666, validate acc = 0.7429166666666667, loss = 0.20517781581401698\n",
      "step 128000: train acc = 0.7407083333333333, validate acc = 0.7410416666666667, loss = 0.35693790941223286\n",
      "step 130000: train acc = 0.7457916666666666, validate acc = 0.7429166666666667, loss = 0.11176174547976127\n",
      "step 132000: train acc = 0.7487166666666667, validate acc = 0.7479166666666667, loss = 1.796725829568693\n",
      "step 134000: train acc = 0.7519, validate acc = 0.754375, loss = 0.955923168115346\n",
      "step 136000: train acc = 0.752625, validate acc = 0.7504166666666666, loss = 0.06549863646423756\n",
      "step 138000: train acc = 0.7581083333333334, validate acc = 0.7564583333333333, loss = 2.9343599700534124\n",
      "step 140000: train acc = 0.7594833333333333, validate acc = 0.756875, loss = 1.828567321089299\n",
      "step 142000: train acc = 0.7597833333333334, validate acc = 0.761875, loss = 0.1890383250844607\n",
      "step 144000: train acc = 0.7622833333333333, validate acc = 0.7635416666666667, loss = 1.1668434867562092\n",
      "step 146000: train acc = 0.7657166666666667, validate acc = 0.7672916666666667, loss = 0.123360070116587\n",
      "step 148000: train acc = 0.7657916666666666, validate acc = 0.7652083333333334, loss = 1.3049155982668785\n",
      "step 150000: train acc = 0.7657166666666667, validate acc = 0.7670833333333333, loss = 2.273695036790842\n",
      "step 152000: train acc = 0.7693166666666666, validate acc = 0.7654166666666666, loss = 0.9675705158738774\n",
      "step 154000: train acc = 0.774, validate acc = 0.7733333333333333, loss = 3.4139257373524163\n",
      "step 156000: train acc = 0.7759, validate acc = 0.7745833333333333, loss = 0.06680172690424178\n",
      "step 158000: train acc = 0.7765416666666667, validate acc = 0.7783333333333333, loss = 0.33891341058882446\n",
      "step 160000: train acc = 0.7733583333333334, validate acc = 0.7752083333333334, loss = 0.880001202442573\n",
      "step 162000: train acc = 0.7804833333333333, validate acc = 0.780625, loss = 0.569501138582996\n",
      "step 164000: train acc = 0.7836833333333333, validate acc = 0.78375, loss = 1.4255584180505252\n",
      "step 166000: train acc = 0.7832166666666667, validate acc = 0.7814583333333334, loss = 0.71986683408298\n",
      "step 168000: train acc = 0.7860333333333334, validate acc = 0.78375, loss = 0.16792151383776846\n",
      "step 170000: train acc = 0.7831833333333333, validate acc = 0.7816666666666666, loss = 0.4176867999223109\n",
      "step 172000: train acc = 0.7897, validate acc = 0.7858333333333334, loss = 1.0090603803126292\n",
      "step 174000: train acc = 0.7898166666666666, validate acc = 0.7875, loss = 0.9463176915175089\n",
      "step 176000: train acc = 0.7905666666666666, validate acc = 0.7875, loss = 0.03160247955730109\n",
      "step 178000: train acc = 0.7896166666666666, validate acc = 0.7904166666666667, loss = 0.8543417053267914\n",
      "step 180000: train acc = 0.79535, validate acc = 0.791875, loss = 0.043363645302264775\n",
      "step 182000: train acc = 0.7945416666666667, validate acc = 0.7960416666666666, loss = 0.8522159147505011\n",
      "step 184000: train acc = 0.7955583333333334, validate acc = 0.7925, loss = 0.33205768697680543\n",
      "step 186000: train acc = 0.7974083333333334, validate acc = 0.79625, loss = 0.05276922949437596\n",
      "step 188000: train acc = 0.80015, validate acc = 0.806875, loss = 0.20867641092617778\n",
      "step 190000: train acc = 0.8015333333333333, validate acc = 0.800625, loss = 0.059307485448253705\n",
      "step 192000: train acc = 0.8009083333333333, validate acc = 0.799375, loss = 2.2596058437592945\n",
      "step 194000: train acc = 0.8007916666666667, validate acc = 0.7966666666666666, loss = 1.9821854213294376\n",
      "step 196000: train acc = 0.8037583333333334, validate acc = 0.8045833333333333, loss = 1.7277997776874194\n",
      "step 198000: train acc = 0.8056916666666667, validate acc = 0.8079166666666666, loss = 2.239466943057001\n",
      "step 200000: train acc = 0.8071583333333333, validate acc = 0.8072916666666666, loss = 1.276669680601104\n",
      "step 202000: train acc = 0.8111083333333333, validate acc = 0.81, loss = 0.16716834631453553\n",
      "step 204000: train acc = 0.8138666666666666, validate acc = 0.8122916666666666, loss = 1.4931625125878054\n"
     ]
    }
   ],
   "source": [
    "g.update_weights(106000)\n",
    "g.train(train_x, train_y, val_x, val_y, lr=0.001, lam=0.001, max_steps=100000, stop_step=2000)"
   ]
  },
  {
   "cell_type": "code",
   "execution_count": 92,
   "metadata": {
    "collapsed": false,
    "deletable": true,
    "editable": true
   },
   "outputs": [
    {
     "name": "stdout",
     "output_type": "stream",
     "text": [
      "step 204000: train acc = 0.8138916666666667, validate acc = 0.8127083333333334, loss = 0.4051470298607587\n",
      "step 206000: train acc = 0.8098416666666667, validate acc = 0.81375, loss = 0.058438839411486185\n",
      "step 208000: train acc = 0.8120083333333333, validate acc = 0.814375, loss = 0.6358518547468712\n",
      "step 210000: train acc = 0.81195, validate acc = 0.81625, loss = 0.12127524156633171\n",
      "step 212000: train acc = 0.8120166666666667, validate acc = 0.8108333333333333, loss = 0.06408477371208651\n",
      "step 214000: train acc = 0.81765, validate acc = 0.8189583333333333, loss = 0.2354432769572472\n",
      "step 216000: train acc = 0.8156083333333334, validate acc = 0.8160416666666667, loss = 0.16240647986737008\n",
      "step 218000: train acc = 0.8163333333333334, validate acc = 0.815, loss = 0.30993449805764817\n",
      "step 220000: train acc = 0.8186, validate acc = 0.8122916666666666, loss = 0.08789309666580634\n",
      "step 222000: train acc = 0.81865, validate acc = 0.8202083333333333, loss = 0.33523823120305324\n",
      "step 224000: train acc = 0.82115, validate acc = 0.8189583333333333, loss = 0.5691448263197444\n",
      "step 226000: train acc = 0.819975, validate acc = 0.8164583333333333, loss = 1.0915141728705398\n",
      "step 228000: train acc = 0.8219666666666666, validate acc = 0.8208333333333333, loss = 1.1004066933334382\n",
      "step 230000: train acc = 0.823525, validate acc = 0.819375, loss = 2.724576322386624\n",
      "step 232000: train acc = 0.8238, validate acc = 0.8202083333333333, loss = 0.326306294426441\n",
      "step 234000: train acc = 0.82425, validate acc = 0.8227083333333334, loss = 0.22891196858311652\n",
      "step 236000: train acc = 0.8246666666666667, validate acc = 0.8241666666666667, loss = 0.7910601134289318\n",
      "step 238000: train acc = 0.8254833333333333, validate acc = 0.823125, loss = 0.3377943781184202\n",
      "step 240000: train acc = 0.8241416666666667, validate acc = 0.8272916666666666, loss = 0.742791491257519\n",
      "step 242000: train acc = 0.8255833333333333, validate acc = 0.8310416666666667, loss = 0.5040892868012119\n",
      "step 244000: train acc = 0.8318833333333333, validate acc = 0.8279166666666666, loss = 0.421159606539701\n",
      "step 246000: train acc = 0.8250333333333333, validate acc = 0.8229166666666666, loss = 0.46572749030497884\n",
      "step 248000: train acc = 0.8245333333333333, validate acc = 0.8252083333333333, loss = 0.34220272876398905\n",
      "step 250000: train acc = 0.8333, validate acc = 0.8254166666666667, loss = 0.03223097915226828\n",
      "step 252000: train acc = 0.8326916666666667, validate acc = 0.8279166666666666, loss = 1.6874495297725103\n",
      "step 254000: train acc = 0.82965, validate acc = 0.8314583333333333, loss = 0.685126895255392\n",
      "step 256000: train acc = 0.835225, validate acc = 0.8327083333333334, loss = 0.18513291474653698\n",
      "step 258000: train acc = 0.83415, validate acc = 0.8310416666666667, loss = 2.00390492850292\n",
      "step 260000: train acc = 0.8333416666666666, validate acc = 0.8329166666666666, loss = 0.382272375250323\n",
      "step 262000: train acc = 0.8327416666666667, validate acc = 0.8322916666666667, loss = 0.16255232908602613\n",
      "step 264000: train acc = 0.8354, validate acc = 0.8345833333333333, loss = 0.3187836101264035\n",
      "step 266000: train acc = 0.8368416666666667, validate acc = 0.8320833333333333, loss = 7.199189086104267\n",
      "step 268000: train acc = 0.8366416666666666, validate acc = 0.833125, loss = 0.013751610501707187\n",
      "step 270000: train acc = 0.8397083333333333, validate acc = 0.8377083333333334, loss = 2.4879815782639665\n",
      "step 272000: train acc = 0.8383916666666666, validate acc = 0.8395833333333333, loss = 0.4028459488933565\n",
      "step 274000: train acc = 0.840575, validate acc = 0.8395833333333333, loss = 0.9540127622840072\n",
      "step 276000: train acc = 0.8371416666666667, validate acc = 0.83625, loss = 1.5073287775728452\n",
      "step 278000: train acc = 0.8355666666666667, validate acc = 0.8358333333333333, loss = 1.6763938097786346\n",
      "step 280000: train acc = 0.8402833333333334, validate acc = 0.836875, loss = 0.2867473966535351\n",
      "step 282000: train acc = 0.84125, validate acc = 0.8375, loss = 0.20357792467450864\n",
      "step 284000: train acc = 0.8378666666666666, validate acc = 0.8397916666666667, loss = 2.0615777583250567\n",
      "step 286000: train acc = 0.8405166666666667, validate acc = 0.8383333333333334, loss = 0.05589948820871933\n",
      "step 288000: train acc = 0.8411583333333333, validate acc = 0.8372916666666667, loss = 5.77784685631859\n",
      "step 290000: train acc = 0.8437666666666667, validate acc = 0.8402083333333333, loss = 2.6499848317021493\n",
      "step 292000: train acc = 0.841675, validate acc = 0.8410416666666667, loss = 0.24958570910692635\n",
      "step 294000: train acc = 0.8423666666666667, validate acc = 0.8427083333333333, loss = 0.0449350414974952\n",
      "step 296000: train acc = 0.842625, validate acc = 0.841875, loss = 0.32984147862389157\n",
      "step 298000: train acc = 0.842425, validate acc = 0.8370833333333333, loss = 0.1054164667533456\n",
      "step 300000: train acc = 0.84535, validate acc = 0.8464583333333333, loss = 0.2885330720227662\n",
      "step 302000: train acc = 0.8458416666666667, validate acc = 0.8452083333333333, loss = 0.44741153856653887\n"
     ]
    }
   ],
   "source": [
    "g.update_weights(204000)\n",
    "g.train(train_x, train_y, val_x, val_y, lr=0.001, lam=0.001, max_steps=100000, stop_step=2000)"
   ]
  },
  {
   "cell_type": "code",
   "execution_count": 93,
   "metadata": {
    "collapsed": false,
    "deletable": true,
    "editable": true
   },
   "outputs": [
    {
     "name": "stdout",
     "output_type": "stream",
     "text": [
      "step 302000: train acc = 0.8458833333333333, validate acc = 0.845, loss = 0.07808695257481907\n",
      "step 304000: train acc = 0.8467, validate acc = 0.8439583333333334, loss = 1.464771530522225\n",
      "step 306000: train acc = 0.8468, validate acc = 0.8422916666666667, loss = 0.37413649843026187\n",
      "step 308000: train acc = 0.84745, validate acc = 0.8445833333333334, loss = 0.9242776101453914\n",
      "step 310000: train acc = 0.843575, validate acc = 0.8454166666666667, loss = 0.4001388010740366\n",
      "step 312000: train acc = 0.8468, validate acc = 0.8464583333333333, loss = 0.09620066753392754\n",
      "step 314000: train acc = 0.8485583333333333, validate acc = 0.8479166666666667, loss = 1.1079551891894073\n",
      "step 316000: train acc = 0.8497833333333333, validate acc = 0.8502083333333333, loss = 0.8261110665439763\n",
      "step 318000: train acc = 0.8501833333333333, validate acc = 0.84875, loss = 0.03335114843106739\n",
      "step 320000: train acc = 0.8462916666666667, validate acc = 0.8404166666666667, loss = 0.4325780568063292\n",
      "step 322000: train acc = 0.8510916666666667, validate acc = 0.8472916666666667, loss = 2.3909510928334132\n",
      "step 324000: train acc = 0.85205, validate acc = 0.85125, loss = 0.02482050024778321\n",
      "step 326000: train acc = 0.8525916666666666, validate acc = 0.8510416666666667, loss = 3.074239910919517\n",
      "step 328000: train acc = 0.850075, validate acc = 0.85, loss = 0.05162404644943425\n",
      "step 330000: train acc = 0.8520416666666667, validate acc = 0.8508333333333333, loss = 0.34517637214443514\n",
      "step 332000: train acc = 0.8495416666666666, validate acc = 0.85, loss = 0.09253469726217617\n",
      "step 334000: train acc = 0.8511916666666667, validate acc = 0.8535416666666666, loss = 0.09579485854921381\n",
      "step 336000: train acc = 0.8549583333333334, validate acc = 0.849375, loss = 2.1743062952617636\n",
      "step 338000: train acc = 0.846725, validate acc = 0.8429166666666666, loss = 0.05666893159613195\n",
      "step 340000: train acc = 0.8538, validate acc = 0.8502083333333333, loss = 2.2482066336034197\n",
      "step 342000: train acc = 0.8521666666666666, validate acc = 0.8510416666666667, loss = 2.58740159967789\n",
      "step 344000: train acc = 0.853625, validate acc = 0.84875, loss = 0.07429752723675889\n",
      "step 346000: train acc = 0.8533333333333334, validate acc = 0.85, loss = 2.3994663746592173\n",
      "step 348000: train acc = 0.8552083333333333, validate acc = 0.8525, loss = 0.36462991578469456\n",
      "step 350000: train acc = 0.8507416666666666, validate acc = 0.8483333333333334, loss = 0.16094804977413465\n"
     ]
    }
   ],
   "source": [
    "g.update_weights(302000)\n",
    "g.train(train_x, train_y, val_x, val_y, lr=0.001, lam=0.001, max_steps=50000, stop_step=2000)"
   ]
  },
  {
   "cell_type": "code",
   "execution_count": 94,
   "metadata": {
    "collapsed": false,
    "deletable": true,
    "editable": true
   },
   "outputs": [
    {
     "name": "stdout",
     "output_type": "stream",
     "text": [
      "step 348000: train acc = 0.8552083333333333, validate acc = 0.8525, loss = 0.09290991384860402\n",
      "step 350000: train acc = 0.8564583333333333, validate acc = 0.8516666666666667, loss = 0.3020323660530507\n",
      "step 352000: train acc = 0.8568333333333333, validate acc = 0.853125, loss = 0.5551241014943079\n",
      "step 354000: train acc = 0.8580333333333333, validate acc = 0.855, loss = 1.441946045079818\n",
      "step 356000: train acc = 0.858975, validate acc = 0.8564583333333333, loss = 0.4799132729760404\n",
      "step 358000: train acc = 0.8594083333333333, validate acc = 0.8535416666666666, loss = 0.061937561121453086\n",
      "step 360000: train acc = 0.8601166666666666, validate acc = 0.8558333333333333, loss = 0.2974307076112502\n",
      "step 362000: train acc = 0.8609666666666667, validate acc = 0.8570833333333333, loss = 0.6877345618658223\n",
      "step 364000: train acc = 0.8615333333333334, validate acc = 0.8583333333333333, loss = 0.08180936318405577\n",
      "step 366000: train acc = 0.8625166666666667, validate acc = 0.8572916666666667, loss = 0.1057837589234257\n",
      "step 368000: train acc = 0.86265, validate acc = 0.85875, loss = 0.12662931840125996\n",
      "step 370000: train acc = 0.862475, validate acc = 0.85875, loss = 2.8539546040600223\n",
      "step 372000: train acc = 0.8629666666666667, validate acc = 0.8591666666666666, loss = 4.272554734843437\n",
      "step 374000: train acc = 0.8636416666666666, validate acc = 0.858125, loss = 0.06407904274910421\n",
      "step 376000: train acc = 0.8639833333333333, validate acc = 0.8583333333333333, loss = 0.14879291007839857\n",
      "step 378000: train acc = 0.8639916666666667, validate acc = 0.856875, loss = 0.2142431197848158\n",
      "step 380000: train acc = 0.8644916666666667, validate acc = 0.8575, loss = 0.07886849693799707\n",
      "step 382000: train acc = 0.8650583333333334, validate acc = 0.8583333333333333, loss = 0.48223870272169783\n",
      "step 384000: train acc = 0.8655666666666667, validate acc = 0.8579166666666667, loss = 0.28527576653553266\n",
      "step 386000: train acc = 0.8656, validate acc = 0.8595833333333334, loss = 0.046180558766670265\n",
      "step 388000: train acc = 0.8654666666666667, validate acc = 0.8585416666666666, loss = 0.20055429335714167\n",
      "step 390000: train acc = 0.8660666666666667, validate acc = 0.8585416666666666, loss = 0.19358348160065475\n",
      "step 392000: train acc = 0.8660666666666667, validate acc = 0.8597916666666666, loss = 0.1754037961364632\n",
      "step 394000: train acc = 0.8661916666666667, validate acc = 0.8585416666666666, loss = 0.07367533749240725\n",
      "step 396000: train acc = 0.8662666666666666, validate acc = 0.859375, loss = 0.06638828069528999\n",
      "step 398000: train acc = 0.8660916666666667, validate acc = 0.8608333333333333, loss = 4.145237346908687\n",
      "step 400000: train acc = 0.866025, validate acc = 0.8597916666666666, loss = 0.7764314249378548\n",
      "step 402000: train acc = 0.866475, validate acc = 0.8602083333333334, loss = 2.3106538438476587\n",
      "step 404000: train acc = 0.8663083333333333, validate acc = 0.8591666666666666, loss = 1.7127530602102738\n",
      "step 406000: train acc = 0.866575, validate acc = 0.860625, loss = 0.05083452176535806\n",
      "step 408000: train acc = 0.8668833333333333, validate acc = 0.8622916666666667, loss = 0.07272885397645626\n",
      "step 410000: train acc = 0.8673666666666666, validate acc = 0.8572916666666667, loss = 0.5329076358044369\n",
      "step 412000: train acc = 0.8668166666666667, validate acc = 0.8610416666666667, loss = 0.9134487632917446\n",
      "step 414000: train acc = 0.8675166666666667, validate acc = 0.8614583333333333, loss = 0.03182869043892151\n",
      "step 416000: train acc = 0.8675, validate acc = 0.8608333333333333, loss = 0.07268649759146892\n",
      "step 418000: train acc = 0.8674083333333333, validate acc = 0.861875, loss = 0.01609598373744728\n",
      "step 420000: train acc = 0.8669416666666667, validate acc = 0.8585416666666666, loss = 0.18520887148440937\n",
      "step 422000: train acc = 0.8671916666666667, validate acc = 0.8614583333333333, loss = 0.36828944931613944\n",
      "step 424000: train acc = 0.8676166666666667, validate acc = 0.8589583333333334, loss = 0.21799722278706174\n",
      "step 426000: train acc = 0.8674166666666666, validate acc = 0.8597916666666666, loss = 0.1056803995024262\n",
      "step 428000: train acc = 0.8679083333333333, validate acc = 0.86, loss = 0.4069456180746932\n",
      "step 430000: train acc = 0.8676583333333333, validate acc = 0.8602083333333334, loss = 0.6531951636487293\n",
      "step 432000: train acc = 0.8679, validate acc = 0.8604166666666667, loss = 0.22779741883151428\n",
      "step 434000: train acc = 0.86755, validate acc = 0.8610416666666667, loss = 0.2015035229602315\n",
      "step 436000: train acc = 0.867225, validate acc = 0.8608333333333333, loss = 0.2401337332926879\n",
      "step 438000: train acc = 0.868125, validate acc = 0.8635416666666667, loss = 0.061614587819352404\n",
      "step 440000: train acc = 0.868175, validate acc = 0.861875, loss = 0.03555303614811221\n",
      "step 442000: train acc = 0.8681833333333333, validate acc = 0.8625, loss = 0.07973556667346243\n",
      "step 444000: train acc = 0.8690416666666667, validate acc = 0.861875, loss = 2.094433877028979\n",
      "step 446000: train acc = 0.8691166666666666, validate acc = 0.8610416666666667, loss = 0.08625704109885025\n"
     ]
    }
   ],
   "source": [
    "g.update_weights(348000)\n",
    "g.train(train_x, train_y, val_x, val_y, lr=1e-4, lam=0.001, max_steps=100000, stop_step=2000)"
   ]
  },
  {
   "cell_type": "code",
   "execution_count": 95,
   "metadata": {
    "collapsed": false,
    "deletable": true,
    "editable": true
   },
   "outputs": [
    {
     "data": {
      "image/png": "[encoded data removed]",
      "text/plain": [
       "<matplotlib.figure.Figure at 0x13e2baf60>"
      ]
     },
     "metadata": {},
     "output_type": "display_data"
    }
   ],
   "source": [
    "plt.plot(g.loss_steps, g.losses)\n",
    "plt.show()"
   ]
  },
  {
   "cell_type": "code",
   "execution_count": 97,
   "metadata": {
    "collapsed": false,
    "deletable": true,
    "editable": true
   },
   "outputs": [
    {
     "name": "stdout",
     "output_type": "stream",
     "text": [
      "step 438000: train acc = 0.8680916666666667, validate acc = 0.8635416666666667, loss = 1.3905679202807977\n",
      "step 440000: train acc = 0.868425, validate acc = 0.8610416666666667, loss = 0.3433082875399257\n",
      "step 442000: train acc = 0.868775, validate acc = 0.8625, loss = 0.0850846977937013\n",
      "step 444000: train acc = 0.8684166666666666, validate acc = 0.863125, loss = 0.9893703166294514\n",
      "step 446000: train acc = 0.8686083333333333, validate acc = 0.8625, loss = 1.4393931144068401\n",
      "step 448000: train acc = 0.8689333333333333, validate acc = 0.86125, loss = 0.58293725136665\n",
      "step 450000: train acc = 0.869075, validate acc = 0.8616666666666667, loss = 0.06588222370307836\n",
      "step 452000: train acc = 0.8691083333333334, validate acc = 0.8625, loss = 0.024341330191307346\n",
      "step 454000: train acc = 0.8687916666666666, validate acc = 0.8597916666666666, loss = 0.37682573268677977\n",
      "step 456000: train acc = 0.8692833333333333, validate acc = 0.8604166666666667, loss = 0.17239669775356486\n"
     ]
    }
   ],
   "source": [
    "g.update_weights(438000)\n",
    "g.train(train_x, train_y, val_x, val_y, lr=1e-4, lam=0.001, max_steps=20000, stop_step=2000)"
   ]
  },
  {
   "cell_type": "markdown",
   "metadata": {
    "deletable": true,
    "editable": true
   },
   "source": [
    "# 3. Visualization"
   ]
  },
  {
   "cell_type": "code",
   "execution_count": 39,
   "metadata": {
    "collapsed": false,
    "deletable": true,
    "editable": true
   },
   "outputs": [
    {
     "data": {
      "text/plain": [
       "array([False,  True, False, False,  True, False,  True,  True,  True,\n",
       "       False,  True,  True,  True,  True,  True], dtype=bool)"
      ]
     },
     "execution_count": 39,
     "metadata": {},
     "output_type": "execute_result"
    }
   ],
   "source": [
    "g = Graph()\n",
    "g.update_weights(438000)\n",
    "z = g.test(val_x)[1]\n",
    "z = np.argmax(z, axis=1) + 1\n",
    "y = np.argmax(val_y, axis=1) + 1\n",
    "a = z==y\n",
    "a[:15]"
   ]
  },
  {
   "cell_type": "code",
   "execution_count": 51,
   "metadata": {
    "collapsed": true,
    "deletable": true,
    "editable": true
   },
   "outputs": [],
   "source": [
    "def plot_image(i):\n",
    "    image = val_x[i][:-1].reshape((28, 28))\n",
    "    print(\"predicted: {}, true value: {}\".format(z[i], y[i]))\n",
    "    plt.imshow(image, cmap='gray')\n",
    "    plt.show()"
   ]
  },
  {
   "cell_type": "markdown",
   "metadata": {
    "deletable": true,
    "editable": true
   },
   "source": [
    "### Correct Images"
   ]
  },
  {
   "cell_type": "code",
   "execution_count": 52,
   "metadata": {
    "collapsed": false,
    "deletable": true,
    "editable": true
   },
   "outputs": [
    {
     "name": "stdout",
     "output_type": "stream",
     "text": [
      "predicted: 2, true value: 2\n"
     ]
    },
    {
     "data": {
      "image/png": "[encoded data removed]",
      "text/plain": [
       "<matplotlib.figure.Figure at 0x11c8f85f8>"
      ]
     },
     "metadata": {},
     "output_type": "display_data"
    }
   ],
   "source": [
    "plot_image(1)"
   ]
  },
  {
   "cell_type": "code",
   "execution_count": 53,
   "metadata": {
    "collapsed": false,
    "deletable": true,
    "editable": true
   },
   "outputs": [
    {
     "name": "stdout",
     "output_type": "stream",
     "text": [
      "predicted: 7, true value: 7\n"
     ]
    },
    {
     "data": {
      "image/png": "[encoded data removed]",
      "text/plain": [
       "<matplotlib.figure.Figure at 0x11c7caf98>"
      ]
     },
     "metadata": {},
     "output_type": "display_data"
    }
   ],
   "source": [
    "plot_image(4)"
   ]
  },
  {
   "cell_type": "code",
   "execution_count": 54,
   "metadata": {
    "collapsed": false,
    "deletable": true,
    "editable": true
   },
   "outputs": [
    {
     "name": "stdout",
     "output_type": "stream",
     "text": [
      "predicted: 23, true value: 23\n"
     ]
    },
    {
     "data": {
      "image/png": "[encoded data removed]",
      "text/plain": [
       "<matplotlib.figure.Figure at 0x11cbdf710>"
      ]
     },
     "metadata": {},
     "output_type": "display_data"
    }
   ],
   "source": [
    "plot_image(6)"
   ]
  },
  {
   "cell_type": "code",
   "execution_count": 55,
   "metadata": {
    "collapsed": false,
    "deletable": true,
    "editable": true
   },
   "outputs": [
    {
     "name": "stdout",
     "output_type": "stream",
     "text": [
      "predicted: 23, true value: 23\n"
     ]
    },
    {
     "data": {
      "image/png": "[encoded data removed]",
      "text/plain": [
       "<matplotlib.figure.Figure at 0x11cab3f60>"
      ]
     },
     "metadata": {},
     "output_type": "display_data"
    }
   ],
   "source": [
    "plot_image(7)"
   ]
  },
  {
   "cell_type": "code",
   "execution_count": 56,
   "metadata": {
    "collapsed": false,
    "deletable": true,
    "editable": true,
    "scrolled": true
   },
   "outputs": [
    {
     "name": "stdout",
     "output_type": "stream",
     "text": [
      "predicted: 2, true value: 2\n"
     ]
    },
    {
     "data": {
      "image/png": "[encoded data removed]",
      "text/plain": [
       "<matplotlib.figure.Figure at 0x11c7dc2e8>"
      ]
     },
     "metadata": {},
     "output_type": "display_data"
    }
   ],
   "source": [
    "plot_image(8)"
   ]
  },
  {
   "cell_type": "markdown",
   "metadata": {
    "deletable": true,
    "editable": true
   },
   "source": [
    "### Wrong Images"
   ]
  },
  {
   "cell_type": "code",
   "execution_count": 57,
   "metadata": {
    "collapsed": false,
    "deletable": true,
    "editable": true
   },
   "outputs": [
    {
     "name": "stdout",
     "output_type": "stream",
     "text": [
      "predicted: 26, true value: 17\n"
     ]
    },
    {
     "data": {
      "image/png": "[encoded data removed]",
      "text/plain": [
       "<matplotlib.figure.Figure at 0x11b77abe0>"
      ]
     },
     "metadata": {},
     "output_type": "display_data"
    }
   ],
   "source": [
    "plot_image(0)"
   ]
  },
  {
   "cell_type": "code",
   "execution_count": 58,
   "metadata": {
    "collapsed": false,
    "deletable": true,
    "editable": true
   },
   "outputs": [
    {
     "name": "stdout",
     "output_type": "stream",
     "text": [
      "predicted: 16, true value: 6\n"
     ]
    },
    {
     "data": {
      "image/png": "[encoded data removed]",
      "text/plain": [
       "<matplotlib.figure.Figure at 0x11cb510f0>"
      ]
     },
     "metadata": {},
     "output_type": "display_data"
    }
   ],
   "source": [
    "plot_image(2)"
   ]
  },
  {
   "cell_type": "code",
   "execution_count": 59,
   "metadata": {
    "collapsed": false,
    "deletable": true,
    "editable": true
   },
   "outputs": [
    {
     "name": "stdout",
     "output_type": "stream",
     "text": [
      "predicted: 4, true value: 20\n"
     ]
    },
    {
     "data": {
      "image/png": "[encoded data removed]",
      "text/plain": [
       "<matplotlib.figure.Figure at 0x104eac438>"
      ]
     },
     "metadata": {},
     "output_type": "display_data"
    }
   ],
   "source": [
    "plot_image(3)"
   ]
  },
  {
   "cell_type": "code",
   "execution_count": 60,
   "metadata": {
    "collapsed": false,
    "deletable": true,
    "editable": true,
    "scrolled": true
   },
   "outputs": [
    {
     "name": "stdout",
     "output_type": "stream",
     "text": [
      "predicted: 9, true value: 10\n"
     ]
    },
    {
     "data": {
      "image/png": "[encoded data removed]",
      "text/plain": [
       "<matplotlib.figure.Figure at 0x11c1c7b38>"
      ]
     },
     "metadata": {},
     "output_type": "display_data"
    }
   ],
   "source": [
    "plot_image(5)"
   ]
  },
  {
   "cell_type": "code",
   "execution_count": 61,
   "metadata": {
    "collapsed": false,
    "deletable": true,
    "editable": true
   },
   "outputs": [
    {
     "name": "stdout",
     "output_type": "stream",
     "text": [
      "predicted: 12, true value: 9\n"
     ]
    },
    {
     "data": {
      "image/png": "[encoded data removed]",
      "text/plain": [
       "<matplotlib.figure.Figure at 0x11c69fef0>"
      ]
     },
     "metadata": {},
     "output_type": "display_data"
    }
   ],
   "source": [
    "plot_image(9)"
   ]
  },
  {
   "cell_type": "markdown",
   "metadata": {
    "deletable": true,
    "editable": true
   },
   "source": [
    "# 4. Bells and Whistles"
   ]
  },
  {
   "cell_type": "markdown",
   "metadata": {
    "deletable": true,
    "editable": true
   },
   "source": [
    "Strategies I used:\n",
    "* Increase number of hidden units to 400\n",
    "* Decrease learning rate as the validation accuracy converges\n",
    "* Add L2 regularization\n",
    "* During preprocessing, normalize, shift and rotate training data\n",
    "* Save weights as checkpoints regularly\n",
    "* stop the training when validation accuracy stop increasing"
   ]
  },
  {
   "cell_type": "code",
   "execution_count": 14,
   "metadata": {
    "collapsed": true,
    "deletable": true,
    "editable": true
   },
   "outputs": [],
   "source": [
    "g = Graph()\n",
    "g.update_weights(438000)\n",
    "y = g.test(test_x)[1]\n",
    "y = np.argmax(y, axis=1)\n",
    "y = y+1"
   ]
  },
  {
   "cell_type": "code",
   "execution_count": 18,
   "metadata": {
    "collapsed": true,
    "deletable": true,
    "editable": true
   },
   "outputs": [],
   "source": [
    "df = pd.DataFrame(data = y, columns=[\"Category\"]) \n",
    "df.index += 1 \n",
    "df.index.name = \"Id\"\n",
    "df.to_csv(\"result.csv\")"
   ]
  }
 ],
 "metadata": {
  "kernelspec": {
   "display_name": "Python 3",
   "language": "python",
   "name": "python3"
  },
  "language_info": {
   "codemirror_mode": {
    "name": "ipython",
    "version": 3
   },
   "file_extension": ".py",
   "mimetype": "text/x-python",
   "name": "python",
   "nbconvert_exporter": "python",
   "pygments_lexer": "ipython3",
   "version": "3.6.0"
  }
 },
 "nbformat": 4,
 "nbformat_minor": 2
}
