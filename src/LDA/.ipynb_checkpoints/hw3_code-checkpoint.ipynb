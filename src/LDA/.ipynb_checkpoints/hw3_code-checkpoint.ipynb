{
 "cells": [
  {
   "cell_type": "code",
   "execution_count": 1,
   "metadata": {
    "collapsed": false,
    "deletable": true,
    "editable": true
   },
   "outputs": [],
   "source": [
    "import numpy as np\n",
    "import matplotlib.pyplot as plt\n",
    "import scipy.io\n",
    "from scipy.stats import multivariate_normal\n",
    "import math\n",
    "%matplotlib inline"
   ]
  },
  {
   "cell_type": "markdown",
   "metadata": {
    "deletable": true,
    "editable": true
   },
   "source": [
    "# 2. Isocontours of Normal Distributions  \n",
    "Reference: https://docs.scipy.org/doc/scipy-0.14.0/reference/generated/scipy.stats.multivariate_normal.html"
   ]
  },
  {
   "cell_type": "code",
   "execution_count": 2,
   "metadata": {
    "collapsed": true,
    "deletable": true,
    "editable": true
   },
   "outputs": [],
   "source": [
    "def isocontours(mu, sig, x, y):\n",
    "    pos = np.empty(x.shape + (2,)) \n",
    "    pos[:, :, 0] = x\n",
    "    pos[:, :, 1] = y\n",
    "    rv = multivariate_normal(mu, sig) \n",
    "    fig = plt.figure()\n",
    "    plot = fig.add_subplot(1.2,1.7,1) \n",
    "    return plot.contourf(x, y, rv.pdf(pos))\n",
    "\n",
    "def two_isocontours(mu1, mu2, sig1, sig2, x, y):\n",
    "    pos = np.empty(x.shape + (2,)) \n",
    "    pos[:, :, 0] = x\n",
    "    pos[:, :, 1] = y \n",
    "    rv1 = multivariate_normal(mu1, sig1) \n",
    "    rv2 = multivariate_normal(mu2, sig2) \n",
    "    fig = plt.figure()\n",
    "    plot = fig.add_subplot(1.2,1.7,1)\n",
    "    return plot.contourf(x, y, rv1.pdf(pos) - rv2.pdf(pos))"
   ]
  },
  {
   "cell_type": "code",
   "execution_count": 3,
   "metadata": {
    "collapsed": false,
    "deletable": true,
    "editable": true
   },
   "outputs": [
    {
     "data": {
      "text/plain": [
       "<matplotlib.contour.QuadContourSet at 0x107e885f8>"
      ]
     },
     "execution_count": 3,
     "metadata": {},
     "output_type": "execute_result"
    },
    {
     "data": {
      "image/png": "[encoded data removed]",
      "text/plain": [
       "<matplotlib.figure.Figure at 0x107a56198>"
      ]
     },
     "metadata": {},
     "output_type": "display_data"
    }
   ],
   "source": [
    "# (a)\n",
    "mu = [1, 1]\n",
    "sig = [[1,0],[0,2]]\n",
    "x, y = np.mgrid[-2:4:.01, -3:5:0.01] \n",
    "a = isocontours(mu, sig, x, y)\n",
    "a"
   ]
  },
  {
   "cell_type": "code",
   "execution_count": 4,
   "metadata": {
    "collapsed": false,
    "deletable": true,
    "editable": true
   },
   "outputs": [
    {
     "data": {
      "text/plain": [
       "<matplotlib.contour.QuadContourSet at 0x10cae7e10>"
      ]
     },
     "execution_count": 4,
     "metadata": {},
     "output_type": "execute_result"
    },
    {
     "data": {
      "image/png": "[encoded data removed]",
      "text/plain": [
       "<matplotlib.figure.Figure at 0x107f42080>"
      ]
     },
     "metadata": {},
     "output_type": "display_data"
    }
   ],
   "source": [
    "# (b)\n",
    "mu = [-1, 2]\n",
    "sig = [[2,1],[1,3]]\n",
    "x, y = np.mgrid[-5:3:.01, -3:7:.01] \n",
    "b = isocontours(mu, sig, x, y)\n",
    "b"
   ]
  },
  {
   "cell_type": "code",
   "execution_count": 5,
   "metadata": {
    "collapsed": false,
    "deletable": true,
    "editable": true
   },
   "outputs": [
    {
     "data": {
      "text/plain": [
       "<matplotlib.contour.QuadContourSet at 0x1112f0438>"
      ]
     },
     "execution_count": 5,
     "metadata": {},
     "output_type": "execute_result"
    },
    {
     "data": {
      "image/png": "[encoded data removed]",
      "text/plain": [
       "<matplotlib.figure.Figure at 0x107fac470>"
      ]
     },
     "metadata": {},
     "output_type": "display_data"
    }
   ],
   "source": [
    "# (c)\n",
    "mu1 = [0, 2]\n",
    "mu2 = [2, 0]\n",
    "sig = [[2,1],[1,1]]\n",
    "x, y = np.mgrid[-4:6:.01, -4:6:.01] \n",
    "c = two_isocontours(mu1, mu2, sig, sig, x, y)\n",
    "c"
   ]
  },
  {
   "cell_type": "code",
   "execution_count": 6,
   "metadata": {
    "collapsed": false,
    "deletable": true,
    "editable": true
   },
   "outputs": [
    {
     "data": {
      "text/plain": [
       "<matplotlib.contour.QuadContourSet at 0x1143b0588>"
      ]
     },
     "execution_count": 6,
     "metadata": {},
     "output_type": "execute_result"
    },
    {
     "data": {
      "image/png": "[encoded data removed]",
      "text/plain": [
       "<matplotlib.figure.Figure at 0x10cb10ac8>"
      ]
     },
     "metadata": {},
     "output_type": "display_data"
    }
   ],
   "source": [
    "# (d)\n",
    "mu1 = [0, 2]\n",
    "mu2 = [2, 0]\n",
    "sig1 = [[2,1],[1,1]]\n",
    "sig2 = [[2, 1], [1, 3]]\n",
    "x, y = np.mgrid[-4:6:.01, -4:6:.01] \n",
    "d = two_isocontours(mu1, mu2, sig1, sig2, x, y)\n",
    "d"
   ]
  },
  {
   "cell_type": "code",
   "execution_count": 7,
   "metadata": {
    "collapsed": false,
    "deletable": true,
    "editable": true
   },
   "outputs": [
    {
     "data": {
      "text/plain": [
       "<matplotlib.contour.QuadContourSet at 0x11611ac50>"
      ]
     },
     "execution_count": 7,
     "metadata": {},
     "output_type": "execute_result"
    },
    {
     "data": {
      "image/png": "[encoded data removed]",
      "text/plain": [
       "<matplotlib.figure.Figure at 0x1154297f0>"
      ]
     },
     "metadata": {},
     "output_type": "display_data"
    }
   ],
   "source": [
    "# (3)\n",
    "mu1 = [1, 1]\n",
    "mu2 = [-1, -1]\n",
    "sig1 = [[2, 0],[0, 1]]\n",
    "sig2 = [[2, 1], [1, 2]]\n",
    "x, y = np.mgrid[-5:5:.01, -4:4:.01] \n",
    "e = two_isocontours(mu1, mu2, sig1, sig2, x, y)\n",
    "e"
   ]
  },
  {
   "cell_type": "markdown",
   "metadata": {
    "deletable": true,
    "editable": true
   },
   "source": [
    "# 3. Eigenvectors of the Gaussian Covariance Matrix"
   ]
  },
  {
   "cell_type": "code",
   "execution_count": 18,
   "metadata": {
    "collapsed": false,
    "deletable": true,
    "editable": true
   },
   "outputs": [
    {
     "data": {
      "image/png": "[encoded data removed]",
      "text/plain": [
       "<matplotlib.figure.Figure at 0x107ebd9b0>"
      ]
     },
     "metadata": {},
     "output_type": "display_data"
    }
   ],
   "source": [
    "# randomly draw 100 sample points\n",
    "n = 100\n",
    "x1 = np.random.normal(3, 3, n)\n",
    "x2 = 0.5 * x1 + np.random.normal(4, 2, n) \n",
    "fig, axes = plt.subplots()\n",
    "axes.scatter(x1, x2)\n",
    "plt.show()"
   ]
  },
  {
   "cell_type": "code",
   "execution_count": 19,
   "metadata": {
    "collapsed": false,
    "deletable": true,
    "editable": true
   },
   "outputs": [
    {
     "name": "stdout",
     "output_type": "stream",
     "text": [
      "x1 mean =  2.95932073974\n",
      "x2 mean =  5.49994510123\n"
     ]
    }
   ],
   "source": [
    "# (a)\n",
    "x1_mean = np.mean(x1)\n",
    "x2_mean = np.mean(x2)\n",
    "print(\"x1 mean = \", x1_mean)\n",
    "print(\"x2 mean = \", x2_mean)"
   ]
  },
  {
   "cell_type": "code",
   "execution_count": 20,
   "metadata": {
    "collapsed": false,
    "deletable": true,
    "editable": true
   },
   "outputs": [
    {
     "name": "stdout",
     "output_type": "stream",
     "text": [
      "Covariance Matrix = \n",
      " [[ 10.43613528   5.47600768]\n",
      " [  5.47600768   7.34461899]]\n"
     ]
    }
   ],
   "source": [
    "# (b)\n",
    "m = np.cov(x1, x2)\n",
    "print(\"Covariance Matrix = \\n\", m)"
   ]
  },
  {
   "cell_type": "code",
   "execution_count": 21,
   "metadata": {
    "collapsed": false,
    "deletable": true,
    "editable": true
   },
   "outputs": [
    {
     "name": "stdout",
     "output_type": "stream",
     "text": [
      "Eigenvalues: \n",
      " [ 14.58037084   3.20038344]\n",
      "Eigenvectors: \n",
      " [[ 0.79739029 -0.60346394]\n",
      " [ 0.60346394  0.79739029]]\n"
     ]
    }
   ],
   "source": [
    "# (c)\n",
    "evalue, evectors = np.linalg.eig(m)\n",
    "print(\"Eigenvalues: \\n\", evalue)\n",
    "print(\"Eigenvectors: \\n\", evectors)"
   ]
  },
  {
   "cell_type": "code",
   "execution_count": 26,
   "metadata": {
    "collapsed": false,
    "deletable": true,
    "editable": true
   },
   "outputs": [
    {
     "data": {
      "image/png": "[encoded data removed]",
      "text/plain": [
       "<matplotlib.figure.Figure at 0x107cdf160>"
      ]
     },
     "metadata": {},
     "output_type": "display_data"
    }
   ],
   "source": [
    "# (d)\n",
    "arrow1 = evalue[0] * evectors[:,0] \n",
    "arrow2 = evectors[:, 1] * evalue[1] \n",
    "\n",
    "# Plot\n",
    "fig, axes = plt.subplots()\n",
    "axes.scatter(x1, x2)\n",
    "plt.quiver(x1_mean, x2_mean, arrow1[0], arrow1[1], angles='xy', scale_units='xy', scale=1 ,color='r')\n",
    "plt.quiver(x1_mean, x2_mean, arrow2[0], arrow2[1], angles='xy', scale_units='xy', scale=1, color='r')\n",
    "plt.axis([-15,15, -15,15])\n",
    "plt.show()"
   ]
  },
  {
   "cell_type": "code",
   "execution_count": 27,
   "metadata": {
    "collapsed": false,
    "deletable": true,
    "editable": true
   },
   "outputs": [
    {
     "data": {
      "image/png": "[encoded data removed]",
      "text/plain": [
       "<matplotlib.figure.Figure at 0x107b09438>"
      ]
     },
     "metadata": {},
     "output_type": "display_data"
    }
   ],
   "source": [
    "# (e)\n",
    "x1_centered = np.reshape(np.subtract(x1, x1_mean), (len(x1), 1))\n",
    "x2_centered = np.reshape(np.subtract(x2, x2_mean), (len(x2), 1)) \n",
    "x_centered = np.hstack([x1_centered, x2_centered])\n",
    "x_rotated = []\n",
    "for ptr in x_centered:\n",
    "    new_ptr = np.matrix(evectors).T * np.reshape(ptr, (2, 1))\n",
    "    x_rotated.append([new_ptr[0, 0], new_ptr[1, 0]])\n",
    "\n",
    "x_rotated = np.array(x_rotated)\n",
    "x1 = x_rotated[:, 0]\n",
    "x2 = x_rotated[:, 1]\n",
    "\n",
    "plt.axis([-15, 15, -15, 15]) \n",
    "plt.plot(x1, x2, 'bo') \n",
    "plt.show()"
   ]
  },
  {
   "cell_type": "code",
   "execution_count": null,
   "metadata": {
    "collapsed": true
   },
   "outputs": [],
   "source": []
  }
 ],
 "metadata": {
  "kernelspec": {
   "display_name": "Python 3",
   "language": "python",
   "name": "python3"
  },
  "language_info": {
   "codemirror_mode": {
    "name": "ipython",
    "version": 3
   },
   "file_extension": ".py",
   "mimetype": "text/x-python",
   "name": "python",
   "nbconvert_exporter": "python",
   "pygments_lexer": "ipython3",
   "version": "3.6.0"
  }
 },
 "nbformat": 4,
 "nbformat_minor": 2
}
