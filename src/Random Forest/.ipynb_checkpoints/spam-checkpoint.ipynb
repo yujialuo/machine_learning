{
 "cells": [
  {
   "cell_type": "code",
   "execution_count": 1,
   "metadata": {
    "collapsed": false,
    "deletable": true,
    "editable": true
   },
   "outputs": [],
   "source": [
    "import matplotlib.pyplot as plt\n",
    "import scipy.io as sio\n",
    "from scipy.stats import multivariate_normal\n",
    "import numpy as np\n",
    "import pandas as pd\n",
    "import math\n",
    "from sklearn.preprocessing import normalize\n",
    "from sklearn.feature_extraction.text import TfidfVectorizer \n",
    "%matplotlib inline\n",
    "import glob as g\n",
    "import re\n",
    "from DecisionTree import *"
   ]
  },
  {
   "cell_type": "code",
   "execution_count": 28,
   "metadata": {
    "collapsed": false
   },
   "outputs": [],
   "source": [
    "df = pd.read_csv('spam/spam_clean.csv', sep=',')\n",
    "df.reindex(np.random.permutation(df.index))\n",
    "y = np.array(df[df.columns[346]])\n",
    "df = df.drop(df.columns[[0, 346]], axis=1)\n",
    "x = np.array(df)\n",
    "\n",
    "n = 5000\n",
    "train_x = x[n:]\n",
    "train_y = y[n:]\n",
    "val_x = x[:n]\n",
    "val_y = y[:n]\n",
    "\n",
    "test_data = pd.read_csv(\"spam/spam_test_clean.csv\")\n",
    "test_data = test_data.drop(test_data.columns[0], axis=1)"
   ]
  },
  {
   "cell_type": "markdown",
   "metadata": {},
   "source": [
    "## Decision Tree"
   ]
  },
  {
   "cell_type": "code",
   "execution_count": null,
   "metadata": {
    "collapsed": true
   },
   "outputs": [],
   "source": [
    "dt = DecisionTree(maxDepth=10, n=10)\n",
    "dt.train(dt.root, train_x, train_y)\n",
    "dt.evaluate(val_x, val_y)"
   ]
  },
  {
   "cell_type": "code",
   "execution_count": null,
   "metadata": {
    "collapsed": true
   },
   "outputs": [],
   "source": [
    "y = dt.predict(test_data.values)\n",
    "df = pd.DataFrame(data = y, columns=[\"Category\"]) \n",
    "# df.index += 1 \n",
    "df.index.name = \"Id\"\n",
    "df.to_csv(\"spam/spam_DT.csv\")"
   ]
  },
  {
   "cell_type": "markdown",
   "metadata": {},
   "source": [
    "## Random Forest"
   ]
  },
  {
   "cell_type": "code",
   "execution_count": null,
   "metadata": {
    "collapsed": true
   },
   "outputs": [],
   "source": [
    "rf = RandomForest(max_depth=10, num_trees=100, sample_size=math.sqrt(len(train_x)))\n",
    "rf.train(train_x, train_y)\n",
    "rf.evaluate(val_x, val_y)"
   ]
  },
  {
   "cell_type": "code",
   "execution_count": null,
   "metadata": {
    "collapsed": true
   },
   "outputs": [],
   "source": [
    "y = rf.predict(test_data.values)\n",
    "df = pd.DataFrame(data = y, columns=[\"Category\"]) \n",
    "# df.index += 1 \n",
    "df.index.name = \"Id\"\n",
    "df.to_csv(\"spam/spam_RF.csv\")"
   ]
  }
 ],
 "metadata": {
  "kernelspec": {
   "display_name": "Python 3",
   "language": "python",
   "name": "python3"
  },
  "language_info": {
   "codemirror_mode": {
    "name": "ipython",
    "version": 3
   },
   "file_extension": ".py",
   "mimetype": "text/x-python",
   "name": "python",
   "nbconvert_exporter": "python",
   "pygments_lexer": "ipython3",
   "version": "3.6.0"
  }
 },
 "nbformat": 4,
 "nbformat_minor": 2
}
