{
 "cells": [
  {
   "cell_type": "code",
   "execution_count": 93,
   "metadata": {
    "collapsed": false,
    "deletable": true,
    "editable": true
   },
   "outputs": [
    {
     "name": "stdout",
     "output_type": "stream",
     "text": [
      "The autoreload extension is already loaded. To reload it, use:\n",
      "  %reload_ext autoreload\n"
     ]
    }
   ],
   "source": [
    "import math\n",
    "import pandas as pd\n",
    "import matplotlib.pyplot as plt\n",
    "import numpy as np\n",
    "from scipy.stats import multivariate_normal\n",
    "import pickle\n",
    "\n",
    "%matplotlib inline\n",
    "%load_ext autoreload\n",
    "%autoreload 2"
   ]
  },
  {
   "cell_type": "markdown",
   "metadata": {
    "deletable": true,
    "editable": true
   },
   "source": [
    "## 1. Deicison Tree Code"
   ]
  },
  {
   "cell_type": "code",
   "execution_count": 88,
   "metadata": {
    "collapsed": true,
    "deletable": true,
    "editable": true
   },
   "outputs": [],
   "source": [
    "class Node:\n",
    "    def __init__(self, depth):\n",
    "        self.qda = False\n",
    "        self.left = None\n",
    "        self.right = None\n",
    "        self.threshold = None\n",
    "        self.feature_index = None\n",
    "        self.depth = depth\n",
    "\n",
    "        self.isLeaf = False\n",
    "        self.label = None\n",
    "        self.mu1, self.sig1, self.mu2, self.sig2, self.prior1, self.prior2 = None, None, None, None, None, None\n",
    "        "
   ]
  },
  {
   "cell_type": "code",
   "execution_count": null,
   "metadata": {
    "collapsed": true,
    "deletable": true,
    "editable": true
   },
   "outputs": [],
   "source": [
    "class DecisionTree:\n",
    "    def __init__(self, maxDepth=None, n=3, features=None, size_limit=10, qda=True):\n",
    "        self.qda = qda\n",
    "        self.root = Node(0)\n",
    "        self.nodes = []\n",
    "        self.maxDepth = maxDepth\n",
    "        self.n_thres = n\n",
    "        self.features = features\n",
    "        self.size_limit = size_limit\n",
    "\n",
    "    def train(self, curr, x, y):\n",
    "        if not curr:\n",
    "            pass\n",
    "        elif (not self.entropy(y)) or (curr.depth == self.maxDepth) or (len(x) <= self.size_limit): # Leaf\n",
    "            counts = np.bincount(y)\n",
    "            curr.label = np.argmax(counts)\n",
    "            curr.isLeaf = True\n",
    "        else:\n",
    "            curr.feature_index, curr.threshold = self.segmentor(x, y)\n",
    "            leftX, leftY, rightX, rightY = self.split(x, y, threshold=curr.threshold, i=curr.feature_index)\n",
    "            \n",
    "            if self.qda:\n",
    "                if self.entropy(y) > 0.1 and curr.depth < 2:\n",
    "                    curr.mu1, curr.sig1, curr.mu2, curr.sig2, curr.prior1, curr.prior2 = self.extract_qda_info(x, y)\n",
    "                    leftX_Q, leftY_Q, rightX_Q, rightY_Q = self.qda_split(x, y, mu1=curr.mu1, sig1=curr.sig1, \n",
    "                                                                          mu2=curr.mu2, sig2=curr.sig2, \n",
    "                                                                          prior1=curr.prior1, prior2=curr.prior2)\n",
    "                    if self.impurity(leftY_Q, rightY_Q) < self.impurity(leftY, rightY):\n",
    "                        leftX, leftY, rightX, rightY = leftX_Q, leftY_Q, rightX_Q, rightY_Q\n",
    "                        curr.qda = True\n",
    "            else:\n",
    "                if leftY:\n",
    "                    curr.left = Node(curr.depth+1)\n",
    "                    self.train(curr.left, leftX, leftY)\n",
    "\n",
    "                if rightY:\n",
    "                    curr.right = Node(curr.depth+1)\n",
    "                    self.train(curr.right, rightX, rightY)\n",
    "\n",
    "    def predict(self, x):\n",
    "        y_hat = []\n",
    "        for sample in x:\n",
    "            y_hat.append(self._predict(sample))\n",
    "        return y_hat\n",
    "\n",
    "    def _predict(self, x): # x is one sample\n",
    "        curr = self.root\n",
    "        while not curr.isLeaf:\n",
    "            if curr.qda and len(x) == len(curr.mu1):\n",
    "                    curr = curr.left\n",
    "                else:\n",
    "                    curr = curr.right\n",
    "            else:\n",
    "                if x[curr.feature_index] < curr.threshold:\n",
    "                    curr = curr.left\n",
    "                else:\n",
    "                    curr = curr.right\n",
    "        return curr.label\n",
    "\n",
    "    def evaluate(self, x, y):\n",
    "        y_hat = self.predict(x)\n",
    "        accuracy = np.mean(np.equal(y, y_hat).astype(int))\n",
    "        return accuracy\n",
    "\n",
    "    def entropy(self, s):\n",
    "        _, counts = np.unique(s, return_counts=True)\n",
    "        entro = 1.0 * counts / len(s) * np.log(counts / len(s))\n",
    "        return -np.sum(entro)\n",
    "\n",
    "    def segmentor(self, x, y):\n",
    "        # Find best (feature, threshold) pair\n",
    "        x_reshape = np.transpose(x)\n",
    "        impurities = []\n",
    "        for f in range(len(x[0])): # Find best threshold for each feature\n",
    "            thresholds = np.linspace(int(min(x_reshape[f])), int(max(x_reshape[f])), self.n_thres)\n",
    "            temp = {}\n",
    "            for thr in thresholds:\n",
    "                leftX, leftY, rightX, rightY = self.split(x, y, threshold=thr, i=f)\n",
    "                imp = self.impurity(leftY, rightY)\n",
    "                temp[thr] = imp\n",
    "            min_thr = min(temp, key=temp.get)\n",
    "            impurities.append([min_thr, temp[min_thr]]) # Threshold, Impurity\n",
    "        f_i = np.argmin([a[1] for a in impurities])\n",
    "        return f_i, impurities[f_i][0]\n",
    "\n",
    "    def split(self, x, y, threshold=None, i=None, mu1=None, sig1=None, mu2=None, sig=None, prior1=None, prior2=None):\n",
    "        leftX, leftY, rightX, rightY = [], [], [], []\n",
    "        if self.qda:\n",
    "            for i in range(len(x)):\n",
    "                pr1 = multivariate_normal.logpdf(x[i], mu1, sig1 + 0.001 * np.identity(sig1.shape[0])) + prior1\n",
    "                pr2 = multivariate_normal.logpdf(x[i], mu2, sig0 + 0.001 * np.identity(sig2.shape[0])) + prior2\n",
    "                if pr1 - pr2 > 0:\n",
    "                    leftX.append(x[i])\n",
    "                    leftY.append(y[i])\n",
    "                else:\n",
    "                    rightX.append(x[i])\n",
    "                    rightY.append(y[i])\n",
    "            return leftX, leftY, rightX, rightY\n",
    "        \n",
    "        for j in range(len(x)):\n",
    "            if x[j][i] < threshold:\n",
    "                leftX.append(x[j])\n",
    "                leftY.append(y[j])\n",
    "            else:\n",
    "                rightX.append(x[j])\n",
    "                rightY.append(y[j])\n",
    "        return leftX, leftY, rightX, rightY\n",
    "\n",
    "    def impurity(self, leftY, rightY):\n",
    "        lenL, lenR = len(leftY), len(rightY)\n",
    "        h_after = 1.0 * (self.entropy(leftY) * lenL + self.entropy(rightY) * lenR) / (lenL + lenR)\n",
    "        return h_after\n",
    "    \n",
    "    def visualize(self):\n",
    "        # Feature name, split rule, class\n",
    "        def _print(node, num):\n",
    "            if node:\n",
    "                if not node.isLeaf:\n",
    "                    print('level ', str(num), '-', 'feature:', self.features[node.feature_index], \n",
    "                          ';','split:', node.threshold)\n",
    "                else:\n",
    "                    print('level ', str(num), '-', 'class:', str(node.label))\n",
    "                \n",
    "        _print(self.root, 1)\n",
    "        _print(self.root.left, 2); _print(self.root.right, 2)\n",
    "        _print(self.root.left.left, 3); _print(self.root.left.right, 3)\n",
    "        _print(self.root.right.left, 3); _print(self.root.right.right, 3)\n",
    "\n",
    "    def extract_qda_info(self, x, y):\n",
    "        length = len(x)\n",
    "        x1, x2, y1, y2 = [], [], [], []\n",
    "        for i in range(length):\n",
    "            if y[i] == 0:\n",
    "                x1.append(x[i])\n",
    "                y1.append(y[i])\n",
    "            else:\n",
    "                x2.append(x[i])\n",
    "                y2.append(y[i])\n",
    "        return np.mean(x_0, axis=0), \n",
    "                np.cov(x_0, rowvar=False), \n",
    "                np.mean(x_1, axis=0), \n",
    "                np.cov(x_1, rowvar=False), \n",
    "                1.0 * math.log((np.count_nonzero(y == 0.0) + 1) / length, \n",
    "                1.0 * math.log(np.count_nonzero(y == 1.0) + 1) / length\n"
   ]
  },
  {
   "cell_type": "markdown",
   "metadata": {
    "deletable": true,
    "editable": true
   },
   "source": [
    "## 2. Random Forest Code"
   ]
  },
  {
   "cell_type": "code",
   "execution_count": 91,
   "metadata": {
    "collapsed": true,
    "deletable": true,
    "editable": true
   },
   "outputs": [],
   "source": [
    "from random import randrange\n",
    "\n",
    "class RandomForest:\n",
    "    def __init__(self, max_depth=None, num_trees=None, sample_size=None, features=None, n=3):\n",
    "        self.trees = []\n",
    "        self.sample_size = sample_size\n",
    "        self.num_trees = num_trees\n",
    "        self.max_depth = max_depth\n",
    "        self.features = features\n",
    "        self.n = n\n",
    "\n",
    "    def train(self, x, y):\n",
    "        for i in range(self.num_trees):\n",
    "            sub_x, sub_y = self.sample(x, y)\n",
    "            tree = DecisionTree(maxDepth=self.max_depth, n=self.n, features=self.features)\n",
    "            tree.train(tree.root, sub_x, sub_y)\n",
    "            self.trees.append(tree)\n",
    "\n",
    "    def predict(self, x):\n",
    "        y_hat = []\n",
    "        for sample in x: # For each point\n",
    "            logits = []\n",
    "            for tree in self.trees: # For each decision tree\n",
    "                logits.append(tree._predict(sample))\n",
    "            best = max(set(logits), key=logits.count)\n",
    "            y_hat.append(best)\n",
    "        return y_hat\n",
    "\n",
    "    def evaluate(self, x, y):\n",
    "        y_hat = self.predict(x)\n",
    "        accuracy = np.mean(np.equal(y, y_hat).astype(int))\n",
    "        return accuracy\n",
    "\n",
    "    def sample(self, x, y):\n",
    "        sub_x, sub_y = [], []\n",
    "        while len(sub_x) < self.sample_size:\n",
    "            i = randrange(len(x))\n",
    "            sub_x.append(x[i])\n",
    "            sub_y.append(y[i])\n",
    "        return sub_x, sub_y\n",
    "    "
   ]
  },
  {
   "cell_type": "markdown",
   "metadata": {
    "deletable": true,
    "editable": true
   },
   "source": [
    "## 3. Implementation Details"
   ]
  },
  {
   "cell_type": "markdown",
   "metadata": {
    "deletable": true,
    "editable": true
   },
   "source": [
    "(a) How did you deal with categorical features and missing values?  \n",
    "* For categorical features, I vectorize them. For missing values, I replace them with the mode (the value that occurs most frequently. (Implementation details are in preprocess.ipynb  \n",
    "\n",
    "(b) What was your stopping criteria?  \n",
    "* Two criteria: if all samples in this node have the same y values, stop; if the tree has reached the maximum depth i set beforehand, stop.  \n",
    "\n",
    "(c) Did did do anything special to speed up training?  \n",
    "* I did not do anything fancy. I just avoid writing necessary loops in segmantor function  \n",
    "\n",
    "(d) How did you implement random forests? \n",
    "* I set a sample size n and the number of trees I want in my forest. Everytime I construct a tree, I randomly extract n points from the training data and use my Decision Tree class to construct it.  \n",
    "\n",
    "(e) Anything else cool you implemented?  \n",
    "* Both my classifiers are pretty standard because they have reached a good enough result"
   ]
  },
  {
   "cell_type": "markdown",
   "metadata": {
    "deletable": true,
    "editable": true
   },
   "source": [
    "## 4. Evaluation"
   ]
  },
  {
   "cell_type": "markdown",
   "metadata": {
    "deletable": true,
    "editable": true
   },
   "source": [
    "### Census\n",
    "* Census Decision Tree Training Accuracy: 0.86160\n",
    "* Census Decision Tree Validation Accuracy: 0.85640\n",
    "* Census Random Forest Training Accuracy: 0.84057\n",
    "* Census Random Forest Validation Accuracy: 0.84499 "
   ]
  },
  {
   "cell_type": "code",
   "execution_count": 44,
   "metadata": {
    "collapsed": true,
    "deletable": true,
    "editable": true
   },
   "outputs": [],
   "source": [
    "# Data\n",
    "df = pd.read_csv('census/census_clean.csv', sep=',')\n",
    "df.reindex(np.random.permutation(df.index))\n",
    "y = np.array(df.label)\n",
    "del df['label']\n",
    "df = df.drop(df.columns[0], axis=1)\n",
    "x = np.array(df)\n",
    "census_columns = df.columns.tolist()\n",
    "\n",
    "n = 5000\n",
    "train_x = x[n:]\n",
    "train_y = y[n:]\n",
    "val_x = x[:n]\n",
    "val_y = y[:n]\n",
    "\n",
    "test_data = pd.read_csv(\"census/census_test_clean.csv\")\n",
    "diff = list(set(census_columns) - set(test_data.columns.tolist()))\n",
    "for c in diff:\n",
    "    test_data[c] = 0\n",
    "test_data = test_data[census_columns]"
   ]
  },
  {
   "cell_type": "code",
   "execution_count": 6,
   "metadata": {
    "collapsed": false,
    "deletable": true,
    "editable": true
   },
   "outputs": [
    {
     "name": "stdout",
     "output_type": "stream",
     "text": [
      "Census Decision Tree: train acc = 0.8616000577117299, validate acc = 0.8564\n"
     ]
    }
   ],
   "source": [
    "# Decision Tree\n",
    "cdt = DecisionTree(maxDepth=10, n=10, features=census_columns)\n",
    "cdt.train(cdt.root, train_x, train_y)\n",
    "train_acc = cdt.evaluate(train_x, train_y)\n",
    "val_acc = cdt.evaluate(val_x, val_y)\n",
    "print(\"Census Decision Tree: train acc = {}, validate acc = {}\".format(train_acc, val_acc))"
   ]
  },
  {
   "cell_type": "code",
   "execution_count": 7,
   "metadata": {
    "collapsed": false,
    "deletable": true,
    "editable": true
   },
   "outputs": [
    {
     "name": "stdout",
     "output_type": "stream",
     "text": [
      "Census Random Forest: train acc = 0.838262876929736, validate acc = 0.841\n"
     ]
    }
   ],
   "source": [
    "# Random Forest\n",
    "crf = RandomForest(max_depth=10, num_trees=50, sample_size=math.sqrt(len(train_x)), features=census_columns)\n",
    "crf.train(train_x, train_y)\n",
    "train_acc = crf.evaluate(train_x, train_y)\n",
    "val_acc = crf.evaluate(val_x, val_y)\n",
    "print(\"Census Random Forest: train acc = {}, validate acc = {}\".format(train_acc, val_acc))"
   ]
  },
  {
   "cell_type": "code",
   "execution_count": 8,
   "metadata": {
    "collapsed": true,
    "deletable": true,
    "editable": true
   },
   "outputs": [],
   "source": [
    "y = cdt.predict(test_data.values)\n",
    "df = pd.DataFrame(data = y, columns=[\"Category\"]) \n",
    "df.index += 1 \n",
    "df.index.name = \"Id\"\n",
    "df.to_csv(\"census/census_DT.csv\")"
   ]
  },
  {
   "cell_type": "markdown",
   "metadata": {
    "deletable": true,
    "editable": true
   },
   "source": [
    "### Titanic\n",
    "* Titanic Decision Tree Training Accuracy: 0.88666\n",
    "* Titanic Decision Tree Validation Accuracy: 0.80000\n",
    "* Titanic Random Forest Training Accuracy: 0.806666\n",
    "* Titanic Random Forest Validation Accuracy: 0.80000\n"
   ]
  },
  {
   "cell_type": "code",
   "execution_count": 89,
   "metadata": {
    "collapsed": true,
    "deletable": true,
    "editable": true
   },
   "outputs": [],
   "source": [
    "# Data\n",
    "df = pd.read_csv('titanic/titanic_clean.csv', sep=',')\n",
    "df.reindex(np.random.permutation(df.index))\n",
    "y = np.array(df.survived)\n",
    "del df['survived']\n",
    "df = df.drop(df.columns[0], axis=1)\n",
    "x = np.array(df)\n",
    "titanic_columns = df.columns.tolist()\n",
    "\n",
    "n = 100\n",
    "train_x = x[n:]\n",
    "train_y = y[n:]\n",
    "val_x = x[:n]\n",
    "val_y = y[:n]\n",
    "\n",
    "test_data = pd.read_csv(\"titanic/titanic_test_clean.csv\")\n",
    "diff = list(set(titanic_columns) - set(test_data.columns.tolist()))\n",
    "for c in diff:\n",
    "    test_data[c] = 0\n",
    "test_data = test_data[titanic_columns]"
   ]
  },
  {
   "cell_type": "code",
   "execution_count": 10,
   "metadata": {
    "collapsed": false,
    "deletable": true,
    "editable": true
   },
   "outputs": [
    {
     "name": "stdout",
     "output_type": "stream",
     "text": [
      "Titanic Decision Tree: train acc = 0.8866666666666667, validate acc = 0.8\n"
     ]
    }
   ],
   "source": [
    "# Decision Tree\n",
    "tdt = DecisionTree(maxDepth=11, n=10, features=titanic_columns)\n",
    "tdt.train(tdt.root, train_x, train_y)\n",
    "train_acc = tdt.evaluate(train_x, train_y)\n",
    "val_acc = tdt.evaluate(val_x, val_y)\n",
    "print(\"Titanic Decision Tree: train acc = {}, validate acc = {}\".format(train_acc, val_acc))"
   ]
  },
  {
   "cell_type": "code",
   "execution_count": 90,
   "metadata": {
    "collapsed": true,
    "deletable": true,
    "editable": true
   },
   "outputs": [
    {
     "ename": "IndexError",
     "evalue": "tuple index out of range",
     "output_type": "error",
     "traceback": [
      "\u001b[0;31m---------------------------------------------------------------------------\u001b[0m",
      "\u001b[0;31mIndexError\u001b[0m                                Traceback (most recent call last)",
      "\u001b[0;32m<ipython-input-90-789177d2971f>\u001b[0m in \u001b[0;36m<module>\u001b[0;34m()\u001b[0m\n\u001b[1;32m      1\u001b[0m \u001b[0;31m# Random Forest\u001b[0m\u001b[0;34m\u001b[0m\u001b[0;34m\u001b[0m\u001b[0m\n\u001b[1;32m      2\u001b[0m \u001b[0mtrf\u001b[0m \u001b[0;34m=\u001b[0m \u001b[0mRandomForest\u001b[0m\u001b[0;34m(\u001b[0m\u001b[0mmax_depth\u001b[0m\u001b[0;34m=\u001b[0m\u001b[0;36m10\u001b[0m\u001b[0;34m,\u001b[0m \u001b[0mnum_trees\u001b[0m\u001b[0;34m=\u001b[0m\u001b[0;36m100\u001b[0m\u001b[0;34m,\u001b[0m \u001b[0msample_size\u001b[0m\u001b[0;34m=\u001b[0m\u001b[0mmath\u001b[0m\u001b[0;34m.\u001b[0m\u001b[0msqrt\u001b[0m\u001b[0;34m(\u001b[0m\u001b[0mlen\u001b[0m\u001b[0;34m(\u001b[0m\u001b[0mtrain_x\u001b[0m\u001b[0;34m)\u001b[0m\u001b[0;34m)\u001b[0m\u001b[0;34m,\u001b[0m \u001b[0mfeatures\u001b[0m\u001b[0;34m=\u001b[0m\u001b[0mtitanic_columns\u001b[0m\u001b[0;34m)\u001b[0m\u001b[0;34m\u001b[0m\u001b[0m\n\u001b[0;32m----> 3\u001b[0;31m \u001b[0mtrf\u001b[0m\u001b[0;34m.\u001b[0m\u001b[0mtrain\u001b[0m\u001b[0;34m(\u001b[0m\u001b[0mtrain_x\u001b[0m\u001b[0;34m,\u001b[0m \u001b[0mtrain_y\u001b[0m\u001b[0;34m)\u001b[0m\u001b[0;34m\u001b[0m\u001b[0m\n\u001b[0m\u001b[1;32m      4\u001b[0m \u001b[0mtrain_acc\u001b[0m \u001b[0;34m=\u001b[0m \u001b[0mtrf\u001b[0m\u001b[0;34m.\u001b[0m\u001b[0mevaluate\u001b[0m\u001b[0;34m(\u001b[0m\u001b[0mtrain_x\u001b[0m\u001b[0;34m,\u001b[0m \u001b[0mtrain_y\u001b[0m\u001b[0;34m)\u001b[0m\u001b[0;34m\u001b[0m\u001b[0m\n\u001b[1;32m      5\u001b[0m \u001b[0mval_acc\u001b[0m \u001b[0;34m=\u001b[0m \u001b[0mtrf\u001b[0m\u001b[0;34m.\u001b[0m\u001b[0mevaluate\u001b[0m\u001b[0;34m(\u001b[0m\u001b[0mval_x\u001b[0m\u001b[0;34m,\u001b[0m \u001b[0mval_y\u001b[0m\u001b[0;34m)\u001b[0m\u001b[0;34m\u001b[0m\u001b[0m\n",
      "\u001b[0;32m<ipython-input-4-d290dbb0e3f3>\u001b[0m in \u001b[0;36mtrain\u001b[0;34m(self, x, y)\u001b[0m\n\u001b[1;32m     13\u001b[0m             \u001b[0msub_x\u001b[0m\u001b[0;34m,\u001b[0m \u001b[0msub_y\u001b[0m \u001b[0;34m=\u001b[0m \u001b[0mself\u001b[0m\u001b[0;34m.\u001b[0m\u001b[0msample\u001b[0m\u001b[0;34m(\u001b[0m\u001b[0mx\u001b[0m\u001b[0;34m,\u001b[0m \u001b[0my\u001b[0m\u001b[0;34m)\u001b[0m\u001b[0;34m\u001b[0m\u001b[0m\n\u001b[1;32m     14\u001b[0m             \u001b[0mtree\u001b[0m \u001b[0;34m=\u001b[0m \u001b[0mDecisionTree\u001b[0m\u001b[0;34m(\u001b[0m\u001b[0mmaxDepth\u001b[0m\u001b[0;34m=\u001b[0m\u001b[0mself\u001b[0m\u001b[0;34m.\u001b[0m\u001b[0mmax_depth\u001b[0m\u001b[0;34m)\u001b[0m\u001b[0;34m\u001b[0m\u001b[0m\n\u001b[0;32m---> 15\u001b[0;31m             \u001b[0mtree\u001b[0m\u001b[0;34m.\u001b[0m\u001b[0mtrain\u001b[0m\u001b[0;34m(\u001b[0m\u001b[0mtree\u001b[0m\u001b[0;34m.\u001b[0m\u001b[0mroot\u001b[0m\u001b[0;34m,\u001b[0m \u001b[0msub_x\u001b[0m\u001b[0;34m,\u001b[0m \u001b[0msub_y\u001b[0m\u001b[0;34m)\u001b[0m\u001b[0;34m\u001b[0m\u001b[0m\n\u001b[0m\u001b[1;32m     16\u001b[0m             \u001b[0mself\u001b[0m\u001b[0;34m.\u001b[0m\u001b[0mtrees\u001b[0m\u001b[0;34m.\u001b[0m\u001b[0mappend\u001b[0m\u001b[0;34m(\u001b[0m\u001b[0mtree\u001b[0m\u001b[0;34m)\u001b[0m\u001b[0;34m\u001b[0m\u001b[0m\n\u001b[1;32m     17\u001b[0m \u001b[0;34m\u001b[0m\u001b[0m\n",
      "\u001b[0;32m<ipython-input-86-1bf732c6488a>\u001b[0m in \u001b[0;36mtrain\u001b[0;34m(self, curr, x, y)\u001b[0m\n\u001b[1;32m     36\u001b[0m             \u001b[0;32mif\u001b[0m \u001b[0mrightY\u001b[0m\u001b[0;34m:\u001b[0m\u001b[0;34m\u001b[0m\u001b[0m\n\u001b[1;32m     37\u001b[0m                 \u001b[0mcurr\u001b[0m\u001b[0;34m.\u001b[0m\u001b[0mright\u001b[0m \u001b[0;34m=\u001b[0m \u001b[0mNode\u001b[0m\u001b[0;34m(\u001b[0m\u001b[0mcurr\u001b[0m\u001b[0;34m.\u001b[0m\u001b[0mdepth\u001b[0m\u001b[0;34m+\u001b[0m\u001b[0;36m1\u001b[0m\u001b[0;34m)\u001b[0m\u001b[0;34m\u001b[0m\u001b[0m\n\u001b[0;32m---> 38\u001b[0;31m                 \u001b[0mself\u001b[0m\u001b[0;34m.\u001b[0m\u001b[0mtrain\u001b[0m\u001b[0;34m(\u001b[0m\u001b[0mcurr\u001b[0m\u001b[0;34m.\u001b[0m\u001b[0mright\u001b[0m\u001b[0;34m,\u001b[0m \u001b[0mrightX\u001b[0m\u001b[0;34m,\u001b[0m \u001b[0mrightY\u001b[0m\u001b[0;34m)\u001b[0m\u001b[0;34m\u001b[0m\u001b[0m\n\u001b[0m\u001b[1;32m     39\u001b[0m \u001b[0;34m\u001b[0m\u001b[0m\n\u001b[1;32m     40\u001b[0m     \u001b[0;32mdef\u001b[0m \u001b[0mpredict\u001b[0m\u001b[0;34m(\u001b[0m\u001b[0mself\u001b[0m\u001b[0;34m,\u001b[0m \u001b[0mx\u001b[0m\u001b[0;34m)\u001b[0m\u001b[0;34m:\u001b[0m\u001b[0;34m\u001b[0m\u001b[0m\n",
      "\u001b[0;32m<ipython-input-86-1bf732c6488a>\u001b[0m in \u001b[0;36mtrain\u001b[0;34m(self, curr, x, y)\u001b[0m\n\u001b[1;32m     26\u001b[0m             \u001b[0;32mif\u001b[0m \u001b[0mself\u001b[0m\u001b[0;34m.\u001b[0m\u001b[0mqda_en\u001b[0m \u001b[0;32mand\u001b[0m \u001b[0mself\u001b[0m\u001b[0;34m.\u001b[0m\u001b[0mentropy\u001b[0m\u001b[0;34m(\u001b[0m\u001b[0my\u001b[0m\u001b[0;34m)\u001b[0m \u001b[0;34m>\u001b[0m \u001b[0;36m0.1\u001b[0m \u001b[0;32mand\u001b[0m \u001b[0mcurr\u001b[0m\u001b[0;34m.\u001b[0m\u001b[0mdepth\u001b[0m \u001b[0;34m<\u001b[0m \u001b[0;36m2\u001b[0m\u001b[0;34m:\u001b[0m\u001b[0;34m\u001b[0m\u001b[0m\n\u001b[1;32m     27\u001b[0m                 \u001b[0mcurr\u001b[0m\u001b[0;34m.\u001b[0m\u001b[0mmu_0\u001b[0m\u001b[0;34m,\u001b[0m \u001b[0mcurr\u001b[0m\u001b[0;34m.\u001b[0m\u001b[0msigma_0\u001b[0m\u001b[0;34m,\u001b[0m \u001b[0mcurr\u001b[0m\u001b[0;34m.\u001b[0m\u001b[0mmu_1\u001b[0m\u001b[0;34m,\u001b[0m \u001b[0mcurr\u001b[0m\u001b[0;34m.\u001b[0m\u001b[0msigma_1\u001b[0m\u001b[0;34m,\u001b[0m \u001b[0mcurr\u001b[0m\u001b[0;34m.\u001b[0m\u001b[0mlog_prior_0\u001b[0m\u001b[0;34m,\u001b[0m \u001b[0mcurr\u001b[0m\u001b[0;34m.\u001b[0m\u001b[0mlog_prior_1\u001b[0m \u001b[0;34m=\u001b[0m \u001b[0mself\u001b[0m\u001b[0;34m.\u001b[0m\u001b[0mfind_qda\u001b[0m\u001b[0;34m(\u001b[0m\u001b[0mx\u001b[0m\u001b[0;34m,\u001b[0m \u001b[0my\u001b[0m\u001b[0;34m)\u001b[0m\u001b[0;34m\u001b[0m\u001b[0m\n\u001b[0;32m---> 28\u001b[0;31m                 \u001b[0mleftX_Q\u001b[0m\u001b[0;34m,\u001b[0m \u001b[0mleftY_Q\u001b[0m\u001b[0;34m,\u001b[0m \u001b[0mrightX_Q\u001b[0m\u001b[0;34m,\u001b[0m \u001b[0mrightY_Q\u001b[0m \u001b[0;34m=\u001b[0m \u001b[0mself\u001b[0m\u001b[0;34m.\u001b[0m\u001b[0mqda_split\u001b[0m\u001b[0;34m(\u001b[0m\u001b[0mcurr\u001b[0m\u001b[0;34m.\u001b[0m\u001b[0mmu_0\u001b[0m\u001b[0;34m,\u001b[0m \u001b[0mcurr\u001b[0m\u001b[0;34m.\u001b[0m\u001b[0msigma_0\u001b[0m\u001b[0;34m,\u001b[0m \u001b[0mcurr\u001b[0m\u001b[0;34m.\u001b[0m\u001b[0mmu_1\u001b[0m\u001b[0;34m,\u001b[0m \u001b[0mcurr\u001b[0m\u001b[0;34m.\u001b[0m\u001b[0msigma_1\u001b[0m\u001b[0;34m,\u001b[0m \u001b[0mcurr\u001b[0m\u001b[0;34m.\u001b[0m\u001b[0mlog_prior_0\u001b[0m\u001b[0;34m,\u001b[0m \u001b[0mcurr\u001b[0m\u001b[0;34m.\u001b[0m\u001b[0mlog_prior_1\u001b[0m\u001b[0;34m,\u001b[0m \u001b[0mx\u001b[0m\u001b[0;34m,\u001b[0m \u001b[0my\u001b[0m\u001b[0;34m)\u001b[0m\u001b[0;34m\u001b[0m\u001b[0m\n\u001b[0m\u001b[1;32m     29\u001b[0m                 \u001b[0;32mif\u001b[0m \u001b[0mself\u001b[0m\u001b[0;34m.\u001b[0m\u001b[0mimpurity\u001b[0m\u001b[0;34m(\u001b[0m\u001b[0mleftY_Q\u001b[0m\u001b[0;34m,\u001b[0m \u001b[0mrightY_Q\u001b[0m\u001b[0;34m)\u001b[0m \u001b[0;34m<\u001b[0m \u001b[0mlinear_entro\u001b[0m\u001b[0;34m:\u001b[0m\u001b[0;34m\u001b[0m\u001b[0m\n\u001b[1;32m     30\u001b[0m                     \u001b[0mcurr\u001b[0m\u001b[0;34m.\u001b[0m\u001b[0muse_qda\u001b[0m \u001b[0;34m=\u001b[0m \u001b[0;32mTrue\u001b[0m\u001b[0;34m\u001b[0m\u001b[0m\n",
      "\u001b[0;32m<ipython-input-86-1bf732c6488a>\u001b[0m in \u001b[0;36mqda_split\u001b[0;34m(self, mu_0, sigma_0, mu_1, sigma_1, log_prior_0, log_prior_1, x, y)\u001b[0m\n\u001b[1;32m    139\u001b[0m         \u001b[0mleftX\u001b[0m\u001b[0;34m,\u001b[0m \u001b[0mleftY\u001b[0m\u001b[0;34m,\u001b[0m \u001b[0mrightX\u001b[0m\u001b[0;34m,\u001b[0m \u001b[0mrightY\u001b[0m \u001b[0;34m=\u001b[0m \u001b[0;34m[\u001b[0m\u001b[0;34m]\u001b[0m\u001b[0;34m,\u001b[0m \u001b[0;34m[\u001b[0m\u001b[0;34m]\u001b[0m\u001b[0;34m,\u001b[0m \u001b[0;34m[\u001b[0m\u001b[0;34m]\u001b[0m\u001b[0;34m,\u001b[0m \u001b[0;34m[\u001b[0m\u001b[0;34m]\u001b[0m\u001b[0;34m\u001b[0m\u001b[0m\n\u001b[1;32m    140\u001b[0m         \u001b[0;32mfor\u001b[0m \u001b[0mi\u001b[0m \u001b[0;32min\u001b[0m \u001b[0mrange\u001b[0m\u001b[0;34m(\u001b[0m\u001b[0mlen\u001b[0m\u001b[0;34m(\u001b[0m\u001b[0mx\u001b[0m\u001b[0;34m)\u001b[0m\u001b[0;34m)\u001b[0m\u001b[0;34m:\u001b[0m\u001b[0;34m\u001b[0m\u001b[0m\n\u001b[0;32m--> 141\u001b[0;31m             \u001b[0mprob0\u001b[0m \u001b[0;34m=\u001b[0m \u001b[0mmultivariate_normal\u001b[0m\u001b[0;34m.\u001b[0m\u001b[0mlogpdf\u001b[0m\u001b[0;34m(\u001b[0m\u001b[0mx\u001b[0m\u001b[0;34m[\u001b[0m\u001b[0mi\u001b[0m\u001b[0;34m]\u001b[0m\u001b[0;34m,\u001b[0m \u001b[0mmu_0\u001b[0m\u001b[0;34m,\u001b[0m \u001b[0msigma_0\u001b[0m \u001b[0;34m+\u001b[0m \u001b[0;36m0.001\u001b[0m \u001b[0;34m*\u001b[0m \u001b[0mnp\u001b[0m\u001b[0;34m.\u001b[0m\u001b[0midentity\u001b[0m\u001b[0;34m(\u001b[0m\u001b[0msigma_0\u001b[0m\u001b[0;34m.\u001b[0m\u001b[0mshape\u001b[0m\u001b[0;34m[\u001b[0m\u001b[0;36m0\u001b[0m\u001b[0;34m]\u001b[0m\u001b[0;34m)\u001b[0m\u001b[0;34m,\u001b[0m \u001b[0mallow_singular\u001b[0m \u001b[0;34m=\u001b[0m \u001b[0;32mTrue\u001b[0m\u001b[0;34m)\u001b[0m \u001b[0;34m+\u001b[0m \u001b[0mlog_prior_0\u001b[0m\u001b[0;34m\u001b[0m\u001b[0m\n\u001b[0m\u001b[1;32m    142\u001b[0m             \u001b[0mprob1\u001b[0m \u001b[0;34m=\u001b[0m \u001b[0mmultivariate_normal\u001b[0m\u001b[0;34m.\u001b[0m\u001b[0mlogpdf\u001b[0m\u001b[0;34m(\u001b[0m\u001b[0mx\u001b[0m\u001b[0;34m[\u001b[0m\u001b[0mi\u001b[0m\u001b[0;34m]\u001b[0m\u001b[0;34m,\u001b[0m \u001b[0mmu_1\u001b[0m\u001b[0;34m,\u001b[0m \u001b[0msigma_1\u001b[0m \u001b[0;34m+\u001b[0m \u001b[0;36m0.001\u001b[0m \u001b[0;34m*\u001b[0m \u001b[0mnp\u001b[0m\u001b[0;34m.\u001b[0m\u001b[0midentity\u001b[0m\u001b[0;34m(\u001b[0m\u001b[0msigma_1\u001b[0m\u001b[0;34m.\u001b[0m\u001b[0mshape\u001b[0m\u001b[0;34m[\u001b[0m\u001b[0;36m0\u001b[0m\u001b[0;34m]\u001b[0m\u001b[0;34m)\u001b[0m\u001b[0;34m,\u001b[0m \u001b[0mallow_singular\u001b[0m \u001b[0;34m=\u001b[0m \u001b[0;32mTrue\u001b[0m\u001b[0;34m)\u001b[0m \u001b[0;34m+\u001b[0m \u001b[0mlog_prior_1\u001b[0m\u001b[0;34m\u001b[0m\u001b[0m\n\u001b[1;32m    143\u001b[0m             \u001b[0;32mif\u001b[0m \u001b[0mprob0\u001b[0m \u001b[0;34m-\u001b[0m \u001b[0mprob1\u001b[0m \u001b[0;34m>\u001b[0m \u001b[0;36m0\u001b[0m\u001b[0;34m:\u001b[0m\u001b[0;34m\u001b[0m\u001b[0m\n",
      "\u001b[0;31mIndexError\u001b[0m: tuple index out of range"
     ]
    }
   ],
   "source": [
    "# Random Forest (This is too slow so I run in a local file)\n",
    "trf = RandomForest(max_depth=10, num_trees=100, sample_size=math.sqrt(len(train_x)), features=titanic_columns)\n",
    "trf.train(train_x, train_y)\n",
    "train_acc = trf.evaluate(train_x, train_y)\n",
    "val_acc = trf.evaluate(val_x, val_y)\n",
    "print(\"Titanic Random Forest: train acc = {}, validate acc = {}\".format(train_acc, val_acc))"
   ]
  },
  {
   "cell_type": "code",
   "execution_count": null,
   "metadata": {
    "collapsed": true,
    "deletable": true,
    "editable": true
   },
   "outputs": [],
   "source": [
    "y = trf.predict(test_data.values)\n",
    "df = pd.DataFrame(data = y, columns=[\"Category\"]) \n",
    "df.index += 1 \n",
    "df.index.name = \"Id\"\n",
    "df.to_csv(\"titanic/titanic_RF.csv\")"
   ]
  },
  {
   "cell_type": "markdown",
   "metadata": {
    "deletable": true,
    "editable": true
   },
   "source": [
    "### Spam\n",
    "* Spam Decision Tree Training Accuracy: 0.95576\n",
    "* Spam Decision Tree Validation Accuracy: 0.9485\n",
    "* Spam Random Forest Training Accuracy: 0.93696\n",
    "* Spam Random Forest Validation Accuracy: 0.9355\n"
   ]
  },
  {
   "cell_type": "code",
   "execution_count": 96,
   "metadata": {
    "collapsed": true,
    "deletable": true,
    "editable": true
   },
   "outputs": [],
   "source": [
    "df = pd.read_csv('spam/spam_clean.csv', sep=',')\n",
    "df = df.reindex(np.random.permutation(df.index))\n",
    "y = np.array(df[df.columns[346]])\n",
    "df = df.drop(df.columns[[0, 346]], axis=1)\n",
    "x = np.array(df)\n",
    "spam_columns = df.columns.tolist()\n",
    "\n",
    "n = 2000\n",
    "train_x = x[n:]\n",
    "train_y = y[n:]\n",
    "val_x = x[:n]\n",
    "val_y = y[:n]\n",
    "\n",
    "test_data = pd.read_csv(\"spam/spam_test_clean.csv\")\n",
    "test_data = test_data.drop(test_data.columns[0], axis=1)"
   ]
  },
  {
   "cell_type": "code",
   "execution_count": 97,
   "metadata": {
    "collapsed": false,
    "deletable": true,
    "editable": true
   },
   "outputs": [
    {
     "name": "stdout",
     "output_type": "stream",
     "text": [
      "Spam Decision Tree: train acc = 0.9558566030780573, validate acc = 0.9525\n"
     ]
    }
   ],
   "source": [
    "# Decision Tree\n",
    "sdt = DecisionTree(maxDepth=5, n=3, features=spam_columns)\n",
    "sdt.train(sdt.root, train_x, train_y)\n",
    "train_acc = sdt.evaluate(train_x, train_y)\n",
    "val_acc = sdt.evaluate(val_x, val_y)\n",
    "print(\"Spam Decision Tree: train acc = {}, validate acc = {}\".format(train_acc, val_acc))"
   ]
  },
  {
   "cell_type": "code",
   "execution_count": null,
   "metadata": {
    "collapsed": false,
    "deletable": true,
    "editable": true
   },
   "outputs": [],
   "source": [
    "# Random Forest (this runs too slow so I ran it in the cloud)\n",
    "srf = RandomForest(max_depth=5, num_trees=20, sample_size=math.sqrt(len(train_x)), features=spam_columns)\n",
    "srf.train(train_x, train_y)\n",
    "train_acc = srf.evaluate(train_x, train_y)\n",
    "val_acc = srf.evaluate(val_x, val_y)\n"
   ]
  },
  {
   "cell_type": "code",
   "execution_count": 128,
   "metadata": {
    "collapsed": false
   },
   "outputs": [
    {
     "name": "stdout",
     "output_type": "stream",
     "text": [
      "Loaded Spam Random Forest\n"
     ]
    }
   ],
   "source": [
    "with open(\"spam_rf.p\", \"rb\") as f:\n",
    "    srf = pickle.load(f)\n",
    "print(\"Loaded Spam Random Forest\")"
   ]
  },
  {
   "cell_type": "code",
   "execution_count": 98,
   "metadata": {
    "collapsed": true,
    "deletable": true,
    "editable": true
   },
   "outputs": [],
   "source": [
    "y = sdt.predict(test_data.values)\n",
    "df = pd.DataFrame(data = y, columns=[\"Category\"]) \n",
    "# df.index += 1 \n",
    "df.index.name = \"Id\"\n",
    "df.to_csv(\"spam/spam_RF.csv\")"
   ]
  },
  {
   "cell_type": "markdown",
   "metadata": {
    "deletable": true,
    "editable": true
   },
   "source": [
    "\n",
    "### Kaggle\n",
    "* Census Kaggle: 0.85643\n",
    "* Titanic Kaggle: 0.81935\n",
    "* Spam Kaggle: 0.94480  \n",
    "#### Kaggle Name: yika\n"
   ]
  },
  {
   "cell_type": "markdown",
   "metadata": {
    "deletable": true,
    "editable": true
   },
   "source": [
    "## 5. Spam"
   ]
  },
  {
   "cell_type": "markdown",
   "metadata": {
    "deletable": true,
    "editable": true
   },
   "source": [
    "### a) Feature Transformation\n",
    "Used bag of words approach plus normalization. More specifically, the features are the freqencies of each unique word in the text; after normalization, they become probabilities.  For\tfeature\tadding,\tI\tused\t\"A\tList\tof\tCommon\tSpam\tWords\"\t\n",
    "(https://emailmarketing.comm100.com/email-marketing-ebook/spamwords.aspx)\n",
    "as\ta\treference\tto\tmanually\tselect\twords\tthat\tappear\tmost\toffen\tand intuitively\tmake\tsense\tand\tadded\tthem\tto\tfeaturize.py\tfile.\t"
   ]
  },
  {
   "cell_type": "markdown",
   "metadata": {
    "deletable": true,
    "editable": true
   },
   "source": [
    "### b) Print Out Path Trace for Each Label"
   ]
  },
  {
   "cell_type": "code",
   "execution_count": 20,
   "metadata": {
    "collapsed": true,
    "deletable": true,
    "editable": true
   },
   "outputs": [],
   "source": [
    "# Print out the trace of the path\n",
    "def trace(self, x): # x is one sample\n",
    "    curr = self.root\n",
    "    while not curr.isLeaf:\n",
    "        print('Split at ', self.features[curr.feature_index], \n",
    "              ', threshold: ', str(curr.threshold))\n",
    "        if x[curr.feature_index] < curr.threshold:\n",
    "            curr = curr.left\n",
    "        else:\n",
    "            curr = curr.right\n",
    "    print('y_hat: ', str(curr.label))\n",
    "    return curr.label"
   ]
  },
  {
   "cell_type": "code",
   "execution_count": 99,
   "metadata": {
    "collapsed": false,
    "deletable": true,
    "editable": true
   },
   "outputs": [],
   "source": [
    "temp = pd.read_csv('spam/spam_clean.csv', sep=',')\n",
    "temp = temp.drop(temp.columns[[0, 346]], axis=1)\n",
    "one = np.array(temp.iloc[[-5]])[0]\n",
    "zero = np.array(temp.iloc[[5]])[0]"
   ]
  },
  {
   "cell_type": "code",
   "execution_count": 100,
   "metadata": {
    "collapsed": false,
    "deletable": true,
    "editable": true
   },
   "outputs": [
    {
     "name": "stdout",
     "output_type": "stream",
     "text": [
      "Split at  278 , threshold:  0.5\n",
      "Split at  0 , threshold:  0.0\n",
      "Split at  0 , threshold:  0.0\n",
      "Split at  0 , threshold:  0.0\n",
      "Split at  0 , threshold:  0.0\n",
      "y_hat:  1\n"
     ]
    },
    {
     "data": {
      "text/plain": [
       "1"
      ]
     },
     "execution_count": 100,
     "metadata": {},
     "output_type": "execute_result"
    }
   ],
   "source": [
    "# Path of One\n",
    "trace(sdt, one)"
   ]
  },
  {
   "cell_type": "code",
   "execution_count": 101,
   "metadata": {
    "collapsed": false,
    "deletable": true,
    "editable": true
   },
   "outputs": [
    {
     "name": "stdout",
     "output_type": "stream",
     "text": [
      "Split at  278 , threshold:  0.5\n",
      "Split at  0 , threshold:  0.0\n",
      "Split at  0 , threshold:  0.0\n",
      "Split at  0 , threshold:  0.0\n",
      "Split at  0 , threshold:  0.0\n",
      "y_hat:  1\n"
     ]
    },
    {
     "data": {
      "text/plain": [
       "1"
      ]
     },
     "execution_count": 101,
     "metadata": {},
     "output_type": "execute_result"
    }
   ],
   "source": [
    "# Path of Zero\n",
    "trace(sdt, zero)"
   ]
  },
  {
   "cell_type": "markdown",
   "metadata": {
    "deletable": true,
    "editable": true
   },
   "source": [
    "### c) Most Common Split Rules in Random Forest"
   ]
  },
  {
   "cell_type": "code",
   "execution_count": 130,
   "metadata": {
    "collapsed": true,
    "deletable": true,
    "editable": true
   },
   "outputs": [],
   "source": [
    "def counter(self, features):\n",
    "    splits = {}\n",
    "    for t in self.trees:\n",
    "        i = t.root.feature_index\n",
    "        if str(i) not in splits:\n",
    "            splits[str(i)] = [t]\n",
    "        else:\n",
    "            splits[str(i)].append(t)\n",
    "    return splits\n",
    "\n",
    "def max_split(splits):\n",
    "    most = 0\n",
    "    f = None\n",
    "    for key in splits.keys():\n",
    "        n = len(splits[key])\n",
    "        if n >= most:\n",
    "            most = n\n",
    "            f = key\n",
    "    return f\n",
    "\n",
    "def print_max(splits, columns):\n",
    "    f = max_split(splits)\n",
    "    if not f:\n",
    "        return\n",
    "    f = int(f)\n",
    "    feature = columns[f]\n",
    "    threshold = splits[str(f)][0].root.threshold\n",
    "    num = len(splits[str(f)])\n",
    "    splits.pop(str(f))\n",
    "    print(\"Feature = {}, Threshold = {}, ({} trees)\".format(feature, threshold, num))\n",
    "    return splits\n"
   ]
  },
  {
   "cell_type": "code",
   "execution_count": 131,
   "metadata": {
    "collapsed": false,
    "deletable": true,
    "editable": true
   },
   "outputs": [
    {
     "name": "stdout",
     "output_type": "stream",
     "text": [
      "Feature = 278, Threshold = 0.5, (13 trees)\n",
      "Feature = 0, Threshold = 0.0, (7 trees)\n"
     ]
    }
   ],
   "source": [
    "dic = counter(srf, spam_columns)\n",
    "dic = print_max(dic, spam_columns)\n",
    "dic = print_max(dic, spam_columns)\n",
    "dic = print_max(dic, spam_columns)"
   ]
  },
  {
   "cell_type": "markdown",
   "metadata": {
    "deletable": true,
    "editable": true
   },
   "source": [
    "## 6. Census"
   ]
  },
  {
   "cell_type": "markdown",
   "metadata": {
    "deletable": true,
    "editable": true
   },
   "source": [
    "### a) Feature Transformation\n",
    "I did not transform features, I only vectorized them"
   ]
  },
  {
   "cell_type": "markdown",
   "metadata": {
    "deletable": true,
    "editable": true
   },
   "source": [
    "### b) Print Out Path Trace for Each Label"
   ]
  },
  {
   "cell_type": "code",
   "execution_count": 34,
   "metadata": {
    "collapsed": false,
    "deletable": true,
    "editable": true
   },
   "outputs": [],
   "source": [
    "temp = pd.read_csv('census/census_clean.csv', sep=',')\n",
    "temp = temp.drop(temp.columns[0], axis=1)\n",
    "del temp['label']\n",
    "one = np.array(temp.iloc[[4]])[0]\n",
    "zero = np.array(temp.iloc[[3]])[0]"
   ]
  },
  {
   "cell_type": "code",
   "execution_count": 35,
   "metadata": {
    "collapsed": false,
    "deletable": true,
    "editable": true
   },
   "outputs": [
    {
     "name": "stdout",
     "output_type": "stream",
     "text": [
      "Split at  marital-status_Married-civ-spouse , threshold:  0.111111111111\n",
      "Split at  education-num , threshold:  12.6666666667\n",
      "Split at  education-num , threshold:  8.33333333333\n",
      "Split at  age , threshold:  34.0\n",
      "Split at  capital-gain , threshold:  11111.0\n",
      "Split at  hours-per-week , threshold:  80.8888888889\n",
      "Split at  occupation_Farming-fishing , threshold:  0.111111111111\n",
      "y_hat:  1\n"
     ]
    },
    {
     "data": {
      "text/plain": [
       "1"
      ]
     },
     "execution_count": 35,
     "metadata": {},
     "output_type": "execute_result"
    }
   ],
   "source": [
    "# Path of One\n",
    "trace(cdt, one)"
   ]
  },
  {
   "cell_type": "code",
   "execution_count": 36,
   "metadata": {
    "collapsed": false,
    "deletable": true,
    "editable": true
   },
   "outputs": [
    {
     "name": "stdout",
     "output_type": "stream",
     "text": [
      "Split at  marital-status_Married-civ-spouse , threshold:  0.111111111111\n",
      "Split at  education-num , threshold:  12.6666666667\n",
      "Split at  education-num , threshold:  8.33333333333\n",
      "Split at  age , threshold:  34.0\n",
      "Split at  capital-gain , threshold:  11111.0\n",
      "Split at  capital-gain , threshold:  7070.0\n",
      "Split at  education-num , threshold:  9.33333333333\n",
      "Split at  capital-loss , threshold:  1638.0\n",
      "Split at  hours-per-week , threshold:  33.6666666667\n",
      "Split at  occupation_Exec-managerial , threshold:  0.111111111111\n",
      "y_hat:  0\n"
     ]
    },
    {
     "data": {
      "text/plain": [
       "0"
      ]
     },
     "execution_count": 36,
     "metadata": {},
     "output_type": "execute_result"
    }
   ],
   "source": [
    "# Path of Zero\n",
    "trace(cdt, zero)"
   ]
  },
  {
   "cell_type": "markdown",
   "metadata": {
    "deletable": true,
    "editable": true
   },
   "source": [
    "### c) Most Common Split Rules in Random Forest"
   ]
  },
  {
   "cell_type": "code",
   "execution_count": 56,
   "metadata": {
    "collapsed": false,
    "deletable": true,
    "editable": true
   },
   "outputs": [
    {
     "name": "stdout",
     "output_type": "stream",
     "text": [
      "Ranking for most common split rules:\n",
      "Feature = marital-status_Married-civ-spouse, Threshold = 0.5, (36 trees)\n",
      "Feature = relationship_Husband, Threshold = 0.5, (10 trees)\n",
      "Feature = marital-status_Never-married, Threshold = 0.5, (2 trees)\n"
     ]
    }
   ],
   "source": [
    "print(\"Ranking for most common split rules:\")\n",
    "dic = counter(crf, census_columns)\n",
    "dic = print_max(dic, census_columns)\n",
    "dic = print_max(dic, census_columns)\n",
    "dic = print_max(dic, census_columns)"
   ]
  },
  {
   "cell_type": "markdown",
   "metadata": {
    "deletable": true,
    "editable": true
   },
   "source": [
    "### d) Evaluate Different Max Depth for Decision Tree"
   ]
  },
  {
   "cell_type": "code",
   "execution_count": 92,
   "metadata": {
    "collapsed": true,
    "deletable": true,
    "editable": true
   },
   "outputs": [],
   "source": [
    "df = pd.read_csv('census/census_clean.csv', sep=',')\n",
    "df.reindex(np.random.permutation(df.index))\n",
    "y = np.array(df.label)\n",
    "del df['label']\n",
    "df = df.drop(df.columns[0], axis=1)\n",
    "x = np.array(df)\n",
    "census_columns = df.columns.tolist()\n",
    "\n",
    "n = int(0.8 * len(x))\n",
    "train_x = x[n:]\n",
    "train_y = y[n:]\n",
    "val_x = x[:n]\n",
    "val_y = y[:n]"
   ]
  },
  {
   "cell_type": "code",
   "execution_count": null,
   "metadata": {
    "collapsed": false,
    "deletable": true,
    "editable": true
   },
   "outputs": [],
   "source": [
    "# This takes too long I train it in the cloud\n",
    "accs = []\n",
    "depths = []\n",
    "for i in range(2, 41):  \n",
    "    dt = DecisionTree(maxDepth=i, n=10)\n",
    "    dt.train(dt.root, train_x, train_y)\n",
    "    acc = dt.evaluate(val_x, val_y)\n",
    "    accs.append(acc)"
   ]
  },
  {
   "cell_type": "code",
   "execution_count": 113,
   "metadata": {
    "collapsed": false
   },
   "outputs": [],
   "source": [
    "depths = list(range(2, 41))\n",
    "with open(\"census_accs.p\", \"rb\") as f:\n",
    "    accs = pickle.load(f)"
   ]
  },
  {
   "cell_type": "code",
   "execution_count": 117,
   "metadata": {
    "collapsed": false,
    "deletable": true,
    "editable": true
   },
   "outputs": [
    {
     "data": {
      "image/png": "[encoded data removed]",
      "text/plain": [
       "<matplotlib.figure.Figure at 0x10b1656d8>"
      ]
     },
     "metadata": {},
     "output_type": "display_data"
    }
   ],
   "source": [
    "fig, ax = plt.subplots()\n",
    "\n",
    "ax.scatter(depths, accs, color=\"red\")\n",
    "ax.plot(depths, accs, color=\"red\")\n",
    "\n",
    "ax.set_xlabel('Max Depth')\n",
    "ax.set_ylabel('Validation Accuracy')\n",
    "ax.set_title('Census Decision Tree Max Depth Evaluation')\n",
    "\n",
    "plt.ylim((0.75, 0.9))\n",
    "plt.xlim((1, 41))\n",
    "plt.show()"
   ]
  },
  {
   "cell_type": "markdown",
   "metadata": {},
   "source": [
    "Comments: The Decision Tree reaches a peak of accuracy at the depth around 10. Between 5 and 15 the accuracy fluctuate a relatively more, and then after 15 the accuracy seems to slowly converge."
   ]
  },
  {
   "cell_type": "markdown",
   "metadata": {
    "deletable": true,
    "editable": true
   },
   "source": [
    "## 7. Titanic"
   ]
  },
  {
   "cell_type": "code",
   "execution_count": 59,
   "metadata": {
    "collapsed": true,
    "deletable": true,
    "editable": true
   },
   "outputs": [],
   "source": [
    "# Data\n",
    "df = pd.read_csv('titanic/titanic_clean.csv', sep=',')\n",
    "df.reindex(np.random.permutation(df.index))\n",
    "y = np.array(df.survived)\n",
    "del df['survived']\n",
    "df = df.drop(df.columns[0], axis=1)\n",
    "x = np.array(df)\n",
    "titanic_columns = df.columns.tolist()\n",
    "\n",
    "n = 100\n",
    "train_x = x[n:]\n",
    "train_y = y[n:]"
   ]
  },
  {
   "cell_type": "code",
   "execution_count": 60,
   "metadata": {
    "collapsed": true,
    "deletable": true,
    "editable": true
   },
   "outputs": [],
   "source": [
    "dt = DecisionTree(maxDepth=3, n=20, features=titanic_columns)\n",
    "dt.train(dt.root, train_x, train_y)"
   ]
  },
  {
   "cell_type": "code",
   "execution_count": 62,
   "metadata": {
    "collapsed": false,
    "deletable": true,
    "editable": true
   },
   "outputs": [
    {
     "name": "stdout",
     "output_type": "stream",
     "text": [
      "Visualize Decision Tree (nodes are printed in an order from left to right)\n",
      "level  1 - feature: sex_male ; split: 0.0526315789474\n",
      "level  2 - feature: pclass ; split: 2.05263157895\n",
      "level  2 - feature: pclass ; split: 1.10526315789\n",
      "level  3 - feature: cabin_letter_C ; split: 0.0526315789474\n",
      "level  3 - feature: fare ; split: 32.5263157895\n",
      "level  3 - feature: age ; split: 12.6315789474\n",
      "level  3 - feature: age ; split: 3.89473684211\n"
     ]
    }
   ],
   "source": [
    "print(\"Visualize Decision Tree (nodes are printed in an order from left to right)\")\n",
    "dt.visualize()"
   ]
  },
  {
   "cell_type": "code",
   "execution_count": null,
   "metadata": {
    "collapsed": true,
    "deletable": true,
    "editable": true
   },
   "outputs": [],
   "source": []
  }
 ],
 "metadata": {
  "kernelspec": {
   "display_name": "Python 3",
   "language": "python",
   "name": "python3"
  },
  "language_info": {
   "codemirror_mode": {
    "name": "ipython",
    "version": 3
   },
   "file_extension": ".py",
   "mimetype": "text/x-python",
   "name": "python",
   "nbconvert_exporter": "python",
   "pygments_lexer": "ipython3",
   "version": "3.6.0"
  }
 },
 "nbformat": 4,
 "nbformat_minor": 2
}
