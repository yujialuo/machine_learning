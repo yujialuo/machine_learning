{
 "cells": [
  {
   "cell_type": "code",
   "execution_count": 1,
   "metadata": {
    "collapsed": true,
    "deletable": true,
    "editable": true
   },
   "outputs": [],
   "source": [
    "import numpy as np"
   ]
  },
  {
   "cell_type": "markdown",
   "metadata": {
    "deletable": true,
    "editable": true
   },
   "source": [
    "# Q1"
   ]
  },
  {
   "cell_type": "code",
   "execution_count": 7,
   "metadata": {
    "collapsed": false,
    "deletable": true,
    "editable": true
   },
   "outputs": [
    {
     "data": {
      "text/plain": [
       "matrix([[ 0.95257413],\n",
       "        [ 0.73105858],\n",
       "        [ 0.73105858],\n",
       "        [ 0.26894142]])"
      ]
     },
     "execution_count": 7,
     "metadata": {},
     "output_type": "execute_result"
    }
   ],
   "source": [
    "# 1-4-a\n",
    "x = np.matrix('0 3 1; 1 3 1; 0 1 1; 1 1 1')\n",
    "w_0 = np.matrix('-2;1; 0')\n",
    "s_0 = 1/(1+np.exp(-x*w_0))\n",
    "s_0"
   ]
  },
  {
   "cell_type": "code",
   "execution_count": 8,
   "metadata": {
    "collapsed": false,
    "deletable": true,
    "editable": true
   },
   "outputs": [
    {
     "data": {
      "text/plain": [
       "matrix([[-1.4288194 ],\n",
       "        [ 1.46502203],\n",
       "        [-1.51608461]])"
      ]
     },
     "execution_count": 8,
     "metadata": {},
     "output_type": "execute_result"
    }
   ],
   "source": [
    "# 1-4-b\n",
    "y = np.matrix('1;1;0;0')\n",
    "lam = 0.07\n",
    "DJ = 2*lam*w_0 - x.T*(y - s_0)\n",
    "lamM = np.diag(np.array([lam, lam, 0]))\n",
    "HJ = 2*lamM + x.T * np.diag(np.array(s_0).reshape(1,4)[0]) * x\n",
    "w_1 = w_0 - np.linalg.inv(HJ)*DJ\n",
    "w_1"
   ]
  },
  {
   "cell_type": "code",
   "execution_count": 9,
   "metadata": {
    "collapsed": false,
    "deletable": true,
    "editable": true
   },
   "outputs": [
    {
     "data": {
      "text/plain": [
       "matrix([[ 0.94679758],\n",
       "        [ 0.81002338],\n",
       "        [ 0.48723713],\n",
       "        [ 0.18544525]])"
      ]
     },
     "execution_count": 9,
     "metadata": {},
     "output_type": "execute_result"
    }
   ],
   "source": [
    "# 1-4-c\n",
    "s_1 = 1/(1+np.exp(-x*w_1))\n",
    "s_1"
   ]
  },
  {
   "cell_type": "code",
   "execution_count": 10,
   "metadata": {
    "collapsed": false,
    "deletable": true,
    "editable": true
   },
   "outputs": [
    {
     "data": {
      "text/plain": [
       "matrix([[-1.06301781],\n",
       "        [ 1.6171155 ],\n",
       "        [-2.12744786]])"
      ]
     },
     "execution_count": 10,
     "metadata": {},
     "output_type": "execute_result"
    }
   ],
   "source": [
    "# 1-4-d\n",
    "DJ = 2*lam*w_1 - x.T*(y - s_1)\n",
    "HJ = 2*lamM + x.T * np.diag(np.array(s_1).reshape(1,4)[0]) * x\n",
    "w_2 = w_1 - np.linalg.inv(HJ)*DJ\n",
    "w_2"
   ]
  },
  {
   "cell_type": "code",
   "execution_count": null,
   "metadata": {
    "collapsed": true
   },
   "outputs": [],
   "source": []
  },
  {
   "cell_type": "code",
   "execution_count": null,
   "metadata": {
    "collapsed": true
   },
   "outputs": [],
   "source": [
    "                                                                                                                                                                                                                         "
   ]
  }
 ],
 "metadata": {
  "kernelspec": {
   "display_name": "Python 3",
   "language": "python",
   "name": "python3"
  },
  "language_info": {
   "codemirror_mode": {
    "name": "ipython",
    "version": 3
   },
   "file_extension": ".py",
   "mimetype": "text/x-python",
   "name": "python",
   "nbconvert_exporter": "python",
   "pygments_lexer": "ipython3",
   "version": "3.6.0"
  }
 },
 "nbformat": 4,
 "nbformat_minor": 2
}
