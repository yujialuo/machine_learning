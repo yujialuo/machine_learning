{
 "cells": [
  {
   "cell_type": "code",
   "execution_count": 1,
   "metadata": {
    "collapsed": false,
    "deletable": true,
    "editable": true
   },
   "outputs": [],
   "source": [
    "import math\n",
    "import numpy as np\n",
    "import scipy.io as sio\n",
    "import matplotlib \n",
    "from matplotlib import pyplot as plt\n",
    "from random import randint\n",
    "%matplotlib inline"
   ]
  },
  {
   "cell_type": "code",
   "execution_count": 2,
   "metadata": {
    "collapsed": false,
    "deletable": true,
    "editable": true
   },
   "outputs": [],
   "source": [
    "d = 12\n",
    "n = 5000\n",
    "data = sio.loadmat(\"./data.mat\")\n",
    "trainX = data['X']\n",
    "testX = data['X_test']\n",
    "trainY = data['y']\n",
    "ValidateX = trainX[n:]\n",
    "ValidateY = trainY[n:]\n",
    "trainX = trainX[:n]\n",
    "trainY = trainY[:n]"
   ]
  },
  {
   "cell_type": "markdown",
   "metadata": {
    "deletable": true,
    "editable": true
   },
   "source": [
    "# Q4. Logistic Regression on Wine Dataset\n",
    "Logistic:\n",
    "$$h(x; w, \\alpha) = s(w\\cdot x + \\alpha)$$\n",
    "Loss:\n",
    "$$L(z, y) = -ylnz - (1 - y)ln(1-z)$$\n",
    "Cost:\n",
    "$$J(h) = \\frac{1}{n} \\Sigma_{i=1}^n L(h(X_i), y_i) + \\lambda \\lVert{w}\\rVert^2$$\n",
    "$$\\frac{dJ}{dw} = -\\frac{1}{n} X^T(Y - S) + 2\\lambda w$$\n",
    "Dimension: $\\lambda$ is (D+1)x(D+1), S is NxN, X is Nx(D+1), w is (D+1)x1"
   ]
  },
  {
   "cell_type": "code",
   "execution_count": 7,
   "metadata": {
    "collapsed": true,
    "deletable": true,
    "editable": true
   },
   "outputs": [],
   "source": [
    "class Logistic_Regression:\n",
    "    def __init__(self, lam):\n",
    "        self.w = None\n",
    "        self.lam = lam\n",
    "    \n",
    "    def train(self, x, y, alpha, step, gd_type='batch', change_alpha=False):\n",
    "        temp = np.array([[1]*n])\n",
    "        x = np.matrix(np.concatenate((x, temp.T), axis=1)) # N x (D+1)\n",
    "        self.w = np.matrix([[0]]*(d+1)) # (D+1) * 1\n",
    "        for i in range(step):\n",
    "            if gd_type == 'batch':\n",
    "                self.w = self.w - alpha * deriv_cost(x, self.w, y, self.lam)\n",
    "            else:\n",
    "                if change_alpha:\n",
    "                    alpha *= 1 / step\n",
    "                self.w = self.w - alpha * stochastic_deriv_cost(x, self.w, y, self.lam)\n",
    "            c = cost(self.w, x, y, self.lam)\n",
    "#             print('step {}: cost = {}'.format(i, c))\n",
    "            \n",
    "        c = cost(self.w, x, y, self.lam)\n",
    "        return c\n",
    "    \n",
    "    def predict(self, x):\n",
    "        temp = np.array([[1]*len(x)])\n",
    "        x = np.matrix(np.concatenate((x, temp.T), axis=1)) # N x (D+1)\n",
    "        prob = s(self.w, x)\n",
    "        y_hat = np.greater_equal(prob, 0.5)\n",
    "        return y_hat.astype(int)\n",
    "\n",
    "    def plot(self, steps, alpha, gd_type, change_alpha):\n",
    "        s = []\n",
    "        costs = []\n",
    "        for i in range(steps):\n",
    "            c = self.train(trainX, trainY, alpha, i, gd_type=gd_type, change_alpha=change_alpha)\n",
    "            costs.append(c)\n",
    "            s.append(i)\n",
    "            print('Number of Steps {}: cost = {}'.format(i, c))\n",
    "        \n",
    "        fig, ax = plt.subplots()\n",
    "        ax.plot(s, costs, color=\"black\")\n",
    "        ax.set_xlabel('Number of Iterations')\n",
    "        ax.set_ylabel('Cost')\n",
    "        plt.show()\n",
    "    "
   ]
  },
  {
   "cell_type": "markdown",
   "metadata": {
    "deletable": true,
    "editable": true
   },
   "source": [
    "## 1. Batch gradient descent\n",
    "Gradient Descent Update:\n",
    "$$w^{n + 1} = w^{n} - \\alpha \\cdot \\Sigma_{i=1}^n (\\frac{dJ}{dw})$$\n",
    "$$= w^{n} - \\alpha \\cdot \\Sigma_{i=1}^n (\\frac{dJ}{dw})$$"
   ]
  },
  {
   "cell_type": "code",
   "execution_count": 4,
   "metadata": {
    "collapsed": false,
    "deletable": true,
    "editable": true,
    "scrolled": true
   },
   "outputs": [],
   "source": [
    "def deriv_cost(x, w, y, lam):\n",
    "    \"\"\"\n",
    "    x: N * (D+1)\n",
    "    w: (D+1)*1\n",
    "    y: N * 1\n",
    "    lam: double\n",
    "    \"\"\"\n",
    "    lamM = np.matrix(np.diag(np.array([lam]*d+[0]))) #(D+1)*(D+1)\n",
    "    regularization = 2 * lamM * w # (D+1)*1\n",
    "    log_cost = -x.T*(y - s(w, x))\n",
    "    cost_mean = 1/n * log_cost\n",
    "    return cost_mean + regularization\n",
    "\n",
    "def s(w, x):\n",
    "    \"\"\"\n",
    "    w: (D+1)*1\n",
    "    x: N * (D+1)\n",
    "    return: N * 1\n",
    "    \"\"\"\n",
    "    return 1/(1 + np.exp(-x*w))\n",
    "\n",
    "def cost(w, x, y, lam):    \n",
    "    z = s(w, x)\n",
    "    z = np.array(z).reshape(1,n)[0]\n",
    "    y = np.array(y).reshape(1,n)[0]\n",
    "    loss = -y * np.log(z) - (1 - y) * np.log(1 - z)\n",
    "    regularization = lam * np.linalg.norm(w)**2\n",
    "    return np.mean(loss) + regularization\n",
    "\n",
    "def evaluate(w, x, y):\n",
    "\n",
    "    temp = np.array([[1]*len(x)])\n",
    "    x = np.matrix(np.concatenate((x, temp.T), axis=1)) # N x (D+1)\n",
    "    prob = s(w, x)\n",
    "    y_hat =np.greater_equal(prob, 0.5)\n",
    "    return np.mean(np.equal(y_hat, y))"
   ]
  },
  {
   "cell_type": "code",
   "execution_count": 72,
   "metadata": {
    "collapsed": false,
    "deletable": true,
    "editable": true
   },
   "outputs": [
    {
     "data": {
      "text/plain": [
       "0.22456300902266871"
      ]
     },
     "execution_count": 72,
     "metadata": {},
     "output_type": "execute_result"
    }
   ],
   "source": [
    "# Tune lambda, alpha and step\n",
    "lam = 0.008\n",
    "alpha = 0.008\n",
    "step = 100\n",
    "model = Logistic_Regression(lam)\n",
    "model.train(trainX, trainY, alpha, step, gd_type='batch')"
   ]
  },
  {
   "cell_type": "code",
   "execution_count": 69,
   "metadata": {
    "collapsed": false,
    "deletable": true,
    "editable": true
   },
   "outputs": [
    {
     "name": "stdout",
     "output_type": "stream",
     "text": [
      "Number of Steps 0: cost = 0.6931471805599454\n",
      "Number of Steps 1: cost = 4.652648558012237\n",
      "Number of Steps 2: cost = 3.4344284385380455\n",
      "Number of Steps 3: cost = 2.2214374411832556\n",
      "Number of Steps 4: cost = 1.0382160391925352\n",
      "Number of Steps 5: cost = 0.45497901226839854\n",
      "Number of Steps 6: cost = 2.6902613477540784\n",
      "Number of Steps 7: cost = 1.4964839657821492\n",
      "Number of Steps 8: cost = 0.42999328814248666\n",
      "Number of Steps 9: cost = 2.582755953799376\n",
      "Number of Steps 10: cost = 9.42975366467668\n",
      "Number of Steps 11: cost = 8.20910378478722\n",
      "Number of Steps 12: cost = 6.988898957892314\n",
      "Number of Steps 13: cost = 5.769503314437089\n",
      "Number of Steps 14: cost = 4.5523178579103245\n",
      "Number of Steps 15: cost = 3.34266660807181\n",
      "Number of Steps 16: cost = 2.159629629278649\n",
      "Number of Steps 17: cost = 1.0664726922522274\n",
      "Number of Steps 18: cost = 0.28543382580943966\n",
      "Number of Steps 19: cost = 0.5891101104272795\n",
      "Number of Steps 20: cost = 2.8363024201296274\n",
      "Number of Steps 21: cost = 1.6930789824895875\n",
      "Number of Steps 22: cost = 0.7069234392070891\n",
      "Number of Steps 23: cost = 0.240440122384844\n",
      "Number of Steps 24: cost = 0.30259226902144626\n",
      "Number of Steps 25: cost = 0.5145928438981761\n",
      "Number of Steps 26: cost = 2.217250832809961\n",
      "Number of Steps 27: cost = 1.151733587173689\n",
      "Number of Steps 28: cost = 0.36346039980362826\n",
      "Number of Steps 29: cost = 0.44487175442536137\n",
      "Number of Steps 30: cost = 1.6754900116627853\n",
      "Number of Steps 31: cost = 0.7221308218134687\n",
      "Number of Steps 32: cost = 0.2308089899291691\n",
      "Number of Steps 33: cost = 0.2299565019045796\n",
      "Number of Steps 34: cost = 0.22915559604601046\n",
      "Number of Steps 35: cost = 0.2284065746057049\n",
      "Number of Steps 36: cost = 0.2277301224053866\n",
      "Number of Steps 37: cost = 0.2272845481768433\n",
      "Number of Steps 38: cost = 0.22816987318892432\n",
      "Number of Steps 39: cost = 0.23728606751355846\n",
      "Number of Steps 40: cost = 0.30548492084687373\n",
      "Number of Steps 41: cost = 0.43981771923179086\n",
      "Number of Steps 42: cost = 1.6648712762741529\n",
      "Number of Steps 43: cost = 0.719342736730192\n",
      "Number of Steps 44: cost = 0.22648381757300406\n",
      "Number of Steps 45: cost = 0.22655295153773336\n",
      "Number of Steps 46: cost = 0.23000140581719783\n",
      "Number of Steps 47: cost = 0.2515283859759509\n",
      "Number of Steps 48: cost = 0.40104178016756475\n",
      "Number of Steps 49: cost = 0.36757850116418794\n",
      "Number of Steps 50: cost = 1.1621730662521523\n",
      "Number of Steps 51: cost = 0.3855894843685167\n",
      "Number of Steps 52: cost = 0.3638420243643206\n",
      "Number of Steps 53: cost = 1.1088652407489388\n",
      "Number of Steps 54: cost = 0.36173168303774855\n",
      "Number of Steps 55: cost = 0.3665984954674122\n",
      "Number of Steps 56: cost = 1.100570683224216\n",
      "Number of Steps 57: cost = 0.36230403228757907\n",
      "Number of Steps 58: cost = 0.354679085562161\n",
      "Number of Steps 59: cost = 1.0036844048448332\n",
      "Number of Steps 60: cost = 0.31791400676995973\n",
      "Number of Steps 61: cost = 0.36289011829679085\n",
      "Number of Steps 62: cost = 1.0353693810334388\n",
      "Number of Steps 63: cost = 0.3368766821444858\n",
      "Number of Steps 64: cost = 0.3496337414018223\n",
      "Number of Steps 65: cost = 0.9377723293668255\n",
      "Number of Steps 66: cost = 0.29540293715862925\n",
      "Number of Steps 67: cost = 0.3470515569648271\n",
      "Number of Steps 68: cost = 0.909634993642141\n",
      "Number of Steps 69: cost = 0.2863593342817036\n",
      "Number of Steps 70: cost = 0.33870733957276056\n",
      "Number of Steps 71: cost = 0.8501937928192932\n",
      "Number of Steps 72: cost = 0.26643177430127035\n",
      "Number of Steps 73: cost = 0.3191623035098352\n",
      "Number of Steps 74: cost = 0.7308129361828166\n",
      "Number of Steps 75: cost = 0.23624924801924893\n",
      "Number of Steps 76: cost = 0.25719345645108094\n",
      "Number of Steps 77: cost = 0.38297829413576323\n",
      "Number of Steps 78: cost = 0.31045838091936456\n",
      "Number of Steps 79: cost = 0.6823050595139061\n",
      "Number of Steps 80: cost = 0.22938391596003463\n",
      "Number of Steps 81: cost = 0.23482902327026392\n",
      "Number of Steps 82: cost = 0.2658320204951509\n",
      "Number of Steps 83: cost = 0.31881186997923044\n",
      "Number of Steps 84: cost = 0.7355954432103464\n",
      "Number of Steps 85: cost = 0.23584600707417536\n",
      "Number of Steps 86: cost = 0.25900354597061875\n",
      "Number of Steps 87: cost = 0.39886572272388354\n",
      "Number of Steps 88: cost = 0.2994736633679922\n",
      "Number of Steps 89: cost = 0.6251371065152002\n",
      "Number of Steps 90: cost = 0.2263454574877419\n",
      "Number of Steps 91: cost = 0.22669474361562766\n",
      "Number of Steps 92: cost = 0.22950189408700736\n",
      "Number of Steps 93: cost = 0.24573276399029725\n",
      "Number of Steps 94: cost = 0.2885242750971435\n",
      "Number of Steps 95: cost = 0.5740186653277467\n",
      "Number of Steps 96: cost = 0.23031095774081445\n",
      "Number of Steps 97: cost = 0.2524142131762347\n",
      "Number of Steps 98: cost = 0.30231375624035756\n",
      "Number of Steps 99: cost = 0.6551714940293143\n"
     ]
    },
    {
     "data": {
      "image/png": "[encoded data removed]",
      "text/plain": [
       "<matplotlib.figure.Figure at 0x108490a90>"
      ]
     },
     "metadata": {},
     "output_type": "display_data"
    }
   ],
   "source": [
    "# Plot\n",
    "model = Logistic_Regression(lam)\n",
    "model.plot(step, alpha, gd_type='batch', change_alpha=False)"
   ]
  },
  {
   "cell_type": "code",
   "execution_count": 15,
   "metadata": {
    "collapsed": false,
    "deletable": true,
    "editable": true
   },
   "outputs": [
    {
     "data": {
      "text/plain": [
       "0.93300000000000005"
      ]
     },
     "execution_count": 15,
     "metadata": {},
     "output_type": "execute_result"
    }
   ],
   "source": [
    "# Evaluate\n",
    "evaluate(model.w, ValidateX, ValidateY)"
   ]
  },
  {
   "cell_type": "markdown",
   "metadata": {
    "deletable": true,
    "editable": true
   },
   "source": [
    "## 2. Stochastic gradient descent\n",
    "$$w^{n + 1} = w^{n} - \\alpha \\cdot \\frac{dJ_i}{dw}$$\n",
    "$$\\frac{dJ}{dw} = -\\frac{1}{n}(y_i - s_i)x_i + 2\\lambda w$$\n",
    "$x_i$ is (D+1)x1, w is (D+1)x1"
   ]
  },
  {
   "cell_type": "code",
   "execution_count": 16,
   "metadata": {
    "collapsed": true,
    "deletable": true,
    "editable": true
   },
   "outputs": [],
   "source": [
    "def stochastic_deriv_cost(x, w, y, lam):\n",
    "    lamM = np.matrix(np.diag(np.array([lam]*d+[0]))) #(D+1)*(D+1)\n",
    "    regularization = 2 * lamM * w # (D+1)*1\n",
    "    rand = randint(0,n-1)\n",
    "    x = x[rand]\n",
    "    y = y[rand]\n",
    "    log_cost = -1/n*(y.item(0) - s(w, x).item(0))*x\n",
    "    return log_cost.reshape(d+1, 1) + regularization # (D+1)*1"
   ]
  },
  {
   "cell_type": "code",
   "execution_count": 82,
   "metadata": {
    "collapsed": false,
    "deletable": true,
    "editable": true
   },
   "outputs": [
    {
     "data": {
      "text/plain": [
       "0.42290874395401645"
      ]
     },
     "execution_count": 82,
     "metadata": {},
     "output_type": "execute_result"
    }
   ],
   "source": [
    "# Tune lambda, alpha and step\n",
    "lam = 0.008\n",
    "alpha = 0.008\n",
    "step = 200\n",
    "model = Logistic_Regression(lam)\n",
    "model.train(trainX, trainY, alpha, step, gd_type='stochastic')"
   ]
  },
  {
   "cell_type": "code",
   "execution_count": 83,
   "metadata": {
    "collapsed": false,
    "deletable": true,
    "editable": true
   },
   "outputs": [
    {
     "name": "stdout",
     "output_type": "stream",
     "text": [
      "Number of Steps 0: cost = 0.6931471805599454\n",
      "Number of Steps 1: cost = 0.6898995721784491\n",
      "Number of Steps 2: cost = 0.6939435177295066\n",
      "Number of Steps 3: cost = 0.6769749104465881\n",
      "Number of Steps 4: cost = 0.6742983863127695\n",
      "Number of Steps 5: cost = 0.6678532133215488\n",
      "Number of Steps 6: cost = 0.6798523919241465\n",
      "Number of Steps 7: cost = 0.6709055621593936\n",
      "Number of Steps 8: cost = 0.6610497691810467\n",
      "Number of Steps 9: cost = 0.6471695249449971\n",
      "Number of Steps 10: cost = 0.6667038121017392\n",
      "Number of Steps 11: cost = 0.6620304219455532\n",
      "Number of Steps 12: cost = 0.6410278148993601\n",
      "Number of Steps 13: cost = 0.6472370663309317\n",
      "Number of Steps 14: cost = 0.6451489358073355\n",
      "Number of Steps 15: cost = 0.6435082687770414\n",
      "Number of Steps 16: cost = 0.63960964355173\n",
      "Number of Steps 17: cost = 0.6468898626981128\n",
      "Number of Steps 18: cost = 0.6533444178920277\n",
      "Number of Steps 19: cost = 0.6104910978434179\n",
      "Number of Steps 20: cost = 0.6000892743024562\n",
      "Number of Steps 21: cost = 0.6216711016632807\n",
      "Number of Steps 22: cost = 0.6176076809530222\n",
      "Number of Steps 23: cost = 0.6255812695739231\n",
      "Number of Steps 24: cost = 0.6305387531297413\n",
      "Number of Steps 25: cost = 0.6188102043557346\n",
      "Number of Steps 26: cost = 0.6049466231698557\n",
      "Number of Steps 27: cost = 0.5992044595504589\n",
      "Number of Steps 28: cost = 0.6102633305580026\n",
      "Number of Steps 29: cost = 0.5959619177479454\n",
      "Number of Steps 30: cost = 0.6230046683924308\n",
      "Number of Steps 31: cost = 0.583396561179326\n",
      "Number of Steps 32: cost = 0.6108761630962891\n",
      "Number of Steps 33: cost = 0.5785808087078393\n",
      "Number of Steps 34: cost = 0.57275978404234\n",
      "Number of Steps 35: cost = 0.5804029540951592\n",
      "Number of Steps 36: cost = 0.5992785978540698\n",
      "Number of Steps 37: cost = 0.6065198211572993\n",
      "Number of Steps 38: cost = 0.5829228507914942\n",
      "Number of Steps 39: cost = 0.5830331950213969\n",
      "Number of Steps 40: cost = 0.5795967853171279\n",
      "Number of Steps 41: cost = 0.5643599340140046\n",
      "Number of Steps 42: cost = 0.5595575978298426\n",
      "Number of Steps 43: cost = 0.5600674020518555\n",
      "Number of Steps 44: cost = 0.5843478114548208\n",
      "Number of Steps 45: cost = 0.5775358745017655\n",
      "Number of Steps 46: cost = 0.5695624371624993\n",
      "Number of Steps 47: cost = 0.5509921386404865\n",
      "Number of Steps 48: cost = 0.55405586736275\n",
      "Number of Steps 49: cost = 0.5562265630021341\n",
      "Number of Steps 50: cost = 0.5673433525818821\n",
      "Number of Steps 51: cost = 0.5580810736331897\n",
      "Number of Steps 52: cost = 0.5625334842375337\n",
      "Number of Steps 53: cost = 0.5591206555252474\n",
      "Number of Steps 54: cost = 0.5460044442639073\n",
      "Number of Steps 55: cost = 0.5822598788588376\n",
      "Number of Steps 56: cost = 0.5511705831017393\n",
      "Number of Steps 57: cost = 0.5474903034506349\n",
      "Number of Steps 58: cost = 0.5398691103883172\n",
      "Number of Steps 59: cost = 0.5534607050750896\n",
      "Number of Steps 60: cost = 0.5338848300866598\n",
      "Number of Steps 61: cost = 0.5404014738564533\n",
      "Number of Steps 62: cost = 0.531911911223238\n",
      "Number of Steps 63: cost = 0.540891527850051\n",
      "Number of Steps 64: cost = 0.535922587575321\n",
      "Number of Steps 65: cost = 0.5475519706055947\n",
      "Number of Steps 66: cost = 0.544383405319834\n",
      "Number of Steps 67: cost = 0.540903259826918\n",
      "Number of Steps 68: cost = 0.5206577600259336\n",
      "Number of Steps 69: cost = 0.5392079272655815\n",
      "Number of Steps 70: cost = 0.511712104310484\n",
      "Number of Steps 71: cost = 0.5206121387636798\n",
      "Number of Steps 72: cost = 0.520238200553154\n",
      "Number of Steps 73: cost = 0.5413861105721093\n",
      "Number of Steps 74: cost = 0.5450567803163333\n",
      "Number of Steps 75: cost = 0.5253700676411689\n",
      "Number of Steps 76: cost = 0.49864800795351194\n",
      "Number of Steps 77: cost = 0.5122454434056456\n",
      "Number of Steps 78: cost = 0.5191815731178944\n",
      "Number of Steps 79: cost = 0.5318812619417119\n",
      "Number of Steps 80: cost = 0.521182573859214\n",
      "Number of Steps 81: cost = 0.5010913832571453\n",
      "Number of Steps 82: cost = 0.5045472565732279\n",
      "Number of Steps 83: cost = 0.4972300528661189\n",
      "Number of Steps 84: cost = 0.49690542981231045\n",
      "Number of Steps 85: cost = 0.508326593226589\n",
      "Number of Steps 86: cost = 0.48649272788108266\n",
      "Number of Steps 87: cost = 0.5077968578155417\n",
      "Number of Steps 88: cost = 0.508152838951792\n",
      "Number of Steps 89: cost = 0.5096782161202158\n",
      "Number of Steps 90: cost = 0.49423157967554504\n",
      "Number of Steps 91: cost = 0.5089731724449814\n",
      "Number of Steps 92: cost = 0.49867716148999947\n",
      "Number of Steps 93: cost = 0.4871060221684134\n",
      "Number of Steps 94: cost = 0.5080180694456149\n",
      "Number of Steps 95: cost = 0.4834725531855127\n",
      "Number of Steps 96: cost = 0.488688801010388\n",
      "Number of Steps 97: cost = 0.5039110510718514\n",
      "Number of Steps 98: cost = 0.4906370236600591\n",
      "Number of Steps 99: cost = 0.4838684786787376\n",
      "Number of Steps 100: cost = 0.4920279635611212\n",
      "Number of Steps 101: cost = 0.48454108881190855\n",
      "Number of Steps 102: cost = 0.4990871283724515\n",
      "Number of Steps 103: cost = 0.4857712335432965\n",
      "Number of Steps 104: cost = 0.48746962452283704\n",
      "Number of Steps 105: cost = 0.5110679405034168\n",
      "Number of Steps 106: cost = 0.4661544709121955\n",
      "Number of Steps 107: cost = 0.49200918926225107\n",
      "Number of Steps 108: cost = 0.5076648625160122\n",
      "Number of Steps 109: cost = 0.49714704241925156\n",
      "Number of Steps 110: cost = 0.4977792969085391\n",
      "Number of Steps 111: cost = 0.4929689121955555\n",
      "Number of Steps 112: cost = 0.4848361967312206\n",
      "Number of Steps 113: cost = 0.47100734609117556\n",
      "Number of Steps 114: cost = 0.46958552654812413\n",
      "Number of Steps 115: cost = 0.4630053307124764\n",
      "Number of Steps 116: cost = 0.4829199371159061\n",
      "Number of Steps 117: cost = 0.4894145738454954\n",
      "Number of Steps 118: cost = 0.4761388430306791\n",
      "Number of Steps 119: cost = 0.4925383692692573\n",
      "Number of Steps 120: cost = 0.47383244821851267\n",
      "Number of Steps 121: cost = 0.4662111483696409\n",
      "Number of Steps 122: cost = 0.4855831212965373\n",
      "Number of Steps 123: cost = 0.4676407860109886\n",
      "Number of Steps 124: cost = 0.4664747305430065\n",
      "Number of Steps 125: cost = 0.46629753407479035\n",
      "Number of Steps 126: cost = 0.46772413980302874\n",
      "Number of Steps 127: cost = 0.4702223506884214\n",
      "Number of Steps 128: cost = 0.4642146280391636\n",
      "Number of Steps 129: cost = 0.46499941696382\n",
      "Number of Steps 130: cost = 0.48649796026050646\n",
      "Number of Steps 131: cost = 0.46557069889341623\n",
      "Number of Steps 132: cost = 0.4658811271710724\n",
      "Number of Steps 133: cost = 0.46766013130639134\n",
      "Number of Steps 134: cost = 0.4761540848407897\n",
      "Number of Steps 135: cost = 0.4633576294567721\n",
      "Number of Steps 136: cost = 0.46242581340043504\n",
      "Number of Steps 137: cost = 0.4583905348969938\n",
      "Number of Steps 138: cost = 0.46504646091374147\n",
      "Number of Steps 139: cost = 0.46017389692584454\n",
      "Number of Steps 140: cost = 0.44773610965843585\n",
      "Number of Steps 141: cost = 0.454656589365957\n",
      "Number of Steps 142: cost = 0.4579030390637237\n",
      "Number of Steps 143: cost = 0.43992231745212934\n",
      "Number of Steps 144: cost = 0.45547930961202715\n",
      "Number of Steps 145: cost = 0.4614715808426839\n",
      "Number of Steps 146: cost = 0.4502161036336933\n",
      "Number of Steps 147: cost = 0.45722054592902184\n",
      "Number of Steps 148: cost = 0.4511202539833453\n",
      "Number of Steps 149: cost = 0.4551165062426975\n",
      "Number of Steps 150: cost = 0.4441734506874725\n",
      "Number of Steps 151: cost = 0.4394963667268992\n",
      "Number of Steps 152: cost = 0.45695626383858273\n",
      "Number of Steps 153: cost = 0.45864816852827817\n",
      "Number of Steps 154: cost = 0.4508200259301026\n",
      "Number of Steps 155: cost = 0.4545513915838942\n",
      "Number of Steps 156: cost = 0.44467356751524656\n",
      "Number of Steps 157: cost = 0.4487324590612332\n",
      "Number of Steps 158: cost = 0.43375483749334875\n",
      "Number of Steps 159: cost = 0.4498633867346485\n",
      "Number of Steps 160: cost = 0.4464241466068859\n",
      "Number of Steps 161: cost = 0.4425730038457165\n",
      "Number of Steps 162: cost = 0.4455430454997511\n",
      "Number of Steps 163: cost = 0.4505227498361605\n",
      "Number of Steps 164: cost = 0.4441684860055438\n",
      "Number of Steps 165: cost = 0.453151452445918\n",
      "Number of Steps 166: cost = 0.44600239199154107\n",
      "Number of Steps 167: cost = 0.44187722399893264\n",
      "Number of Steps 168: cost = 0.43036839828709855\n",
      "Number of Steps 169: cost = 0.457958885194119\n",
      "Number of Steps 170: cost = 0.4365475296233162\n",
      "Number of Steps 171: cost = 0.44167769386663447\n",
      "Number of Steps 172: cost = 0.43333459438654354\n",
      "Number of Steps 173: cost = 0.448955528260072\n",
      "Number of Steps 174: cost = 0.4451746946653737\n",
      "Number of Steps 175: cost = 0.4347462313908269\n",
      "Number of Steps 176: cost = 0.43936548308666584\n",
      "Number of Steps 177: cost = 0.43763975612797457\n",
      "Number of Steps 178: cost = 0.4367337764095516\n",
      "Number of Steps 179: cost = 0.42221904889148365\n",
      "Number of Steps 180: cost = 0.43353670362050845\n",
      "Number of Steps 181: cost = 0.4312063562631696\n",
      "Number of Steps 182: cost = 0.44120181216245563\n",
      "Number of Steps 183: cost = 0.44080050757429445\n",
      "Number of Steps 184: cost = 0.44522944829034783\n",
      "Number of Steps 185: cost = 0.42591863497264354\n",
      "Number of Steps 186: cost = 0.43362371821287166\n",
      "Number of Steps 187: cost = 0.45529122895288454\n",
      "Number of Steps 188: cost = 0.43810814602962944\n",
      "Number of Steps 189: cost = 0.4333446021082592\n",
      "Number of Steps 190: cost = 0.4270068153357451\n",
      "Number of Steps 191: cost = 0.44339858662227427\n",
      "Number of Steps 192: cost = 0.42272413218846283\n",
      "Number of Steps 193: cost = 0.4262414515089935\n",
      "Number of Steps 194: cost = 0.43526326989900727\n",
      "Number of Steps 195: cost = 0.4298273758028071\n",
      "Number of Steps 196: cost = 0.4199683828821118\n",
      "Number of Steps 197: cost = 0.4351152145592364\n",
      "Number of Steps 198: cost = 0.42904103000852006\n",
      "Number of Steps 199: cost = 0.4307390565834085\n"
     ]
    },
    {
     "data": {
      "image/png": "[encoded data removed]",
      "text/plain": [
       "<matplotlib.figure.Figure at 0x1085c96d8>"
      ]
     },
     "metadata": {},
     "output_type": "display_data"
    }
   ],
   "source": [
    "# Plot\n",
    "model.plot(step, alpha, gd_type='stochastic', change_alpha=False)"
   ]
  },
  {
   "cell_type": "code",
   "execution_count": 70,
   "metadata": {
    "collapsed": false,
    "deletable": true,
    "editable": true
   },
   "outputs": [
    {
     "data": {
      "text/plain": [
       "0.86199999999999999"
      ]
     },
     "execution_count": 70,
     "metadata": {},
     "output_type": "execute_result"
    }
   ],
   "source": [
    "evaluate(model.w, ValidateX, ValidateY)"
   ]
  },
  {
   "cell_type": "markdown",
   "metadata": {},
   "source": [
    "### Batch V.S. Stochastic Gradient Descent  \n",
    "Using the same alpha and lambda values, stochastic tends to converge slower than batch. This makes sense because stochastic only utilizes one point at an iteration so it \"learns\" slower. "
   ]
  },
  {
   "cell_type": "markdown",
   "metadata": {
    "deletable": true,
    "editable": true
   },
   "source": [
    "## 3. Changing alpha"
   ]
  },
  {
   "cell_type": "code",
   "execution_count": 102,
   "metadata": {
    "collapsed": false,
    "deletable": true,
    "editable": true
   },
   "outputs": [
    {
     "data": {
      "text/plain": [
       "0.3800500914058671"
      ]
     },
     "execution_count": 102,
     "metadata": {},
     "output_type": "execute_result"
    }
   ],
   "source": [
    "# Tune lambda, alpha and step\n",
    "lam = 0.008\n",
    "alpha = 280\n",
    "step = 200\n",
    "model = Logistic_Regression(lam)\n",
    "model.train(trainX, trainY, alpha, step, gd_type='stochastic', change_alpha=True)"
   ]
  },
  {
   "cell_type": "code",
   "execution_count": 103,
   "metadata": {
    "collapsed": false,
    "deletable": true,
    "editable": true
   },
   "outputs": [
    {
     "name": "stdout",
     "output_type": "stream",
     "text": [
      "Number of Steps 0: cost = 0.6931471805599454\n",
      "Number of Steps 1: cost = nan\n",
      "Number of Steps 2: cost = nan\n",
      "Number of Steps 3: cost = 5.089023127960172\n",
      "Number of Steps 4: cost = 5.439357597578206\n",
      "Number of Steps 5: cost = 6.203119306320787\n",
      "Number of Steps 6: cost = 8.161234525325803\n",
      "Number of Steps 7: cost = 6.033677337029043\n",
      "Number of Steps 8: cost = 5.365908066921986\n",
      "Number of Steps 9: cost = 0.44248345595788724\n",
      "Number of Steps 10: cost = 5.725086901180812\n",
      "Number of Steps 11: cost = 3.9219700700494124\n",
      "Number of Steps 12: cost = 5.233544074142104\n",
      "Number of Steps 13: cost = 3.636648616763738\n",
      "Number of Steps 14: cost = 1.2292204827666318\n",
      "Number of Steps 15: cost = 7.9199193754002035\n",
      "Number of Steps 16: cost = 4.185909046049335\n",
      "Number of Steps 17: cost = 1.9471285638708031\n",
      "Number of Steps 18: cost = 2.4564441874420773\n"
     ]
    },
    {
     "name": "stderr",
     "output_type": "stream",
     "text": [
      "/Library/Frameworks/Python.framework/Versions/3.6/lib/python3.6/site-packages/ipykernel/__main__.py:26: RuntimeWarning: divide by zero encountered in log\n",
      "/Library/Frameworks/Python.framework/Versions/3.6/lib/python3.6/site-packages/ipykernel/__main__.py:26: RuntimeWarning: invalid value encountered in multiply\n"
     ]
    },
    {
     "name": "stdout",
     "output_type": "stream",
     "text": [
      "Number of Steps 19: cost = 2.063491931645779\n",
      "Number of Steps 20: cost = 2.4806316183933235\n",
      "Number of Steps 21: cost = inf\n",
      "Number of Steps 22: cost = inf\n",
      "Number of Steps 23: cost = 1.605280738577474\n",
      "Number of Steps 24: cost = 2.309623643478322\n",
      "Number of Steps 25: cost = 2.3194784860231925\n",
      "Number of Steps 26: cost = 2.6609944239103633\n",
      "Number of Steps 27: cost = 2.4414940083794314\n",
      "Number of Steps 28: cost = 2.0873100855353433\n",
      "Number of Steps 29: cost = 1.836142503488578\n",
      "Number of Steps 30: cost = 1.0987421406832512\n",
      "Number of Steps 31: cost = 1.8208007484692053\n",
      "Number of Steps 32: cost = 6.537342402811006\n",
      "Number of Steps 33: cost = 1.8907873603608718\n",
      "Number of Steps 34: cost = 1.0173435149220325\n",
      "Number of Steps 35: cost = 1.3932372919386715\n",
      "Number of Steps 36: cost = 0.9827906074802019\n",
      "Number of Steps 37: cost = 1.8145579613879268\n",
      "Number of Steps 38: cost = 1.547651548693992\n",
      "Number of Steps 39: cost = 1.6168765743741815\n",
      "Number of Steps 40: cost = 1.6549157778012529\n",
      "Number of Steps 41: cost = 2.400520743434131\n",
      "Number of Steps 42: cost = 0.6466098881870116\n",
      "Number of Steps 43: cost = 5.6576878152910846\n",
      "Number of Steps 44: cost = 0.8047257438957526\n",
      "Number of Steps 45: cost = 2.3261764772053253\n",
      "Number of Steps 46: cost = 1.1790662821492475\n",
      "Number of Steps 47: cost = 0.7244508754989143\n",
      "Number of Steps 48: cost = 1.3287281973864657\n",
      "Number of Steps 49: cost = 1.324000504629243\n",
      "Number of Steps 50: cost = 1.08079596942073\n",
      "Number of Steps 51: cost = 0.6991444921832648\n",
      "Number of Steps 52: cost = 0.5485315787143594\n",
      "Number of Steps 53: cost = 0.8863930929295348\n",
      "Number of Steps 54: cost = 0.8384936725613015\n",
      "Number of Steps 55: cost = 1.4977451961847916\n",
      "Number of Steps 56: cost = 0.409755884526976\n",
      "Number of Steps 57: cost = 2.451019934090307\n",
      "Number of Steps 58: cost = 0.5594542990317698\n",
      "Number of Steps 59: cost = 0.6837520840966608\n",
      "Number of Steps 60: cost = 0.6797279485346236\n",
      "Number of Steps 61: cost = 0.5957021950629526\n",
      "Number of Steps 62: cost = 0.6475868029818355\n",
      "Number of Steps 63: cost = 0.5970885480499015\n",
      "Number of Steps 64: cost = 4.827602225775775\n",
      "Number of Steps 65: cost = 1.5617258161923429\n",
      "Number of Steps 66: cost = 1.2156912486073908\n",
      "Number of Steps 67: cost = 3.0276281128467004\n",
      "Number of Steps 68: cost = 3.11970304023021\n",
      "Number of Steps 69: cost = 0.3832416542124075\n",
      "Number of Steps 70: cost = 0.8210246870899905\n",
      "Number of Steps 71: cost = 0.6328010001160265\n",
      "Number of Steps 72: cost = 0.6708447529057218\n",
      "Number of Steps 73: cost = 0.8577323930822769\n",
      "Number of Steps 74: cost = 0.666349467698959\n",
      "Number of Steps 75: cost = 0.9169737296264239\n",
      "Number of Steps 76: cost = 0.5827453273855105\n",
      "Number of Steps 77: cost = 1.4185489252880175\n",
      "Number of Steps 78: cost = 0.5409413194832825\n",
      "Number of Steps 79: cost = 0.8419692244609347\n",
      "Number of Steps 80: cost = 0.6553319637291015\n",
      "Number of Steps 81: cost = 0.4903352102609136\n",
      "Number of Steps 82: cost = 0.7454917000739497\n",
      "Number of Steps 83: cost = 0.5281261765240507\n",
      "Number of Steps 84: cost = 0.9043671602780896\n",
      "Number of Steps 85: cost = 0.6431192673197978\n",
      "Number of Steps 86: cost = 0.6795152207082892\n",
      "Number of Steps 87: cost = 0.473363119097295\n",
      "Number of Steps 88: cost = 0.5307258969671198\n",
      "Number of Steps 89: cost = 0.637147371557614\n",
      "Number of Steps 90: cost = 0.7757317983117489\n",
      "Number of Steps 91: cost = 0.5174416952859877\n",
      "Number of Steps 92: cost = 3.419834554255248\n",
      "Number of Steps 93: cost = 0.44023403408755635\n",
      "Number of Steps 94: cost = 0.6318223818717723\n",
      "Number of Steps 95: cost = 0.5072175766376594\n",
      "Number of Steps 96: cost = 0.5000621243133484\n",
      "Number of Steps 97: cost = 0.5492019606691741\n",
      "Number of Steps 98: cost = 0.6468318058515433\n",
      "Number of Steps 99: cost = 1.9333531679642755\n",
      "Number of Steps 100: cost = 0.47439490776481164\n",
      "Number of Steps 101: cost = 0.5212301134508097\n",
      "Number of Steps 102: cost = 0.6633954746249114\n",
      "Number of Steps 103: cost = 0.4792847027888935\n",
      "Number of Steps 104: cost = 0.6096361735245167\n",
      "Number of Steps 105: cost = 0.46782499958117313\n",
      "Number of Steps 106: cost = 0.6188673613390319\n",
      "Number of Steps 107: cost = 0.42958448054217213\n",
      "Number of Steps 108: cost = 1.8974340131007017\n",
      "Number of Steps 109: cost = 0.4843684772152624\n",
      "Number of Steps 110: cost = 1.0246905032205875\n",
      "Number of Steps 111: cost = 0.42468301085011634\n",
      "Number of Steps 112: cost = 0.40317861704207114\n",
      "Number of Steps 113: cost = 2.1978233198647756\n",
      "Number of Steps 114: cost = 0.5921701835832339\n",
      "Number of Steps 115: cost = 0.5666559071157479\n",
      "Number of Steps 116: cost = 0.6227384589171718\n",
      "Number of Steps 117: cost = 0.414912693160839\n",
      "Number of Steps 118: cost = 3.4149557635271566\n",
      "Number of Steps 119: cost = 0.3823153655387223\n",
      "Number of Steps 120: cost = 0.42993063060338604\n",
      "Number of Steps 121: cost = 0.6596329787335029\n",
      "Number of Steps 122: cost = 1.5587580835819068\n",
      "Number of Steps 123: cost = 0.3991590881819302\n",
      "Number of Steps 124: cost = 1.766952228297653\n",
      "Number of Steps 125: cost = 0.3911961695647968\n",
      "Number of Steps 126: cost = 0.5104528365823993\n",
      "Number of Steps 127: cost = 0.42752126657530126\n",
      "Number of Steps 128: cost = 0.8852722924572713\n",
      "Number of Steps 129: cost = 2.0060688086860927\n",
      "Number of Steps 130: cost = 0.39063430581389635\n",
      "Number of Steps 131: cost = 0.44975713237224124\n",
      "Number of Steps 132: cost = 0.4147540249394532\n",
      "Number of Steps 133: cost = 0.8122469966205031\n",
      "Number of Steps 134: cost = 0.4545309084747661\n",
      "Number of Steps 135: cost = 0.9420250565957041\n",
      "Number of Steps 136: cost = 0.3930112308165437\n",
      "Number of Steps 137: cost = 0.4046289108915702\n",
      "Number of Steps 138: cost = 1.4315204093621945\n",
      "Number of Steps 139: cost = 0.38399103988199224\n",
      "Number of Steps 140: cost = 0.4120657915310491\n",
      "Number of Steps 141: cost = 0.4157869984980351\n",
      "Number of Steps 142: cost = 1.1398031187250413\n",
      "Number of Steps 143: cost = 0.41136075518671816\n",
      "Number of Steps 144: cost = 0.38012980596867685\n",
      "Number of Steps 145: cost = 0.40674997952260383\n",
      "Number of Steps 146: cost = 0.45563810584548126\n",
      "Number of Steps 147: cost = 0.49561623546370215\n",
      "Number of Steps 148: cost = 0.48973065400630295\n",
      "Number of Steps 149: cost = 0.4025417630424163\n",
      "Number of Steps 150: cost = 0.45527400138576696\n",
      "Number of Steps 151: cost = 0.4065294303744572\n",
      "Number of Steps 152: cost = 0.39688409108129974\n",
      "Number of Steps 153: cost = 0.4826926987597535\n",
      "Number of Steps 154: cost = 1.2349901219478159\n",
      "Number of Steps 155: cost = 1.0652596089505206\n",
      "Number of Steps 156: cost = 0.8812189996218023\n",
      "Number of Steps 157: cost = 0.8914479573906743\n",
      "Number of Steps 158: cost = 0.38354767954617025\n",
      "Number of Steps 159: cost = 2.2783447950209395\n",
      "Number of Steps 160: cost = 0.49260933047070243\n",
      "Number of Steps 161: cost = 2.0845848876646493\n",
      "Number of Steps 162: cost = 1.0138565866709448\n",
      "Number of Steps 163: cost = 1.0440303127258892\n",
      "Number of Steps 164: cost = 1.1133420161592658\n",
      "Number of Steps 165: cost = 0.3930741235779034\n",
      "Number of Steps 166: cost = 0.3787004169109608\n",
      "Number of Steps 167: cost = 0.42326936667603765\n",
      "Number of Steps 168: cost = 1.580693127591806\n",
      "Number of Steps 169: cost = 0.42095562268034364\n",
      "Number of Steps 170: cost = 0.3995709265572612\n",
      "Number of Steps 171: cost = 0.38132529144096855\n",
      "Number of Steps 172: cost = 0.9869289839416029\n",
      "Number of Steps 173: cost = 0.42324353387584834\n",
      "Number of Steps 174: cost = 0.4187328239861091\n",
      "Number of Steps 175: cost = 1.1677155836371111\n",
      "Number of Steps 176: cost = 1.3793013836145311\n",
      "Number of Steps 177: cost = 0.38536199105962493\n",
      "Number of Steps 178: cost = 0.5346348009498251\n",
      "Number of Steps 179: cost = 0.8283786510014611\n",
      "Number of Steps 180: cost = 0.4300632817707349\n",
      "Number of Steps 181: cost = 0.8218792266831559\n",
      "Number of Steps 182: cost = 0.44655409277094943\n",
      "Number of Steps 183: cost = 0.3992271601376332\n",
      "Number of Steps 184: cost = 0.5052789419267921\n",
      "Number of Steps 185: cost = 0.38539071145040954\n",
      "Number of Steps 186: cost = 0.3804618192512257\n",
      "Number of Steps 187: cost = 0.3907613786544467\n",
      "Number of Steps 188: cost = 0.39662457769829024\n",
      "Number of Steps 189: cost = 0.43057847239623803\n",
      "Number of Steps 190: cost = 1.0175750629812241\n",
      "Number of Steps 191: cost = 0.40313926800115807\n",
      "Number of Steps 192: cost = 0.8112874699554277\n",
      "Number of Steps 193: cost = 1.3934978285161084\n",
      "Number of Steps 194: cost = 0.395432199026602\n",
      "Number of Steps 195: cost = 0.38927739596972066\n",
      "Number of Steps 196: cost = 1.1506687192710148\n",
      "Number of Steps 197: cost = 0.3788890906780189\n",
      "Number of Steps 198: cost = 0.39723236399820755\n",
      "Number of Steps 199: cost = 1.0339545092836044\n"
     ]
    },
    {
     "data": {
      "image/png": "[encoded data removed]",
      "text/plain": [
       "<matplotlib.figure.Figure at 0x108aee588>"
      ]
     },
     "metadata": {},
     "output_type": "display_data"
    }
   ],
   "source": [
    "# Plot\n",
    "model.plot(step, alpha, gd_type='stochastic', change_alpha=True)"
   ]
  },
  {
   "cell_type": "code",
   "execution_count": 104,
   "metadata": {
    "collapsed": false,
    "deletable": true,
    "editable": true
   },
   "outputs": [
    {
     "data": {
      "text/plain": [
       "0.25700000000000001"
      ]
     },
     "execution_count": 104,
     "metadata": {},
     "output_type": "execute_result"
    }
   ],
   "source": [
    "evaluate(model.w, ValidateX, ValidateY)"
   ]
  },
  {
   "cell_type": "markdown",
   "metadata": {},
   "source": [
    "### Constant V.S. Dynamic Alpha\n",
    "The cost tends to fluctuate more than having a constant alpha"
   ]
  },
  {
   "cell_type": "markdown",
   "metadata": {
    "deletable": true,
    "editable": true
   },
   "source": [
    "## 4. Kaggle"
   ]
  },
  {
   "cell_type": "code",
   "execution_count": null,
   "metadata": {
    "collapsed": false,
    "deletable": true,
    "editable": true
   },
   "outputs": [],
   "source": [
    "lam = 0.008\n",
    "alpha = 0.008\n",
    "step = 800\n",
    "model = Logistic_Regression(lam)\n",
    "model.train(trainX, trainY, alpha, step, gd_type='batch')\n",
    "evaluate(model.w, ValidateX, ValidateY)"
   ]
  },
  {
   "cell_type": "code",
   "execution_count": null,
   "metadata": {
    "collapsed": false,
    "deletable": true,
    "editable": true
   },
   "outputs": [],
   "source": [
    "y = model.predict(testX)"
   ]
  },
  {
   "cell_type": "code",
   "execution_count": null,
   "metadata": {
    "collapsed": false,
    "deletable": true,
    "editable": true
   },
   "outputs": [],
   "source": [
    "import pandas as pd\n",
    "df = pd.DataFrame(data = y, columns=[\"Category\"]) \n",
    "df.index.name = \"Id\"\n",
    "df.to_csv(\"./wine.csv\")"
   ]
  }
 ],
 "metadata": {
  "kernelspec": {
   "display_name": "Python 3",
   "language": "python",
   "name": "python3"
  },
  "language_info": {
   "codemirror_mode": {
    "name": "ipython",
    "version": 3
   },
   "file_extension": ".py",
   "mimetype": "text/x-python",
   "name": "python",
   "nbconvert_exporter": "python",
   "pygments_lexer": "ipython3",
   "version": "3.6.0"
  }
 },
 "nbformat": 4,
 "nbformat_minor": 2
}
