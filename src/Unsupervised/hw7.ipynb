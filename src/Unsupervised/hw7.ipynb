{
 "cells": [
  {
   "cell_type": "code",
   "execution_count": null,
   "metadata": {
    "collapsed": false,
    "deletable": true,
    "editable": true
   },
   "outputs": [],
   "source": [
    "import math\n",
    "import numpy as np\n",
    "from scipy.io import loadmat\n",
    "import csv\n",
    "import random\n",
    "import pandas as pd\n",
    "from scipy.ndimage.interpolation import rotate\n",
    "from sklearn.preprocessing import normalize, scale\n",
    "import matplotlib\n",
    "import matplotlib.cm as cm\n",
    "import matplotlib.mlab as mlab\n",
    "import matplotlib.pyplot as plt\n",
    "from collections import Counter\n",
    "from sklearn.utils import shuffle\n",
    "from joblib import Parallel, delayed\n",
    "import multiprocessing\n",
    "from scipy.misc import imsave\n",
    "from skimage.io import imread\n",
    "import pickle"
   ]
  },
  {
   "cell_type": "code",
   "execution_count": 2,
   "metadata": {
    "collapsed": true,
    "deletable": true,
    "editable": true
   },
   "outputs": [],
   "source": [
    "def write_CSV(prediction, fileName):\n",
    "    header = \"Id,Category\\n\"\n",
    "    output = \"\"\n",
    "    for i in range(len(prediction)):\n",
    "#         output += str(i) + \",\" + str(prediction[i]) + '\\n'\n",
    "        output += str(i+1) + \",\" + str(prediction[i]) + '\\n'\n",
    "    answers = header + output\n",
    "    with open(fileName, \"w\") as f:\n",
    "        f.write(answers)\n",
    "        \n",
    "def save_obj(obj, name):\n",
    "    f = open(name, 'wb')\n",
    "    pickle.dump(obj, f)\n",
    "    f.close()\n",
    "\n",
    "def load_obj(name):\n",
    "    f = open(name, 'rb')\n",
    "    obj = pickle.load(f)\n",
    "    f.close()\n",
    "    return obj"
   ]
  },
  {
   "cell_type": "code",
   "execution_count": null,
   "metadata": {
    "collapsed": false
   },
   "outputs": [],
   "source": [
    "## Q1 Data\n",
    "mnist = loadmat(\"/Users/clark/Desktop/189Data/hw7_data/mnist_data/images.mat\")\n",
    "# print(mnist.keys())\n",
    "mnist_data = mnist[\"images\"]\n",
    "# print(mnist_data.shape)\n",
    "mnist_data = mnist_data.reshape(28*28, 60000).T\n",
    "# print(mnist_data.shape)\n",
    "np.random.shuffle(mnist_data)"
   ]
  },
  {
   "cell_type": "markdown",
   "metadata": {
    "deletable": true,
    "editable": true
   },
   "source": [
    "## Code for reference"
   ]
  },
  {
   "cell_type": "code",
   "execution_count": null,
   "metadata": {
    "collapsed": false
   },
   "outputs": [],
   "source": [
    "def k_means(data, k = 10, max_iter = 500):\n",
    "    length = len(data)\n",
    "    partition = []\n",
    "    part_length = []\n",
    "    for i in range(k):\n",
    "        partition.append([])\n",
    "        part_length.append(0)\n",
    "    #Forgy method: (step 2)\n",
    "    indices = np.random.randint(low = 0, high=length, size=k)\n",
    "    mu = []\n",
    "    count = 0\n",
    "    for i in indices:\n",
    "        mu.append(data[i])\n",
    "    while (True):\n",
    "        print(count)\n",
    "        count += 1\n",
    "        if (count >= max_iter):\n",
    "            print(\"Reach max iterations\")\n",
    "            return mu\n",
    "        \n",
    "        temp_part = []\n",
    "        #step 2:\n",
    "        for i in range(length):\n",
    "            point = data[i]\n",
    "            centroid_index = np.argmin(np.linalg.norm(point - mu, axis=1))\n",
    "            partition[centroid_index].append(point)\n",
    "        #step 1:\n",
    "        for i in range(k):\n",
    "            mu[i] = np.mean(partition[i], axis=0)\n",
    "            temp_part.append(len(partition[i]))\n",
    "        \n",
    "        save_obj(mu, \"mu\" + str(k)+\".pckl\")\n",
    "\n",
    "\n",
    "        if (sum(abs(np.array(temp_part) - np.array(part_length))) >= k):\n",
    "            part_length = temp_part\n",
    "        else:\n",
    "            print(\"done\")\n",
    "            return mu"
   ]
  },
  {
   "cell_type": "code",
   "execution_count": null,
   "metadata": {
    "collapsed": true
   },
   "outputs": [],
   "source": [
    "def draw_centroid(centroids):\n",
    "    length = len(centroids)\n",
    "    for i in range(length):\n",
    "        temp = np.array(centroids[i]).reshape(28, 28)\n",
    "        imsave(str(i) + '.png', temp)\n",
    "        \n",
    "def visualization_kmeans(centroids):\n",
    "    length = len(centroids)\n",
    "    for i in range(length):\n",
    "        temp = np.array(centroids[i]).reshape(28, 28)\n",
    "        plt.imshow(temp)\n",
    "        plt.show()"
   ]
  },
  {
   "cell_type": "code",
   "execution_count": null,
   "metadata": {
    "collapsed": false,
    "scrolled": false
   },
   "outputs": [],
   "source": [
    "centroids_k5 = k_means(mnist_data, k = 5, max_iter = 500)\n",
    "centroids_k10 = k_means(mnist_data, k = 10, max_iter = 500)\n",
    "centroids_k20 = k_means(mnist_data, k = 20, max_iter = 500)\n",
    "\n",
    "# mu = load_obj(\"mu\" + str(10)+\".pckl\")"
   ]
  },
  {
   "cell_type": "code",
   "execution_count": null,
   "metadata": {
    "collapsed": false,
    "scrolled": false
   },
   "outputs": [],
   "source": [
    "visualization_kmeans(centroids_k5)\n",
    "draw_centroid(centroids_k5)"
   ]
  },
  {
   "cell_type": "markdown",
   "metadata": {},
   "source": [
    "## Low-Rank Approximation"
   ]
  },
  {
   "cell_type": "code",
   "execution_count": null,
   "metadata": {
    "collapsed": false
   },
   "outputs": [],
   "source": [
    "face = imread(\"/Users/clark/Desktop/189Data/hw7_data/low-rank_data/face.jpg\")\n",
    "sky = imread(\"/Users/clark/Desktop/189Data/hw7_data/low-rank_data/sky.jpg\")"
   ]
  },
  {
   "cell_type": "code",
   "execution_count": null,
   "metadata": {
    "collapsed": true
   },
   "outputs": [],
   "source": [
    "def rank_approx(image, rank):\n",
    "    u,s,v = np.linalg.svd(image)\n",
    "    #Note: Here, it factors the matrix as u * np.diag(s) * v, so we do not use v.T\n",
    "    S = np.zeros((u.shape[1], v.shape[0]))\n",
    "    for i in range(rank):\n",
    "        S[i][i] = s[i]\n",
    "    return np.dot(np.dot(u, S), v)\n",
    "def visualization_rank(image):\n",
    "    image = image.reshape(face.shape)\n",
    "    plt.imshow(image, cmap='gray')\n",
    "    plt.show()"
   ]
  },
  {
   "cell_type": "code",
   "execution_count": null,
   "metadata": {
    "collapsed": true
   },
   "outputs": [],
   "source": [
    "def mse(orig, low_rank):\n",
    "    result = np.mean((orig-low_rank) ** 2)\n",
    "    return result\n",
    "def plot_mse(image):\n",
    "    errors = []\n",
    "    for i in range(1, 101):\n",
    "        low_rank = rank_approx(image, i)\n",
    "        error = mse(image, low_rank)\n",
    "        errors.append(error)\n",
    "    plt.plot(range(1, 101), errors)\n",
    "    plt.xlabel(\"Rank\")\n",
    "    plt.ylabel(\"Mean Squared Error\")\n",
    "    plt.title(\"Mean Squared Error vs Rank Graph\")\n",
    "    plt.show()"
   ]
  },
  {
   "cell_type": "code",
   "execution_count": null,
   "metadata": {
    "collapsed": false
   },
   "outputs": [],
   "source": [
    "rank5 = rank_approx(face, 5)\n",
    "imsave(\"face_rank5\" + '.png', rank5)\n",
    "rank20 = rank_approx(face, 20)\n",
    "imsave(\"face_rank20\" + '.png', rank20)\n",
    "rank100 = rank_approx(face, 100)\n",
    "imsave(\"face_rank100\" + '.png', rank100)"
   ]
  },
  {
   "cell_type": "code",
   "execution_count": null,
   "metadata": {
    "collapsed": false,
    "scrolled": false
   },
   "outputs": [],
   "source": [
    "visualization_rank(rank5)\n",
    "visualization_rank(rank20)\n",
    "visualization_rank(rank100)"
   ]
  },
  {
   "cell_type": "code",
   "execution_count": null,
   "metadata": {
    "collapsed": false,
    "scrolled": true
   },
   "outputs": [],
   "source": [
    "plot_mse(face)"
   ]
  },
  {
   "cell_type": "code",
   "execution_count": null,
   "metadata": {
    "collapsed": false
   },
   "outputs": [],
   "source": [
    "rank5 = rank_approx(sky, 5)\n",
    "imsave(\"sky_rank5\" + '.png', rank5)\n",
    "rank20 = rank_approx(sky, 20)\n",
    "imsave(\"sky_rank20\" + '.png', rank20)\n",
    "rank100 = rank_approx(sky, 100)\n",
    "imsave(\"sky_rank100\" + '.png', rank100)"
   ]
  },
  {
   "cell_type": "code",
   "execution_count": null,
   "metadata": {
    "collapsed": false,
    "scrolled": false
   },
   "outputs": [],
   "source": [
    "visualization_rank(rank5)\n",
    "visualization_rank(rank20)\n",
    "visualization_rank(rank100)"
   ]
  },
  {
   "cell_type": "markdown",
   "metadata": {},
   "source": [
    "## Joke Recommender Syster"
   ]
  },
  {
   "cell_type": "code",
   "execution_count": 3,
   "metadata": {
    "collapsed": true
   },
   "outputs": [],
   "source": [
    "# m: jokes\n",
    "num_jokes = 100\n",
    "# n: users\n",
    "num_users = 24983"
   ]
  },
  {
   "cell_type": "markdown",
   "metadata": {},
   "source": [
    "### Data Preprocessing"
   ]
  },
  {
   "cell_type": "code",
   "execution_count": 4,
   "metadata": {
    "collapsed": true
   },
   "outputs": [],
   "source": [
    "def read_txt(file):\n",
    "    lst = []\n",
    "    f = open(file, \"r\")\n",
    "    lines = f.readlines()\n",
    "    for line in lines:\n",
    "        line = line.split(\",\")\n",
    "        lst.append([int(line[0]), int(line[1]), int(line[2])])\n",
    "    return np.array(lst)"
   ]
  },
  {
   "cell_type": "code",
   "execution_count": 5,
   "metadata": {
    "collapsed": true
   },
   "outputs": [],
   "source": [
    "train = loadmat(\"/Users/clark/Desktop/189Data/hw7_data/joke_data/joke_train.mat\")[\"train\"]\n",
    "#Replace all missing values by zero\n",
    "train_filled_with_zero = np.nan_to_num(train)\n",
    "u,s,v = np.linalg.svd(train_filled_with_zero)\n",
    "validation = read_txt(\"/Users/clark/Desktop/189Data/hw7_data/joke_data/validation.txt\")\n",
    "test = read_txt(\"/Users/clark/Desktop/189Data/hw7_data/joke_data/query.txt\")"
   ]
  },
  {
   "cell_type": "code",
   "execution_count": 91,
   "metadata": {
    "collapsed": false
   },
   "outputs": [],
   "source": [
    "def low_dim_approx(u,s,v, rank):\n",
    "    #Computation of U,S,V is too slow. Thus, we will only compute it once. \n",
    "    #Note: Here, it factors the matrix as u * np.diag(s) * v, so we do not use v.T\n",
    "    S = np.zeros((u.shape[1], v.shape[0]))\n",
    "    for i in range(rank):\n",
    "        S[i][i] = s[i]\n",
    "    return np.dot(np.dot(u, S), v)\n",
    "\n",
    "def usv_process(u,s,v,d):\n",
    "    new_u = np.array([row[:d] for row in u])\n",
    "    new_v = np.array([row[:d] for row in v.T])\n",
    "    new_s = np.identity(d)\n",
    "    for i in range(d):\n",
    "        new_s[i][i] = s[i]\n",
    "    return new_u, new_s, new_v\n",
    "\n",
    "def mse(orig, pred):\n",
    "    uv = []\n",
    "    r = []\n",
    "    for i in range(orig.shape[0]):\n",
    "        for j in range(orig.shape[1]):\n",
    "            if not np.isnan(orig[i][j]):\n",
    "                r.append(orig[i][j])\n",
    "                uv.append(pred[i][j])\n",
    "    uv = np.array(uv)\n",
    "    r = np.array(r)\n",
    "    #Don't know why, but the equation on pdf seems like it doesn't take the mean.\n",
    "    #Instead, it takes the sum. I will use the mean here since by definition MSE should be the mean\n",
    "    result = np.mean((uv-r) ** 2)\n",
    "    return result\n",
    "\n",
    "#Recall that <u_i, v_j> approximates R_{ij}\n",
    "#s = 1 iff rating > 0\n",
    "def validate(validation, prediction):\n",
    "    correct = 0.0\n",
    "    #User index and joke index start at 1\n",
    "    user_index = [val[0] for val in validation]\n",
    "    joke_index = [val[1] for val in validation]\n",
    "    user_like = [val[2] for val in validation]\n",
    "    length = len(validation)\n",
    "    for index in range(length):\n",
    "        i = user_index[index] - 1\n",
    "        j = joke_index[index] - 1\n",
    "        s = user_like[index]\n",
    "        #User like joke:\n",
    "        if (s == 1 and prediction[i][j] > 0):\n",
    "            correct += 1\n",
    "        elif (s == 0 and prediction[i][j] <= 0):\n",
    "            correct += 1\n",
    "    return correct / length"
   ]
  },
  {
   "cell_type": "code",
   "execution_count": null,
   "metadata": {
    "collapsed": false
   },
   "outputs": [],
   "source": [
    "for d in [2, 5, 10, 20]:\n",
    "    pred = low_dim_approx(u,s,v, d)\n",
    "    mean_square_error = mse(train, pred)\n",
    "    accuaracy = validate(validation, pred)\n",
    "    print(\"When d is \" + str(d) + \", MSE is \" + str(mean_square_error) + \", accuracy is \" + str(accuaracy) + \".\")"
   ]
  },
  {
   "cell_type": "code",
   "execution_count": 92,
   "metadata": {
    "collapsed": false
   },
   "outputs": [],
   "source": [
    "def train_and_pred(u, v, data, d = 20, max_iter=1, lamb=350):\n",
    "    u_shape = u.shape\n",
    "    v_shape = v.shape\n",
    "    new_u = u\n",
    "    new_v = v\n",
    "    for count in range(max_iter):\n",
    "        for i in range(u_shape[0]):\n",
    "            left = lamb * np.identity(d)\n",
    "            right = np.zeros((d, 1))\n",
    "            for j in range(v_shape[0]):\n",
    "                if not np.isnan(data[i][j]):\n",
    "                    vj = new_v[j].reshape(d, 1)\n",
    "                    left += np.dot(vj, vj.T)\n",
    "                    right += data[i][j] * vj\n",
    "            #Ax = b -> x = A^{-1} b -> numpy.linalg.solve\n",
    "#             print(np.linalg.inv(left).shape)\n",
    "#             print(right.shape)\n",
    "#             print(np.dot(np.linalg.inv(left), right).shape)\n",
    "#             print(new_u[i].shape)\n",
    "            new_u[i] = np.dot(np.linalg.inv(left), right).reshape(d,)\n",
    "        for j in range(v_shape[0]):\n",
    "            left = lamb * np.identity(d)\n",
    "            right = np.zeros((d, 1))\n",
    "            for i in range(u_shape[0]):\n",
    "                if not np.isnan(data[i][j]):\n",
    "                    ui = new_u[i].reshape(d, 1)\n",
    "                    left += np.dot(ui, ui.T)\n",
    "                    right += data[i][j] * ui\n",
    "            new_v[j] = np.dot(np.linalg.inv(left), right).reshape(d,)\n",
    "        print(count)\n",
    "#         if count % 10 == 0:\n",
    "#             save_obj(new_u, str(d) + \"_u_iter_\" + str(count) + \".p\")\n",
    "#             save_obj(new_v, str(d) + \"_v_iter_\" + str(count) + \".p\")\n",
    "    return np.dot(new_u, new_v.T)"
   ]
  },
  {
   "cell_type": "code",
   "execution_count": null,
   "metadata": {
    "collapsed": true
   },
   "outputs": [],
   "source": [
    "# def train_with_saved(u_name, v_name, data, d = 20, max_iter=500, lamb=1.1, counts = 0):\n",
    "#     new_u = np.matrix(load_obj(u_name))\n",
    "#     new_v = np.matrix(load_obj(v_name))\n",
    "#     u_shape = new_u.shape\n",
    "#     v_shape = new_v.shape\n",
    "#     count = counts\n",
    "#     while count <= max_iter:\n",
    "#         for i in range(u_shape[0]):\n",
    "#             left = np.zeros(v_shape)\n",
    "#             right = np.zeros((v_shape[0], 1))\n",
    "#             for temp in range(d):\n",
    "#                 left[temp][temp] = lamb * 1\n",
    "#             for j in range(v_shape[0]):\n",
    "#                 if not np.isnan(data[i][j]):\n",
    "#                     vj = new_v[j].reshape(v_shape[0], 1)\n",
    "#                     left += np.dot(vj, vj.T)\n",
    "#                     right += data[i][j] * vj\n",
    "#             #Ax = b -> x = A^{-1} b -> numpy.linalg.solve\n",
    "#             left += 1e-8 * np.identity(v_shape[0])\n",
    "#             new_u[i] = np.linalg.solve(left, right).T\n",
    "#         for j in range(v_shape[0]):\n",
    "#             left = np.zeros((v_shape))\n",
    "#             right = np.zeros((v_shape[0], 1))\n",
    "#             for temp in range(d):\n",
    "#                 left[temp][temp] = lamb * 1\n",
    "#             for i in range(u_shape[0]):\n",
    "#                 if not np.isnan(data[i][j]):\n",
    "#                     ui = new_u[i].reshape(v_shape[0], 1)\n",
    "\n",
    "#                     left += np.dot(ui, ui.T)\n",
    "#                     right += data[i][j] * ui\n",
    "                    \n",
    "#             left += 1e-8 * np.identity(v_shape[0])\n",
    "#             new_v[j] = np.linalg.solve(left, right).T\n",
    "#         if count % 10 == 0:\n",
    "#             save_obj(new_u, str(d) + \"_u_iter_\" + str(count) + \".p\")\n",
    "#             save_obj(new_v, str(d) + \"_v_iter_\" + str(count) + \".p\")\n",
    "#         count += 1\n",
    "#     return np.dot(new_u, new_v.T)"
   ]
  },
  {
   "cell_type": "code",
   "execution_count": 8,
   "metadata": {
    "collapsed": true
   },
   "outputs": [],
   "source": [
    "def predict(approx, test):\n",
    "    #Each line takes the form “id, i, j”. You are asked to predict if user i likes joke j\n",
    "    user_id = [t[0] for t in test]\n",
    "    user_index = [t[1] for t in test]\n",
    "    joke_index = [t[2] for t in test]\n",
    "    length = len(user_id)\n",
    "    s = np.zeros(length, dtype=int)\n",
    "    for index in range(length):\n",
    "        i = user_index[index] - 1\n",
    "        j = joke_index[index] - 1\n",
    "        #User like joke:\n",
    "        if (approx[i][j] > 0):\n",
    "            s[index] = 1\n",
    "        else:\n",
    "            s[index] = 0\n",
    "    return s"
   ]
  },
  {
   "cell_type": "markdown",
   "metadata": {},
   "source": [
    "## Train lambda"
   ]
  },
  {
   "cell_type": "code",
   "execution_count": 142,
   "metadata": {
    "collapsed": true
   },
   "outputs": [
    {
     "name": "stdout",
     "output_type": "stream",
     "text": [
      "0\n",
      "1\n",
      "2\n",
      "3\n",
      "4\n",
      "At lambda is 0.001, our validation accuracy is 0.6655826558265583\n",
      "0\n",
      "1\n",
      "2\n",
      "3\n",
      "4\n",
      "At lambda is 0.01, our validation accuracy is 0.67289972899729\n",
      "0\n",
      "1\n",
      "2\n",
      "3\n",
      "4\n",
      "At lambda is 0.1, our validation accuracy is 0.6802168021680217\n",
      "0\n",
      "1\n",
      "2\n",
      "3\n",
      "4\n",
      "At lambda is 1, our validation accuracy is 0.6804878048780488\n",
      "0\n",
      "1\n",
      "2\n",
      "3\n",
      "4\n",
      "At lambda is 10, our validation accuracy is 0.6796747967479675\n",
      "0\n",
      "1\n",
      "2\n",
      "3\n",
      "4\n",
      "At lambda is 100, our validation accuracy is 0.7084010840108401\n",
      "0\n",
      "1\n",
      "2\n",
      "3\n",
      "4\n",
      "At lambda is 1000, our validation accuracy is 0.6685636856368564\n"
     ]
    }
   ],
   "source": [
    "for l in np.arange(-3,4):\n",
    "    lam = 10 ** l\n",
    "    ddd= 20\n",
    "    new_u, new_s, new_v = usv_process(u,s,v,ddd)\n",
    "    estimate2 = train_and_pred(new_u, new_v, train, ddd, max_iter=5, lamb=lam)\n",
    "    save_obj(estimate2, \"lambda_\" + str(lam) + \"_5times_\"+str(ddd)+\".p\")\n",
    "    print(\"At lambda is \" + str(lam) + \", our validation accuracy is \" + str(validate(validation, np.array(estimate2))))"
   ]
  },
  {
   "cell_type": "code",
   "execution_count": 149,
   "metadata": {
    "collapsed": false,
    "scrolled": true
   },
   "outputs": [
    {
     "name": "stdout",
     "output_type": "stream",
     "text": [
      "0\n",
      "1\n",
      "2\n",
      "3\n",
      "4\n",
      "5\n",
      "6\n",
      "7\n",
      "8\n",
      "9\n",
      "10\n",
      "11\n",
      "12\n",
      "13\n",
      "14\n",
      "15\n",
      "16\n",
      "17\n",
      "18\n",
      "19\n",
      "When lambda is 350, at d = 20, our validation accuracy with 20 iteration is 0.7365853658536585\n",
      "0\n",
      "1\n",
      "2\n",
      "3\n",
      "4\n",
      "5\n",
      "6\n",
      "7\n",
      "8\n",
      "9\n",
      "10\n",
      "11\n",
      "12\n",
      "13\n",
      "14\n",
      "15\n",
      "16\n",
      "17\n",
      "18\n",
      "19\n",
      "When lambda is 350, at d = 20, our validation accuracy with 20 iteration is 0.7344173441734417\n",
      "0\n",
      "1\n",
      "2\n",
      "3\n",
      "4\n",
      "5\n",
      "6\n",
      "7\n",
      "8\n",
      "9\n",
      "10\n",
      "11\n",
      "12\n",
      "13\n",
      "14\n",
      "15\n",
      "16\n",
      "17\n",
      "18\n",
      "19\n",
      "20\n",
      "21\n",
      "22\n",
      "23\n",
      "24\n",
      "25\n",
      "26\n",
      "27\n",
      "28\n",
      "29\n",
      "When lambda is 350, at d = 20, our validation accuracy with 30 iteration is 0.7357723577235772\n",
      "0\n",
      "1\n",
      "2\n",
      "3\n",
      "4\n",
      "5\n",
      "6\n",
      "7\n",
      "8\n",
      "9\n",
      "10\n",
      "11\n",
      "12\n",
      "13\n",
      "14\n",
      "15\n",
      "16\n",
      "17\n",
      "18\n",
      "19\n",
      "20\n",
      "21\n",
      "22\n",
      "23\n",
      "24\n",
      "25\n",
      "26\n",
      "27\n",
      "28\n",
      "29\n",
      "When lambda is 350, at d = 20, our validation accuracy with 30 iteration is 0.7336043360433604\n",
      "0\n",
      "1\n",
      "2\n",
      "3\n",
      "4\n",
      "5\n",
      "6\n",
      "7\n",
      "8\n",
      "9\n",
      "10\n",
      "11\n",
      "12\n",
      "13\n",
      "14\n",
      "15\n",
      "16\n",
      "17\n",
      "18\n",
      "19\n",
      "20\n",
      "21\n",
      "22\n",
      "23\n",
      "24\n",
      "25\n",
      "26\n",
      "27\n",
      "28\n",
      "29\n",
      "30\n",
      "31\n",
      "32\n",
      "33\n",
      "34\n",
      "35\n",
      "36\n",
      "37\n",
      "38\n",
      "39\n",
      "When lambda is 350, at d = 20, our validation accuracy with 40 iteration is 0.7357723577235772\n",
      "0\n",
      "1\n",
      "2\n",
      "3\n",
      "4\n",
      "5\n",
      "6\n",
      "7\n",
      "8\n",
      "9\n",
      "10\n",
      "11\n",
      "12\n",
      "13\n",
      "14\n",
      "15\n",
      "16\n",
      "17\n",
      "18\n",
      "19\n",
      "20\n",
      "21\n",
      "22\n",
      "23\n",
      "24\n",
      "25\n",
      "26\n",
      "27\n",
      "28\n",
      "29\n",
      "30\n",
      "31\n",
      "32\n",
      "33\n",
      "34\n",
      "35\n",
      "36\n",
      "37\n",
      "38\n",
      "39\n",
      "When lambda is 350, at d = 20, our validation accuracy with 40 iteration is 0.7314363143631436\n",
      "0\n",
      "1\n",
      "2\n",
      "3\n",
      "4\n",
      "5\n",
      "6\n",
      "7\n",
      "8\n",
      "9\n",
      "10\n",
      "11\n",
      "12\n",
      "13\n",
      "14\n"
     ]
    },
    {
     "ename": "KeyboardInterrupt",
     "evalue": "",
     "output_type": "error",
     "traceback": [
      "\u001b[0;31m---------------------------------------------------------------------------\u001b[0m",
      "\u001b[0;31mKeyboardInterrupt\u001b[0m                         Traceback (most recent call last)",
      "\u001b[0;32m<ipython-input-149-5c5497743414>\u001b[0m in \u001b[0;36m<module>\u001b[0;34m()\u001b[0m\n\u001b[1;32m      3\u001b[0m     \u001b[0mddd\u001b[0m\u001b[0;34m=\u001b[0m \u001b[0;36m20\u001b[0m\u001b[0;34m\u001b[0m\u001b[0m\n\u001b[1;32m      4\u001b[0m     \u001b[0mnew_u\u001b[0m\u001b[0;34m,\u001b[0m \u001b[0mnew_s\u001b[0m\u001b[0;34m,\u001b[0m \u001b[0mnew_v\u001b[0m \u001b[0;34m=\u001b[0m \u001b[0musv_process\u001b[0m\u001b[0;34m(\u001b[0m\u001b[0mu\u001b[0m\u001b[0;34m,\u001b[0m\u001b[0ms\u001b[0m\u001b[0;34m,\u001b[0m\u001b[0mv\u001b[0m\u001b[0;34m,\u001b[0m\u001b[0mddd\u001b[0m\u001b[0;34m)\u001b[0m\u001b[0;34m\u001b[0m\u001b[0m\n\u001b[0;32m----> 5\u001b[0;31m     \u001b[0mestimate2\u001b[0m \u001b[0;34m=\u001b[0m \u001b[0mtrain_and_pred\u001b[0m\u001b[0;34m(\u001b[0m\u001b[0mnew_u\u001b[0m\u001b[0;34m,\u001b[0m \u001b[0mnew_v\u001b[0m\u001b[0;34m,\u001b[0m \u001b[0mtrain\u001b[0m\u001b[0;34m,\u001b[0m \u001b[0mddd\u001b[0m\u001b[0;34m,\u001b[0m \u001b[0mmax_iter\u001b[0m\u001b[0;34m=\u001b[0m\u001b[0miter_time\u001b[0m\u001b[0;34m,\u001b[0m \u001b[0mlamb\u001b[0m\u001b[0;34m=\u001b[0m\u001b[0mlam\u001b[0m\u001b[0;34m)\u001b[0m\u001b[0;34m\u001b[0m\u001b[0m\n\u001b[0m\u001b[1;32m      6\u001b[0m     \u001b[0msave_obj\u001b[0m\u001b[0;34m(\u001b[0m\u001b[0mestimate2\u001b[0m\u001b[0;34m,\u001b[0m \u001b[0;34m\"lambda_\"\u001b[0m \u001b[0;34m+\u001b[0m \u001b[0mstr\u001b[0m\u001b[0;34m(\u001b[0m\u001b[0;36m350\u001b[0m\u001b[0;34m)\u001b[0m \u001b[0;34m+\u001b[0m \u001b[0;34m\"_\"\u001b[0m \u001b[0;34m+\u001b[0m \u001b[0mstr\u001b[0m\u001b[0;34m(\u001b[0m\u001b[0miter_time\u001b[0m\u001b[0;34m)\u001b[0m \u001b[0;34m+\u001b[0m \u001b[0;34m\"times_\"\u001b[0m\u001b[0;34m+\u001b[0m\u001b[0mstr\u001b[0m\u001b[0;34m(\u001b[0m\u001b[0;36m20\u001b[0m\u001b[0;34m)\u001b[0m\u001b[0;34m+\u001b[0m\u001b[0;34m\".p\"\u001b[0m\u001b[0;34m)\u001b[0m\u001b[0;34m\u001b[0m\u001b[0m\n\u001b[1;32m      7\u001b[0m     \u001b[0mprint\u001b[0m\u001b[0;34m(\u001b[0m\u001b[0;34m\"When lambda is 350, at d = \"\u001b[0m \u001b[0;34m+\u001b[0m \u001b[0mstr\u001b[0m\u001b[0;34m(\u001b[0m\u001b[0mddd\u001b[0m\u001b[0;34m)\u001b[0m \u001b[0;34m+\u001b[0m \u001b[0;34m\", our validation accuracy with \"\u001b[0m \u001b[0;34m+\u001b[0m \u001b[0mstr\u001b[0m\u001b[0;34m(\u001b[0m\u001b[0miter_time\u001b[0m\u001b[0;34m)\u001b[0m \u001b[0;34m+\u001b[0m \u001b[0;34m\" iteration is \"\u001b[0m \u001b[0;34m+\u001b[0m \u001b[0mstr\u001b[0m\u001b[0;34m(\u001b[0m\u001b[0mvalidate\u001b[0m\u001b[0;34m(\u001b[0m\u001b[0mvalidation\u001b[0m\u001b[0;34m,\u001b[0m \u001b[0mnp\u001b[0m\u001b[0;34m.\u001b[0m\u001b[0marray\u001b[0m\u001b[0;34m(\u001b[0m\u001b[0mestimate2\u001b[0m\u001b[0;34m)\u001b[0m\u001b[0;34m)\u001b[0m\u001b[0;34m)\u001b[0m\u001b[0;34m)\u001b[0m\u001b[0;34m\u001b[0m\u001b[0m\n",
      "\u001b[0;32m<ipython-input-92-af23446045f0>\u001b[0m in \u001b[0;36mtrain_and_pred\u001b[0;34m(u, v, data, d, max_iter, lamb)\u001b[0m\n\u001b[1;32m     23\u001b[0m             \u001b[0mright\u001b[0m \u001b[0;34m=\u001b[0m \u001b[0mnp\u001b[0m\u001b[0;34m.\u001b[0m\u001b[0mzeros\u001b[0m\u001b[0;34m(\u001b[0m\u001b[0;34m(\u001b[0m\u001b[0md\u001b[0m\u001b[0;34m,\u001b[0m \u001b[0;36m1\u001b[0m\u001b[0;34m)\u001b[0m\u001b[0;34m)\u001b[0m\u001b[0;34m\u001b[0m\u001b[0m\n\u001b[1;32m     24\u001b[0m             \u001b[0;32mfor\u001b[0m \u001b[0mi\u001b[0m \u001b[0;32min\u001b[0m \u001b[0mrange\u001b[0m\u001b[0;34m(\u001b[0m\u001b[0mu_shape\u001b[0m\u001b[0;34m[\u001b[0m\u001b[0;36m0\u001b[0m\u001b[0;34m]\u001b[0m\u001b[0;34m)\u001b[0m\u001b[0;34m:\u001b[0m\u001b[0;34m\u001b[0m\u001b[0m\n\u001b[0;32m---> 25\u001b[0;31m                 \u001b[0;32mif\u001b[0m \u001b[0;32mnot\u001b[0m \u001b[0mnp\u001b[0m\u001b[0;34m.\u001b[0m\u001b[0misnan\u001b[0m\u001b[0;34m(\u001b[0m\u001b[0mdata\u001b[0m\u001b[0;34m[\u001b[0m\u001b[0mi\u001b[0m\u001b[0;34m]\u001b[0m\u001b[0;34m[\u001b[0m\u001b[0mj\u001b[0m\u001b[0;34m]\u001b[0m\u001b[0;34m)\u001b[0m\u001b[0;34m:\u001b[0m\u001b[0;34m\u001b[0m\u001b[0m\n\u001b[0m\u001b[1;32m     26\u001b[0m                     \u001b[0mui\u001b[0m \u001b[0;34m=\u001b[0m \u001b[0mnew_u\u001b[0m\u001b[0;34m[\u001b[0m\u001b[0mi\u001b[0m\u001b[0;34m]\u001b[0m\u001b[0;34m.\u001b[0m\u001b[0mreshape\u001b[0m\u001b[0;34m(\u001b[0m\u001b[0md\u001b[0m\u001b[0;34m,\u001b[0m \u001b[0;36m1\u001b[0m\u001b[0;34m)\u001b[0m\u001b[0;34m\u001b[0m\u001b[0m\n\u001b[1;32m     27\u001b[0m                     \u001b[0mleft\u001b[0m \u001b[0;34m+=\u001b[0m \u001b[0mnp\u001b[0m\u001b[0;34m.\u001b[0m\u001b[0mdot\u001b[0m\u001b[0;34m(\u001b[0m\u001b[0mui\u001b[0m\u001b[0;34m,\u001b[0m \u001b[0mui\u001b[0m\u001b[0;34m.\u001b[0m\u001b[0mT\u001b[0m\u001b[0;34m)\u001b[0m\u001b[0;34m\u001b[0m\u001b[0m\n",
      "\u001b[0;31mKeyboardInterrupt\u001b[0m: "
     ]
    }
   ],
   "source": [
    "for iter_time in np.arange(10, 50, 10):\n",
    "    lam = 350\n",
    "    ddd= 20\n",
    "    new_u, new_s, new_v = usv_process(u,s,v,ddd)\n",
    "    estimate2 = train_and_pred(new_u, new_v, train, ddd, max_iter=iter_time, lamb=lam)\n",
    "    save_obj(estimate2, \"lambda_\" + str(350) + \"_\" + str(iter_time) + \"times_\"+str(20)+\".p\")\n",
    "    print(\"When lambda is 350, at d = \" + str(ddd) + \", our validation accuracy with \" + str(iter_time) + \" iteration is \" + str(validate(validation, np.array(estimate2))))\n",
    "    \n",
    "    dddddd= 15\n",
    "    new_u, new_s, new_v = usv_process(u,s,v,dddddd)\n",
    "    estimate3 = train_and_pred(new_u, new_v, train, dddddd, max_iter=iter_time, lamb=lam)\n",
    "    save_obj(estimate3, \"lambda_\" + str(350) + \"_\" + str(iter_time) + \"times_\"+str(15)+\".p\")\n",
    "    print(\"When lambda is 350, at d = \" + str(dddddd) + \", our validation accuracy with \" + str(iter_time) + \" iteration is \" +  str(validate(validation, np.array(estimate3))))"
   ]
  },
  {
   "cell_type": "markdown",
   "metadata": {},
   "source": [
    "## Train Classifier with best lambda so far"
   ]
  },
  {
   "cell_type": "code",
   "execution_count": 104,
   "metadata": {
    "collapsed": true
   },
   "outputs": [
    {
     "name": "stdout",
     "output_type": "stream",
     "text": [
      "0\n",
      "1\n",
      "2\n",
      "3\n",
      "4\n",
      "5\n",
      "6\n",
      "7\n",
      "8\n",
      "9\n",
      "10\n",
      "11\n",
      "12\n",
      "13\n",
      "14\n",
      "15\n",
      "16\n",
      "17\n",
      "18\n",
      "19\n",
      "20\n",
      "21\n",
      "22\n",
      "23\n",
      "24\n",
      "25\n",
      "26\n",
      "27\n",
      "28\n",
      "29\n",
      "30\n",
      "31\n",
      "32\n",
      "33\n",
      "34\n",
      "35\n",
      "36\n",
      "37\n",
      "38\n",
      "39\n",
      "40\n",
      "41\n",
      "42\n",
      "43\n",
      "44\n",
      "45\n",
      "46\n",
      "47\n",
      "48\n",
      "49\n"
     ]
    }
   ],
   "source": [
    "d = 20\n",
    "new_u, new_s, new_v = usv_process(u,s,v,d)\n",
    "estimate = train_and_pred(new_u, new_v, train, d, max_iter=50, lamb=500)"
   ]
  },
  {
   "cell_type": "code",
   "execution_count": 103,
   "metadata": {
    "collapsed": false,
    "scrolled": true
   },
   "outputs": [
    {
     "name": "stdout",
     "output_type": "stream",
     "text": [
      "0.7330623306233063\n"
     ]
    }
   ],
   "source": [
    "print(validate(validation, np.array(estimate)))"
   ]
  },
  {
   "cell_type": "code",
   "execution_count": 102,
   "metadata": {
    "collapsed": false
   },
   "outputs": [],
   "source": []
  },
  {
   "cell_type": "markdown",
   "metadata": {},
   "source": [
    "lamb = 1.1 : 0.6745257452574526\n"
   ]
  },
  {
   "cell_type": "code",
   "execution_count": 105,
   "metadata": {
    "collapsed": true
   },
   "outputs": [
    {
     "name": "stdout",
     "output_type": "stream",
     "text": [
      "0\n",
      "1\n",
      "2\n",
      "3\n",
      "4\n",
      "5\n",
      "6\n",
      "7\n",
      "8\n",
      "9\n",
      "10\n",
      "11\n",
      "12\n",
      "13\n",
      "14\n",
      "15\n",
      "16\n",
      "17\n",
      "18\n",
      "19\n",
      "20\n",
      "21\n",
      "22\n",
      "23\n",
      "24\n",
      "25\n",
      "26\n",
      "27\n",
      "28\n",
      "29\n",
      "30\n",
      "31\n",
      "32\n",
      "33\n",
      "34\n",
      "35\n",
      "36\n",
      "37\n",
      "38\n",
      "39\n",
      "40\n",
      "41\n",
      "42\n",
      "43\n",
      "44\n",
      "45\n",
      "46\n",
      "47\n",
      "48\n",
      "49\n"
     ]
    }
   ],
   "source": [
    "save_obj(estimate, \"lambda_500_50times.p\")\n",
    "d = 35\n",
    "new_u, new_s, new_v = usv_process(u,s,v,d)\n",
    "estimate1 = train_and_pred(new_u, new_v, train, d, max_iter=50, lamb=300)\n",
    "save_obj(estimate1, \"lambda_300_50times_d_35.p\")"
   ]
  },
  {
   "cell_type": "code",
   "execution_count": 107,
   "metadata": {
    "collapsed": true
   },
   "outputs": [
    {
     "name": "stdout",
     "output_type": "stream",
     "text": [
      "0\n",
      "1\n",
      "2\n",
      "3\n",
      "4\n",
      "5\n",
      "6\n",
      "7\n",
      "8\n",
      "9\n",
      "10\n",
      "11\n",
      "12\n",
      "13\n",
      "14\n",
      "15\n",
      "16\n",
      "17\n",
      "18\n",
      "19\n",
      "20\n",
      "21\n",
      "22\n",
      "23\n",
      "24\n",
      "25\n",
      "26\n",
      "27\n",
      "28\n",
      "29\n",
      "30\n",
      "31\n",
      "32\n",
      "33\n",
      "34\n",
      "35\n",
      "36\n",
      "37\n",
      "38\n",
      "39\n",
      "40\n",
      "41\n",
      "42\n",
      "43\n",
      "44\n",
      "45\n",
      "46\n",
      "47\n",
      "48\n",
      "49\n",
      "0\n",
      "1\n",
      "2\n",
      "3\n",
      "4\n",
      "5\n",
      "6\n",
      "7\n",
      "8\n",
      "9\n",
      "10\n",
      "11\n",
      "12\n",
      "13\n",
      "14\n",
      "15\n",
      "16\n",
      "17\n",
      "18\n",
      "19\n",
      "20\n",
      "21\n",
      "22\n",
      "23\n",
      "24\n",
      "25\n",
      "26\n",
      "27\n",
      "28\n",
      "29\n",
      "30\n",
      "31\n",
      "32\n",
      "33\n",
      "34\n",
      "35\n",
      "36\n",
      "37\n",
      "38\n",
      "39\n",
      "40\n",
      "41\n",
      "42\n",
      "43\n",
      "44\n",
      "45\n",
      "46\n",
      "47\n",
      "48\n",
      "49\n",
      "0\n",
      "1\n",
      "2\n",
      "3\n",
      "4\n",
      "5\n",
      "6\n",
      "7\n",
      "8\n",
      "9\n",
      "10\n",
      "11\n",
      "12\n",
      "13\n",
      "14\n",
      "15\n",
      "16\n",
      "17\n",
      "18\n",
      "19\n",
      "20\n",
      "21\n",
      "22\n",
      "23\n",
      "24\n",
      "25\n",
      "26\n",
      "27\n",
      "28\n",
      "29\n",
      "30\n",
      "31\n",
      "32\n",
      "33\n",
      "34\n",
      "35\n",
      "36\n",
      "37\n",
      "38\n",
      "39\n",
      "40\n",
      "41\n",
      "42\n",
      "43\n",
      "44\n",
      "45\n",
      "46\n",
      "47\n",
      "48\n",
      "49\n",
      "0\n",
      "1\n",
      "2\n",
      "3\n",
      "4\n",
      "5\n",
      "6\n",
      "7\n",
      "8\n",
      "9\n",
      "10\n",
      "11\n",
      "12\n",
      "13\n",
      "14\n",
      "15\n",
      "16\n",
      "17\n",
      "18\n",
      "19\n",
      "20\n",
      "21\n",
      "22\n",
      "23\n",
      "24\n",
      "25\n",
      "26\n",
      "27\n",
      "28\n",
      "29\n",
      "30\n",
      "31\n",
      "32\n",
      "33\n",
      "34\n",
      "35\n",
      "36\n",
      "37\n",
      "38\n",
      "39\n",
      "40\n",
      "41\n",
      "42\n",
      "43\n",
      "44\n",
      "45\n",
      "46\n",
      "47\n",
      "48\n",
      "49\n"
     ]
    }
   ],
   "source": [
    "for ddd in [2, 5, 10, 20]:\n",
    "    new_u, new_s, new_v = usv_process(u,s,v,ddd)\n",
    "    estimate2 = train_and_pred(new_u, new_v, train, ddd, max_iter=50, lamb=300)\n",
    "    save_obj(estimate2, \"lambda_300_50times_\"+str(ddd)+\".p\")"
   ]
  },
  {
   "cell_type": "markdown",
   "metadata": {},
   "source": [
    "## Test"
   ]
  },
  {
   "cell_type": "code",
   "execution_count": 150,
   "metadata": {
    "collapsed": false
   },
   "outputs": [
    {
     "name": "stdout",
     "output_type": "stream",
     "text": [
      "0.7357723577235772\n"
     ]
    }
   ],
   "source": [
    "model = np.array(load_obj(\"./lambda_350_40times_20.p\"))\n",
    "print(validate(validation, np.array(model)))"
   ]
  },
  {
   "cell_type": "code",
   "execution_count": 151,
   "metadata": {
    "collapsed": false,
    "scrolled": true
   },
   "outputs": [],
   "source": [
    "naive = predict(model, test)"
   ]
  },
  {
   "cell_type": "code",
   "execution_count": 152,
   "metadata": {
    "collapsed": false
   },
   "outputs": [
    {
     "data": {
      "text/plain": [
       "array([1, 1, 0, ..., 1, 1, 1])"
      ]
     },
     "execution_count": 152,
     "metadata": {},
     "output_type": "execute_result"
    }
   ],
   "source": [
    "naive"
   ]
  },
  {
   "cell_type": "code",
   "execution_count": 153,
   "metadata": {
    "collapsed": true
   },
   "outputs": [],
   "source": [
    "write_CSV(naive, \"jokes.txt\")"
   ]
  },
  {
   "cell_type": "code",
   "execution_count": null,
   "metadata": {
    "collapsed": true
   },
   "outputs": [],
   "source": []
  }
 ],
 "metadata": {
  "anaconda-cloud": {},
  "kernelspec": {
   "display_name": "Python 3",
   "language": "python",
   "name": "python3"
  },
  "language_info": {
   "codemirror_mode": {
    "name": "ipython",
    "version": 3
   },
   "file_extension": ".py",
   "mimetype": "text/x-python",
   "name": "python",
   "nbconvert_exporter": "python",
   "pygments_lexer": "ipython3",
   "version": "3.6.0"
  }
 },
 "nbformat": 4,
 "nbformat_minor": 1
}
